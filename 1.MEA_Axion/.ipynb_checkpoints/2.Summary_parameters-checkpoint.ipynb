{
 "cells": [
  {
   "cell_type": "code",
   "execution_count": 1,
   "id": "8dcd296c-c06e-4687-8969-0794e91ceb57",
   "metadata": {},
   "outputs": [],
   "source": [
    "setwd(\".../Code/0.Data/Axion_MEA_data_processed/\")"
   ]
  },
  {
   "cell_type": "code",
   "execution_count": null,
   "id": "aaea2db2-ab25-4c44-a307-abe458c61677",
   "metadata": {},
   "outputs": [],
   "source": [
    "library(dplyr)"
   ]
  },
  {
   "cell_type": "code",
   "execution_count": 2,
   "id": "bb967a8e-f442-40f2-ae00-ee4186c43d37",
   "metadata": {},
   "outputs": [],
   "source": [
    "parent.folder<-\".../Code/0.Data/Axion_MEA_data/DIVXX\""
   ]
  },
  {
   "cell_type": "code",
   "execution_count": 3,
   "id": "25ae7a92-38d6-4ea2-aa87-04298418a3e3",
   "metadata": {},
   "outputs": [],
   "source": [
    "all_summary_files <- list.files(parent.folder, full.names = T, recursive = T, pattern = \"Well_Summary_Parameters_hfNB_s150.csv\")\n",
    "toMatch <- c(\"2024_v4_results_hf_s150prop0.4_freqNB9_in_0.25\")\n",
    "matches <- unique (grep(paste(toMatch,collapse=\"|\"), \n",
    "                        all_summary_files, value=TRUE))\n",
    "\n",
    "all_summary_files<-all_summary_files[all_summary_files %in% matches]\n",
    "all_summary_files <- lapply(all_summary_files,read.csv)\n",
    "all_summary_files<-do.call(rbind, all_summary_files)\n",
    "all_summary_files<-all_summary_files[-1]"
   ]
  },
  {
   "cell_type": "code",
   "execution_count": 4,
   "id": "60b6493d-9a6a-43f8-be62-1d0c34ea55cb",
   "metadata": {},
   "outputs": [],
   "source": [
    "cell_line_overview<-read.csv(\".../Code/0.Data/Axion_MEA_data/cell_lines/Overview_MEA_lines.csv\")"
   ]
  },
  {
   "cell_type": "code",
   "execution_count": 5,
   "id": "19cb8d5b-c02b-48c2-aacb-3e67cb5f9693",
   "metadata": {},
   "outputs": [
    {
     "data": {
      "text/html": [
       "<style>\n",
       ".list-inline {list-style: none; margin:0; padding: 0}\n",
       ".list-inline>li {display: inline-block}\n",
       ".list-inline>li:not(:last-child)::after {content: \"\\00b7\"; padding: 0 .5ex}\n",
       "</style>\n",
       "<ol class=list-inline><li>'IPSI123'</li><li>'IPSI123_F_1um'</li><li>'IPSI123_PH_1um'</li><li>'KdVS_CR_F_10um'</li><li>'KdVS_CR_NT'</li><li>'KdVS_CR_P_10um'</li><li>'KdVS_CR_PH_10um'</li><li>'KdVS1_F_1um'</li><li>'KdVS1_NT'</li><li>'KdVS1_PH_1um'</li><li>'KdVS164_F_0.3um'</li><li>'KdVS164_F_1um'</li><li>'KdVS164_NT'</li><li>'KdVS164_P_0.3um'</li><li>'KdVS164_P_1um'</li><li>'KdVS164_PH_0.3um'</li><li>'KdVS164_PH_1um'</li><li>'KdVS2_F_1um'</li><li>'KdVS2_NT'</li><li>'KdVS2_PH_1um'</li><li>'KdVS3_F_1um'</li><li>'KdVS3_NT'</li><li>'KdVS3_PH_1um'</li><li>'Mother_CNT'</li><li>'WTC'</li><li>'WTC_F_1um'</li><li>'WTC_PH_1um'</li></ol>\n"
      ],
      "text/latex": [
       "\\begin{enumerate*}\n",
       "\\item 'IPSI123'\n",
       "\\item 'IPSI123\\_F\\_1um'\n",
       "\\item 'IPSI123\\_PH\\_1um'\n",
       "\\item 'KdVS\\_CR\\_F\\_10um'\n",
       "\\item 'KdVS\\_CR\\_NT'\n",
       "\\item 'KdVS\\_CR\\_P\\_10um'\n",
       "\\item 'KdVS\\_CR\\_PH\\_10um'\n",
       "\\item 'KdVS1\\_F\\_1um'\n",
       "\\item 'KdVS1\\_NT'\n",
       "\\item 'KdVS1\\_PH\\_1um'\n",
       "\\item 'KdVS164\\_F\\_0.3um'\n",
       "\\item 'KdVS164\\_F\\_1um'\n",
       "\\item 'KdVS164\\_NT'\n",
       "\\item 'KdVS164\\_P\\_0.3um'\n",
       "\\item 'KdVS164\\_P\\_1um'\n",
       "\\item 'KdVS164\\_PH\\_0.3um'\n",
       "\\item 'KdVS164\\_PH\\_1um'\n",
       "\\item 'KdVS2\\_F\\_1um'\n",
       "\\item 'KdVS2\\_NT'\n",
       "\\item 'KdVS2\\_PH\\_1um'\n",
       "\\item 'KdVS3\\_F\\_1um'\n",
       "\\item 'KdVS3\\_NT'\n",
       "\\item 'KdVS3\\_PH\\_1um'\n",
       "\\item 'Mother\\_CNT'\n",
       "\\item 'WTC'\n",
       "\\item 'WTC\\_F\\_1um'\n",
       "\\item 'WTC\\_PH\\_1um'\n",
       "\\end{enumerate*}\n"
      ],
      "text/markdown": [
       "1. 'IPSI123'\n",
       "2. 'IPSI123_F_1um'\n",
       "3. 'IPSI123_PH_1um'\n",
       "4. 'KdVS_CR_F_10um'\n",
       "5. 'KdVS_CR_NT'\n",
       "6. 'KdVS_CR_P_10um'\n",
       "7. 'KdVS_CR_PH_10um'\n",
       "8. 'KdVS1_F_1um'\n",
       "9. 'KdVS1_NT'\n",
       "10. 'KdVS1_PH_1um'\n",
       "11. 'KdVS164_F_0.3um'\n",
       "12. 'KdVS164_F_1um'\n",
       "13. 'KdVS164_NT'\n",
       "14. 'KdVS164_P_0.3um'\n",
       "15. 'KdVS164_P_1um'\n",
       "16. 'KdVS164_PH_0.3um'\n",
       "17. 'KdVS164_PH_1um'\n",
       "18. 'KdVS2_F_1um'\n",
       "19. 'KdVS2_NT'\n",
       "20. 'KdVS2_PH_1um'\n",
       "21. 'KdVS3_F_1um'\n",
       "22. 'KdVS3_NT'\n",
       "23. 'KdVS3_PH_1um'\n",
       "24. 'Mother_CNT'\n",
       "25. 'WTC'\n",
       "26. 'WTC_F_1um'\n",
       "27. 'WTC_PH_1um'\n",
       "\n",
       "\n"
      ],
      "text/plain": [
       " [1] \"IPSI123\"          \"IPSI123_F_1um\"    \"IPSI123_PH_1um\"   \"KdVS_CR_F_10um\"  \n",
       " [5] \"KdVS_CR_NT\"       \"KdVS_CR_P_10um\"   \"KdVS_CR_PH_10um\"  \"KdVS1_F_1um\"     \n",
       " [9] \"KdVS1_NT\"         \"KdVS1_PH_1um\"     \"KdVS164_F_0.3um\"  \"KdVS164_F_1um\"   \n",
       "[13] \"KdVS164_NT\"       \"KdVS164_P_0.3um\"  \"KdVS164_P_1um\"    \"KdVS164_PH_0.3um\"\n",
       "[17] \"KdVS164_PH_1um\"   \"KdVS2_F_1um\"      \"KdVS2_NT\"         \"KdVS2_PH_1um\"    \n",
       "[21] \"KdVS3_F_1um\"      \"KdVS3_NT\"         \"KdVS3_PH_1um\"     \"Mother_CNT\"      \n",
       "[25] \"WTC\"              \"WTC_F_1um\"        \"WTC_PH_1um\"      "
      ]
     },
     "metadata": {},
     "output_type": "display_data"
    },
    {
     "data": {
      "text/html": [
       "27"
      ],
      "text/latex": [
       "27"
      ],
      "text/markdown": [
       "27"
      ],
      "text/plain": [
       "[1] 27"
      ]
     },
     "metadata": {},
     "output_type": "display_data"
    }
   ],
   "source": [
    "levels(factor(all_summary_files$Phenotype))\n",
    "length(levels(factor(all_summary_files$Phenotype)))"
   ]
  },
  {
   "cell_type": "code",
   "execution_count": 6,
   "id": "695e1a33-1e98-4187-95b6-b7b40d430da9",
   "metadata": {},
   "outputs": [
    {
     "data": {
      "text/html": [
       "<style>\n",
       ".list-inline {list-style: none; margin:0; padding: 0}\n",
       ".list-inline>li {display: inline-block}\n",
       ".list-inline>li:not(:last-child)::after {content: \"\\00b7\"; padding: 0 .5ex}\n",
       "</style>\n",
       "<ol class=list-inline><li>'IPSI123'</li><li>'IPSI123_F_1um'</li><li>'IPSI123_PH_1um'</li><li>'KdVS_CR_F_10um'</li><li>'KdVS_CR_NT'</li><li>'KdVS_CR_P_10um'</li><li>'KdVS_CR_PH_10um'</li><li>'KdVS1_F_1um'</li><li>'KdVS1_NT'</li><li>'KdVS1_PH_1um'</li><li>'KdVS164_F_0.3um'</li><li>'KdVS164_F_1um'</li><li>'KdVS164_NT'</li><li>'KdVS164_P_0.3um'</li><li>'KdVS164_P_1um'</li><li>'KdVS164_PH_0.3um'</li><li>'KdVS164_PH_1um'</li><li>'KdVS2_F_1um'</li><li>'KdVS2_NT'</li><li>'KdVS2_PH_1um'</li><li>'KdVS3_F_1um'</li><li>'KdVS3_NT'</li><li>'KdVS3_PH_1um'</li><li>'Mother_CNT'</li><li>'WTC'</li><li>'WTC_F_1um'</li><li>'WTC_PH_1um'</li></ol>\n"
      ],
      "text/latex": [
       "\\begin{enumerate*}\n",
       "\\item 'IPSI123'\n",
       "\\item 'IPSI123\\_F\\_1um'\n",
       "\\item 'IPSI123\\_PH\\_1um'\n",
       "\\item 'KdVS\\_CR\\_F\\_10um'\n",
       "\\item 'KdVS\\_CR\\_NT'\n",
       "\\item 'KdVS\\_CR\\_P\\_10um'\n",
       "\\item 'KdVS\\_CR\\_PH\\_10um'\n",
       "\\item 'KdVS1\\_F\\_1um'\n",
       "\\item 'KdVS1\\_NT'\n",
       "\\item 'KdVS1\\_PH\\_1um'\n",
       "\\item 'KdVS164\\_F\\_0.3um'\n",
       "\\item 'KdVS164\\_F\\_1um'\n",
       "\\item 'KdVS164\\_NT'\n",
       "\\item 'KdVS164\\_P\\_0.3um'\n",
       "\\item 'KdVS164\\_P\\_1um'\n",
       "\\item 'KdVS164\\_PH\\_0.3um'\n",
       "\\item 'KdVS164\\_PH\\_1um'\n",
       "\\item 'KdVS2\\_F\\_1um'\n",
       "\\item 'KdVS2\\_NT'\n",
       "\\item 'KdVS2\\_PH\\_1um'\n",
       "\\item 'KdVS3\\_F\\_1um'\n",
       "\\item 'KdVS3\\_NT'\n",
       "\\item 'KdVS3\\_PH\\_1um'\n",
       "\\item 'Mother\\_CNT'\n",
       "\\item 'WTC'\n",
       "\\item 'WTC\\_F\\_1um'\n",
       "\\item 'WTC\\_PH\\_1um'\n",
       "\\end{enumerate*}\n"
      ],
      "text/markdown": [
       "1. 'IPSI123'\n",
       "2. 'IPSI123_F_1um'\n",
       "3. 'IPSI123_PH_1um'\n",
       "4. 'KdVS_CR_F_10um'\n",
       "5. 'KdVS_CR_NT'\n",
       "6. 'KdVS_CR_P_10um'\n",
       "7. 'KdVS_CR_PH_10um'\n",
       "8. 'KdVS1_F_1um'\n",
       "9. 'KdVS1_NT'\n",
       "10. 'KdVS1_PH_1um'\n",
       "11. 'KdVS164_F_0.3um'\n",
       "12. 'KdVS164_F_1um'\n",
       "13. 'KdVS164_NT'\n",
       "14. 'KdVS164_P_0.3um'\n",
       "15. 'KdVS164_P_1um'\n",
       "16. 'KdVS164_PH_0.3um'\n",
       "17. 'KdVS164_PH_1um'\n",
       "18. 'KdVS2_F_1um'\n",
       "19. 'KdVS2_NT'\n",
       "20. 'KdVS2_PH_1um'\n",
       "21. 'KdVS3_F_1um'\n",
       "22. 'KdVS3_NT'\n",
       "23. 'KdVS3_PH_1um'\n",
       "24. 'Mother_CNT'\n",
       "25. 'WTC'\n",
       "26. 'WTC_F_1um'\n",
       "27. 'WTC_PH_1um'\n",
       "\n",
       "\n"
      ],
      "text/plain": [
       " [1] \"IPSI123\"          \"IPSI123_F_1um\"    \"IPSI123_PH_1um\"   \"KdVS_CR_F_10um\"  \n",
       " [5] \"KdVS_CR_NT\"       \"KdVS_CR_P_10um\"   \"KdVS_CR_PH_10um\"  \"KdVS1_F_1um\"     \n",
       " [9] \"KdVS1_NT\"         \"KdVS1_PH_1um\"     \"KdVS164_F_0.3um\"  \"KdVS164_F_1um\"   \n",
       "[13] \"KdVS164_NT\"       \"KdVS164_P_0.3um\"  \"KdVS164_P_1um\"    \"KdVS164_PH_0.3um\"\n",
       "[17] \"KdVS164_PH_1um\"   \"KdVS2_F_1um\"      \"KdVS2_NT\"         \"KdVS2_PH_1um\"    \n",
       "[21] \"KdVS3_F_1um\"      \"KdVS3_NT\"         \"KdVS3_PH_1um\"     \"Mother_CNT\"      \n",
       "[25] \"WTC\"              \"WTC_F_1um\"        \"WTC_PH_1um\"      "
      ]
     },
     "metadata": {},
     "output_type": "display_data"
    },
    {
     "data": {
      "text/html": [
       "27"
      ],
      "text/latex": [
       "27"
      ],
      "text/markdown": [
       "27"
      ],
      "text/plain": [
       "[1] 27"
      ]
     },
     "metadata": {},
     "output_type": "display_data"
    }
   ],
   "source": [
    "levels(factor(cell_line_overview$Cell_line_name))\n",
    "length(levels(factor(cell_line_overview$Cell_line_name)))"
   ]
  },
  {
   "cell_type": "code",
   "execution_count": 7,
   "id": "0d16a1aa-1132-4d48-a8a3-5dda821a4d30",
   "metadata": {},
   "outputs": [],
   "source": [
    "full_results<-dplyr::left_join(all_summary_files, cell_line_overview, by=c(\"Phenotype\" = \"Cell_line_name\"))"
   ]
  },
  {
   "cell_type": "code",
   "execution_count": 8,
   "id": "48d6a102-a457-4587-90be-4e45ade115bb",
   "metadata": {},
   "outputs": [
    {
     "data": {
      "text/plain": [
       "\n",
       "FALSE  TRUE \n",
       "   27   261 "
      ]
     },
     "metadata": {},
     "output_type": "display_data"
    },
    {
     "data": {
      "text/plain": [
       "\n",
       "FALSE \n",
       "   27 "
      ]
     },
     "metadata": {},
     "output_type": "display_data"
    }
   ],
   "source": [
    "# Check for duplicates\n",
    "table(duplicated(all_summary_files$Phenotype))\n",
    "table(duplicated(cell_line_overview$Cell_line_name))"
   ]
  },
  {
   "cell_type": "code",
   "execution_count": 9,
   "id": "6d8743e6-7d19-4f99-87d1-962deb6273a8",
   "metadata": {},
   "outputs": [
    {
     "ename": "ERROR",
     "evalue": "Error in cell_line_overview %>% group_by(Cell_line_name) %>% filter(n() > : could not find function \"%>%\"\n",
     "output_type": "error",
     "traceback": [
      "Error in cell_line_overview %>% group_by(Cell_line_name) %>% filter(n() > : could not find function \"%>%\"\nTraceback:\n"
     ]
    }
   ],
   "source": [
    "# In y (cell_line_overview)\n",
    "cell_line_overview %>%\n",
    "  group_by(Cell_line_name) %>%\n",
    "  filter(n() > 1)"
   ]
  },
  {
   "cell_type": "code",
   "execution_count": 10,
   "id": "15fb6b5b-aea3-477d-b861-2ab8ccaad306",
   "metadata": {},
   "outputs": [],
   "source": [
    "#remove hf var, were not considered here\n",
    "full_results$numb_electrodes<-ifelse(full_results$machine==\"mcs\",12,16)\n",
    "all_registered_variables<-colnames(full_results)\n",
    "hf_variables<-grep(\"*hf\", all_registered_variables, value = TRUE)#all_registered_variables[grepl(\"*hf\", all_registered_variables)]\n",
    "full_results<-full_results[,!colnames(full_results) %in% hf_variables]"
   ]
  },
  {
   "cell_type": "code",
   "execution_count": 11,
   "id": "903c7996-89d9-40b2-95ab-7781fbddb93e",
   "metadata": {},
   "outputs": [],
   "source": [
    "weird_or_same<-c(\"Random_Spikes_Percentage_Avg\",\"Spike_Frequency_per_Electrode\",\n",
    "         \"total_spikes_in_all_NBs_d_nNB\",\"numb_electrodes\",\"propr_active_electrodes\")#,\"propr_active_electrodes\"#,\"Network_Burst_Frequency\"\n",
    "\n",
    "full_results<-full_results[,!colnames(full_results) %in% weird_or_same]\n",
    "no_NB<-rownames(full_results[full_results$Number_of_Bursts<=1 |full_results$Number_of_Bursting_Electrodes<=1 |full_results$Number_of_Network_Bursts<=2|is.na(full_results$Number_of_Network_Bursts),])\n",
    "\n",
    "no_NB<-full_results[no_NB,]\n",
    "no_NB<-droplevels(no_NB)\n",
    "\n",
    "one_NB<-rownames(full_results[full_results$Number_of_Bursts<=2 |full_results$Number_of_Network_Bursts<=1 |is.na(full_results$Number_of_Network_Bursts),])\n",
    "one_NB<-full_results[one_NB,]\n",
    "one_NB<-droplevels(one_NB)\n",
    "\n",
    "\n",
    "write.csv(no_NB,\"wells_with_no_bursting_NB_activity.csv\")\n",
    "dep_on_recording_time<-c(\"Number_of_spikes\",\"Number_of_Bursting_Electrodes\",\n",
    "                         \"Number_of_Bursts\",\"Number_of_Network_Bursts\")\n",
    "n_ID<-c(1:dim(full_results)[1])\n",
    "full_results$Unique_ID<-paste0(full_results$PT_all_path,\"_\",full_results$Well_Label,\"_\",n_ID)\n",
    "full_results$PT_all_path_Well_Label<-paste0(full_results$PT_all_path,\"_\",full_results$Well_Label)\n",
    "\n",
    "full_results_NB<-full_results[!rownames(full_results) %in% rownames(no_NB),!colnames(full_results) %in% dep_on_recording_time]\n",
    "full_results_one_NB<-full_results[!rownames(full_results) %in% rownames(one_NB),!colnames(full_results) %in% dep_on_recording_time]\n",
    "\n",
    "\n",
    "\n",
    "full_results<-full_results[,!colnames(full_results) %in% dep_on_recording_time]"
   ]
  },
  {
   "cell_type": "code",
   "execution_count": 12,
   "id": "c78fbcf6-549f-402b-96ad-de6c78aeb302",
   "metadata": {},
   "outputs": [
    {
     "data": {
      "text/html": [
       "<style>\n",
       ".list-inline {list-style: none; margin:0; padding: 0}\n",
       ".list-inline>li {display: inline-block}\n",
       ".list-inline>li:not(:last-child)::after {content: \"\\00b7\"; padding: 0 .5ex}\n",
       "</style>\n",
       "<ol class=list-inline><li>'Well_Label'</li><li>'Phenotype'</li><li>'Mean_Firing_Rate_Hz'</li><li>'Burst_Duration_Avg_sec'</li><li>'Burst_Duration_Std_sec'</li><li>'Number_of_Spikes_per_Burst_Avg'</li><li>'Number_of_Spikes_per_Burst_Std'</li><li>'Mean_ISI_within_Burst_Avg_sec'</li><li>'Mean_ISI_within_Burst_Std_sec'</li><li>'Inter_Burst_Interval_Avg_sec'</li><li>'Inter_Burst_Interval_Std_sec'</li><li>'IBI_Coefficient_of_Variation_Avg'</li><li>'IBI_Coefficient_of_Variation_Std'</li><li>'Burst_Frequency_Avg_Hz'</li><li>'Burst_Frequency_Std_Hz'</li><li>'Burst_Percentage_Avg'</li><li>'Burst_Percentage_Std'</li><li>'Network_Burst_Frequency'</li><li>'Network_Burst_Percentage'</li><li>'Network_Burst_Duration_Avg_sec'</li><li>'Network_Burst_Duration_Std_sec'</li><li>'Firing_Rate_in_NB_Avg'</li><li>'Firing_Rate_in_NB_std'</li><li>'NBI_Avg_sec'</li><li>'NBI_Avg_Std_sec'</li><li>'batch'</li><li>'cell_line_batch'</li><li>'machine'</li><li>'PT_all_path'</li><li>'DIV_range'</li><li>'Syndrome'</li><li>'Gene'</li><li>'Compound_short'</li><li>'Compound'</li><li>'Own_control'</li><li>'Color_general'</li><li>'Cell_line_general'</li><li>'Unique_ID'</li><li>'PT_all_path_Well_Label'</li></ol>\n"
      ],
      "text/latex": [
       "\\begin{enumerate*}\n",
       "\\item 'Well\\_Label'\n",
       "\\item 'Phenotype'\n",
       "\\item 'Mean\\_Firing\\_Rate\\_Hz'\n",
       "\\item 'Burst\\_Duration\\_Avg\\_sec'\n",
       "\\item 'Burst\\_Duration\\_Std\\_sec'\n",
       "\\item 'Number\\_of\\_Spikes\\_per\\_Burst\\_Avg'\n",
       "\\item 'Number\\_of\\_Spikes\\_per\\_Burst\\_Std'\n",
       "\\item 'Mean\\_ISI\\_within\\_Burst\\_Avg\\_sec'\n",
       "\\item 'Mean\\_ISI\\_within\\_Burst\\_Std\\_sec'\n",
       "\\item 'Inter\\_Burst\\_Interval\\_Avg\\_sec'\n",
       "\\item 'Inter\\_Burst\\_Interval\\_Std\\_sec'\n",
       "\\item 'IBI\\_Coefficient\\_of\\_Variation\\_Avg'\n",
       "\\item 'IBI\\_Coefficient\\_of\\_Variation\\_Std'\n",
       "\\item 'Burst\\_Frequency\\_Avg\\_Hz'\n",
       "\\item 'Burst\\_Frequency\\_Std\\_Hz'\n",
       "\\item 'Burst\\_Percentage\\_Avg'\n",
       "\\item 'Burst\\_Percentage\\_Std'\n",
       "\\item 'Network\\_Burst\\_Frequency'\n",
       "\\item 'Network\\_Burst\\_Percentage'\n",
       "\\item 'Network\\_Burst\\_Duration\\_Avg\\_sec'\n",
       "\\item 'Network\\_Burst\\_Duration\\_Std\\_sec'\n",
       "\\item 'Firing\\_Rate\\_in\\_NB\\_Avg'\n",
       "\\item 'Firing\\_Rate\\_in\\_NB\\_std'\n",
       "\\item 'NBI\\_Avg\\_sec'\n",
       "\\item 'NBI\\_Avg\\_Std\\_sec'\n",
       "\\item 'batch'\n",
       "\\item 'cell\\_line\\_batch'\n",
       "\\item 'machine'\n",
       "\\item 'PT\\_all\\_path'\n",
       "\\item 'DIV\\_range'\n",
       "\\item 'Syndrome'\n",
       "\\item 'Gene'\n",
       "\\item 'Compound\\_short'\n",
       "\\item 'Compound'\n",
       "\\item 'Own\\_control'\n",
       "\\item 'Color\\_general'\n",
       "\\item 'Cell\\_line\\_general'\n",
       "\\item 'Unique\\_ID'\n",
       "\\item 'PT\\_all\\_path\\_Well\\_Label'\n",
       "\\end{enumerate*}\n"
      ],
      "text/markdown": [
       "1. 'Well_Label'\n",
       "2. 'Phenotype'\n",
       "3. 'Mean_Firing_Rate_Hz'\n",
       "4. 'Burst_Duration_Avg_sec'\n",
       "5. 'Burst_Duration_Std_sec'\n",
       "6. 'Number_of_Spikes_per_Burst_Avg'\n",
       "7. 'Number_of_Spikes_per_Burst_Std'\n",
       "8. 'Mean_ISI_within_Burst_Avg_sec'\n",
       "9. 'Mean_ISI_within_Burst_Std_sec'\n",
       "10. 'Inter_Burst_Interval_Avg_sec'\n",
       "11. 'Inter_Burst_Interval_Std_sec'\n",
       "12. 'IBI_Coefficient_of_Variation_Avg'\n",
       "13. 'IBI_Coefficient_of_Variation_Std'\n",
       "14. 'Burst_Frequency_Avg_Hz'\n",
       "15. 'Burst_Frequency_Std_Hz'\n",
       "16. 'Burst_Percentage_Avg'\n",
       "17. 'Burst_Percentage_Std'\n",
       "18. 'Network_Burst_Frequency'\n",
       "19. 'Network_Burst_Percentage'\n",
       "20. 'Network_Burst_Duration_Avg_sec'\n",
       "21. 'Network_Burst_Duration_Std_sec'\n",
       "22. 'Firing_Rate_in_NB_Avg'\n",
       "23. 'Firing_Rate_in_NB_std'\n",
       "24. 'NBI_Avg_sec'\n",
       "25. 'NBI_Avg_Std_sec'\n",
       "26. 'batch'\n",
       "27. 'cell_line_batch'\n",
       "28. 'machine'\n",
       "29. 'PT_all_path'\n",
       "30. 'DIV_range'\n",
       "31. 'Syndrome'\n",
       "32. 'Gene'\n",
       "33. 'Compound_short'\n",
       "34. 'Compound'\n",
       "35. 'Own_control'\n",
       "36. 'Color_general'\n",
       "37. 'Cell_line_general'\n",
       "38. 'Unique_ID'\n",
       "39. 'PT_all_path_Well_Label'\n",
       "\n",
       "\n"
      ],
      "text/plain": [
       " [1] \"Well_Label\"                       \"Phenotype\"                       \n",
       " [3] \"Mean_Firing_Rate_Hz\"              \"Burst_Duration_Avg_sec\"          \n",
       " [5] \"Burst_Duration_Std_sec\"           \"Number_of_Spikes_per_Burst_Avg\"  \n",
       " [7] \"Number_of_Spikes_per_Burst_Std\"   \"Mean_ISI_within_Burst_Avg_sec\"   \n",
       " [9] \"Mean_ISI_within_Burst_Std_sec\"    \"Inter_Burst_Interval_Avg_sec\"    \n",
       "[11] \"Inter_Burst_Interval_Std_sec\"     \"IBI_Coefficient_of_Variation_Avg\"\n",
       "[13] \"IBI_Coefficient_of_Variation_Std\" \"Burst_Frequency_Avg_Hz\"          \n",
       "[15] \"Burst_Frequency_Std_Hz\"           \"Burst_Percentage_Avg\"            \n",
       "[17] \"Burst_Percentage_Std\"             \"Network_Burst_Frequency\"         \n",
       "[19] \"Network_Burst_Percentage\"         \"Network_Burst_Duration_Avg_sec\"  \n",
       "[21] \"Network_Burst_Duration_Std_sec\"   \"Firing_Rate_in_NB_Avg\"           \n",
       "[23] \"Firing_Rate_in_NB_std\"            \"NBI_Avg_sec\"                     \n",
       "[25] \"NBI_Avg_Std_sec\"                  \"batch\"                           \n",
       "[27] \"cell_line_batch\"                  \"machine\"                         \n",
       "[29] \"PT_all_path\"                      \"DIV_range\"                       \n",
       "[31] \"Syndrome\"                         \"Gene\"                            \n",
       "[33] \"Compound_short\"                   \"Compound\"                        \n",
       "[35] \"Own_control\"                      \"Color_general\"                   \n",
       "[37] \"Cell_line_general\"                \"Unique_ID\"                       \n",
       "[39] \"PT_all_path_Well_Label\"          "
      ]
     },
     "metadata": {},
     "output_type": "display_data"
    },
    {
     "data": {
      "text/html": [
       "39"
      ],
      "text/latex": [
       "39"
      ],
      "text/markdown": [
       "39"
      ],
      "text/plain": [
       "[1] 39"
      ]
     },
     "metadata": {},
     "output_type": "display_data"
    }
   ],
   "source": [
    "colnames(full_results_NB)\n",
    "length(colnames(full_results_NB))"
   ]
  },
  {
   "cell_type": "code",
   "execution_count": 13,
   "id": "c565af9a-0354-4932-b8de-c48ff0c91949",
   "metadata": {},
   "outputs": [
    {
     "data": {
      "text/html": [
       "39"
      ],
      "text/latex": [
       "39"
      ],
      "text/markdown": [
       "39"
      ],
      "text/plain": [
       "[1] 39"
      ]
     },
     "metadata": {},
     "output_type": "display_data"
    }
   ],
   "source": [
    "short_names<-c('Well_Label','Phenotype','Firing_rate_Hz','EB_Dur','EB_Dur_Std','Spikes_per_EB',\n",
    "  'Spikes_per_EB_Std','EB_ISI','EB_ISI_Std','IEBI','IEBI_Std','IEBI_CV','IEBI_CV_Std',\n",
    "  'EB_rate_Hz','EB_rate_Std','EB_prop','EB_prop_Std', 'NB_rate_Hz',\n",
    "  'NB_prop',\n",
    "  'NB_dur','NB_dur_Std','Firing_Rate_in_NB_Hz', 'Firing_Rate_in_NB_Std','INBI','INBI_Std',\n",
    "  'batch','cell_line_batch','machine','PT_all_path','DIV_range','Syndrome','Gene','Compound_short','Compound','Own_control','Color_general',\n",
    "               'Cell_line_general',\n",
    "   'Unique_ID','PT_all_path_Well_Label')#,\"hfNB_presence\"#'Active_electrodes',\n",
    "length(short_names)"
   ]
  },
  {
   "cell_type": "code",
   "execution_count": 14,
   "id": "17ab320e-773c-46b5-a203-d329e636a075",
   "metadata": {},
   "outputs": [],
   "source": [
    "colnames(full_results_NB)<-short_names\n",
    "colnames(full_results_one_NB)<-short_names\n",
    "\n",
    "colnames(full_results)<-short_names"
   ]
  },
  {
   "cell_type": "code",
   "execution_count": 15,
   "id": "877f2b60-8937-4a22-ae37-972f66cc8dcf",
   "metadata": {},
   "outputs": [],
   "source": [
    "full_results<-droplevels(full_results)\n",
    "full_results_NB<-droplevels(full_results_NB)\n",
    "full_results_one_NB<-droplevels(full_results_one_NB)"
   ]
  },
  {
   "cell_type": "code",
   "execution_count": 16,
   "id": "f602e738-8899-4c64-b2d6-6155e77f0faf",
   "metadata": {},
   "outputs": [],
   "source": [
    "write.csv(full_results,\"Well_summary_parameters_all_DIVXX.csv\")\n",
    "write.csv(full_results_NB,\"Well_summary_parameters_NB_DIVXX.csv\")"
   ]
  }
 ],
 "metadata": {
  "kernelspec": {
   "display_name": "R 4.2.1 (native)",
   "language": "R",
   "name": "ir421_native"
  },
  "language_info": {
   "codemirror_mode": "r",
   "file_extension": ".r",
   "mimetype": "text/x-r-source",
   "name": "R",
   "pygments_lexer": "r",
   "version": "4.2.1"
  }
 },
 "nbformat": 4,
 "nbformat_minor": 5
}
