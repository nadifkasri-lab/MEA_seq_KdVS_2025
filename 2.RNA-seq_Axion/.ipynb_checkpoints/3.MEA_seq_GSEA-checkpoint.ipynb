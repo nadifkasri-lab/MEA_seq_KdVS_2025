{
 "cells": [
  {
   "cell_type": "code",
   "execution_count": 1,
   "id": "da1ce63b-6b0c-4965-835f-da6068a3a856",
   "metadata": {},
   "outputs": [
    {
     "name": "stderr",
     "output_type": "stream",
     "text": [
      "Warning message:\n",
      "\"package 'ggrepel' was built under R version 4.2.3\"\n",
      "Loading required package: ggplot2\n",
      "\n"
     ]
    }
   ],
   "source": [
    "setwd(\".../output\")\n",
    "library(ggrepel)\n"
   ]
  },
  {
   "cell_type": "code",
   "execution_count": 2,
   "id": "9bec351d-227c-4bd3-b40f-3ce738af99ea",
   "metadata": {},
   "outputs": [],
   "source": [
    "#1.perform corr for all genes per variable, check here also CLCN4"
   ]
  },
  {
   "cell_type": "code",
   "execution_count": 3,
   "id": "6f92adfd-3964-4b89-b9c9-21e225bb08b9",
   "metadata": {},
   "outputs": [],
   "source": [
    "library(rrvgo)\n",
    "library(gprofiler2)\n",
    "library(dplyr)\n",
    "library(stringr)\n",
    "library(org.Hs.eg.db) \n",
    "library(AnnotationDbi)\n",
    "library(EnsDb.Hsapiens.v106)\n",
    "library(tidyverse)\n",
    "library(tibble)\n",
    "library(data.table)\n",
    "library(ggplot2)\n",
    "temp_cor <- cor\n",
    "library(WGCNA)\n",
    "cor <- WGCNA::cor\n",
    "library(pheatmap)\n",
    "library(fgsea)\n"
   ]
  },
  {
   "cell_type": "code",
   "execution_count": 4,
   "id": "179e7ddd-6593-4c60-bb50-09f8d4b78b6c",
   "metadata": {},
   "outputs": [],
   "source": [
    "norm_counts<-read.table(\".../0.Data/RNA_seq/counts_drugs_axion/voom_reads.txt\")"
   ]
  },
  {
   "cell_type": "code",
   "execution_count": 5,
   "id": "3d2ccc42-1a8f-44fc-a94c-37d9c52c94dd",
   "metadata": {},
   "outputs": [],
   "source": [
    "edb <-EnsDb.Hsapiens.v106\n",
    "ens<-rownames(norm_counts)\n",
    "genes_ID=mapIds(edb, keys = ens, keytype=\"GENEID\", column=\"GENENAME\")\n",
    "genes_ID=data.frame(genes_ID)\n",
    "genes_ID$Geneid<-rownames(genes_ID)\n",
    "colnames(genes_ID)<-c(\"Genename\",\"Geneid\")\n",
    "norm_counts<-as.data.frame(norm_counts)\n",
    "norm_counts$Geneid<-rownames(norm_counts)\n",
    "norm_counts$Genename<-genes_ID$Genename[match(norm_counts$Geneid,genes_ID$Geneid)]"
   ]
  },
  {
   "cell_type": "code",
   "execution_count": 6,
   "id": "46eb1446-ae2b-4b2d-95fd-d72a465a4559",
   "metadata": {},
   "outputs": [],
   "source": [
    "samples_info<-read.csv(\".../0.Data/RNA_seq/counts_drugs_axion/samples_info.csv\")\n",
    "samples_info$group<-samples_info$group%>% str_replace(\"-\", \"_\")\n",
    "samples_info$sample<- samples_info$sample %>% str_replace(\"-\", \"_\")"
   ]
  },
  {
   "cell_type": "code",
   "execution_count": 7,
   "id": "dac6b0ad-8506-4e18-8a62-395b4e993569",
   "metadata": {},
   "outputs": [],
   "source": [
    "data<-read.csv(\".../0.Data/Axion_MEA_data_processed/Well_summary_parameters_all_DIV30.csv\")\n",
    "data<-data[-1]\n",
    "rownames(data)<-data$Unique_ID\n",
    "order_Cell_line_general<-c('WTC','Mother_CNT','IPSI123',\n",
    "                           'KdVS164','KdVS_CR',\n",
    "                           'KdVS1','KdVS2','KdVS3')\n",
    "data$Cell_line_general<-factor(data$Cell_line_general, levels=order_Cell_line_general)\n",
    "data$batch_relabel <- factor(\n",
    "  data$batch,\n",
    "  levels = c('100-2031', '100-2016', \n",
    "              '118-2247',\n",
    "               '129-7010', '129-7009', '129-7008', '129-7059'),       # old levels in new order\n",
    "  labels = c(\"B22.1\", \"B22.2\", \n",
    "             \"B24.1\",\n",
    "             \"B25.1\",\"B25.2\",\"B25.3\",\"B25.4\"))  # new names\n",
    "data$annotation<-paste0(data$Compound_short,\"_\",\n",
    "                                         data$batch_relabel,\"_\",\n",
    "                                         data$Well_Label)\n",
    "data$annotation_bp<-paste0(data$batch_relabel,\"_\",\n",
    "                                         data$Well_Label)\n",
    "#only rebutal\n",
    "data_rebuttal<-data[data$batch_relabel %in% c(\"B25.1\",\"B25.2\",\"B25.3\",\"B25.4\"),]\n",
    "data_rebuttal<-data_rebuttal[!data_rebuttal$annotation_bp %in% c(\"B25.3_A1\",\"B25.4_E1\",\"B25.4_E4\"),] #weird WTC\n",
    "data_rebuttal<-droplevels(data_rebuttal)\n",
    "data_rebuttal<-data_rebuttal %>% \n",
    "    mutate(compound_v2 = case_when(Compound == \"NT\" ~ \"NT\",\n",
    "    Compound == \"phloretin\" ~ \"PH\",\n",
    "    Compound == \"fasudil\" ~ \"F\",\n",
    "    TRUE ~ \"Other\")) # This is a catch-all for any other values\n",
    "  # )) %>% \n",
    "  #   mutate(cell_line_v2 = case_when(Cell_line_general == \"WTC\" ~ \"C1\",\n",
    "  #   Cell_line_general == \"IPSI123\" ~ \"C4\",\n",
    "  #   Cell_line_general == \"KdVS164\" ~ \"CR\",\n",
    "  #   Cell_line_general == \"KdVS1\" ~ \"KdVS1\",\n",
    "  #   Cell_line_general == \"KdVS2\" ~ \"KdVS2\",\n",
    "  #   Cell_line_general == \"KdVS3\" ~ \"KdVS3\",\n",
    "  #   TRUE ~ \"Other\" # This is a catch-all for any other values\n",
    "  # ))\n",
    "data_rebuttal$sample<-paste0(data_rebuttal$Cell_line_general,\"_\",data_rebuttal$compound_v2,\"_\",data_rebuttal$Well_Label)\n",
    "data_rebuttal<-data_rebuttal[data_rebuttal$batch %in% levels(factor(samples_info$MEA)),]\n",
    "data_rebuttal<-data_rebuttal[data_rebuttal$sample %in% samples_info$sample,]\n",
    "data_rebuttal<-droplevels(data_rebuttal)\n",
    "rownames(data_rebuttal)<-data_rebuttal$sample"
   ]
  },
  {
   "cell_type": "code",
   "execution_count": 8,
   "id": "66a4ea25-9cb1-410b-8afb-71c9093f4179",
   "metadata": {},
   "outputs": [],
   "source": [
    "activity_var<-c('Firing_rate_Hz','EB_prop','EB_ISI','NB_prop','NB_rate_Hz')#this has NA! 'INBI_Std',\n",
    "norm_counts_num<-norm_counts %>% dplyr::select(where(is.numeric)) %>% t() %>% data.frame()\n",
    "MEA_seq<-data_rebuttal %>% dplyr::select(where(is.numeric))\n",
    "MEA_seq<-MEA_seq[,activity_var]\n",
    "MEA_seq<-MEA_seq[rownames(norm_counts_num),]"
   ]
  },
  {
   "cell_type": "code",
   "execution_count": 9,
   "id": "7aff1589-3c89-490a-abbe-f1e0d1604276",
   "metadata": {},
   "outputs": [],
   "source": [
    "nModules <- dim(norm_counts_num)[2]\n",
    "nMetrics <- dim(MEA_seq)[2]"
   ]
  },
  {
   "cell_type": "code",
   "execution_count": 10,
   "id": "eb9f207b-8349-41cc-adcf-f6f35d3927e6",
   "metadata": {},
   "outputs": [],
   "source": [
    "est_list<-list()\n",
    "pval_list<-list()\n",
    "for (i in 1:nMetrics){\n",
    "    est <- c()\n",
    "    p <- c()\n",
    "    for (j in 1:nModules){\n",
    "    s_corr<-cor.test(MEA_seq[[i]],norm_counts_num[[j]],method = 'spearman',exact = FALSE)\n",
    "    p_val<-s_corr$p.value\n",
    "    estimate<-unname(s_corr$estimate)\n",
    "     est[j]<- estimate  \n",
    "     p[j]<- p_val  \n",
    "    }\n",
    "    est_list[[i]]<-est\n",
    "    pval_list[[i]]<-p\n",
    "    }\n",
    "names(est_list)<-colnames(MEA_seq)\n",
    "names(pval_list)<-colnames(MEA_seq)\n",
    "est_list<-do.call(cbind,est_list)\n",
    "pval_list<-do.call(cbind,pval_list)\n",
    "rownames(est_list)<-colnames(norm_counts_num)\n",
    "rownames(pval_list)<-colnames(norm_counts_num)\n",
    "all_adj<-round(p.adjust(c(pval_list), method =\"BH\", n = length(c(pval_list))),3)\n",
    "all_adj<-split(all_adj,ceiling(seq_along(all_adj) / nModules))\n",
    "all_adj<-as.data.frame(t(do.call(rbind, all_adj)))\n",
    "rownames(all_adj)<-rownames(pval_list)\n",
    "colnames(all_adj)<-colnames(pval_list)\n",
    "all_adj<-as.matrix(all_adj)"
   ]
  },
  {
   "cell_type": "code",
   "execution_count": 11,
   "id": "e2b83a2b-b072-4a30-aa28-1391fcdce4c1",
   "metadata": {},
   "outputs": [
    {
     "data": {
      "text/html": [
       "TRUE"
      ],
      "text/latex": [
       "TRUE"
      ],
      "text/markdown": [
       "TRUE"
      ],
      "text/plain": [
       "[1] TRUE"
      ]
     },
     "metadata": {},
     "output_type": "display_data"
    }
   ],
   "source": [
    "sum(all_adj < 0.05) > 0"
   ]
  },
  {
   "cell_type": "code",
   "execution_count": 12,
   "id": "72fb98d4-92f2-4cc7-b5ab-1ad0e44e260c",
   "metadata": {},
   "outputs": [
    {
     "name": "stderr",
     "output_type": "stream",
     "text": [
      "Warning message in melt(module.trait.corr):\n",
      "\"The melt generic in data.table has been passed a matrix and will attempt to redirect to the relevant reshape2 method; please note that reshape2 is deprecated, and this redirection is now deprecated as well. To continue using melt methods from reshape2 while both libraries are attached, e.g. melt.list, you can prepend the namespace like reshape2::melt(module.trait.corr). In the next version, this warning will become an error.\"\n",
      "Warning message in melt(module.trait.corr.pvals):\n",
      "\"The melt generic in data.table has been passed a matrix and will attempt to redirect to the relevant reshape2 method; please note that reshape2 is deprecated, and this redirection is now deprecated as well. To continue using melt methods from reshape2 while both libraries are attached, e.g. melt.list, you can prepend the namespace like reshape2::melt(module.trait.corr.pvals). In the next version, this warning will become an error.\"\n"
     ]
    }
   ],
   "source": [
    "module.trait.corr.pvals<-all_adj#all_adj#pval_list\n",
    "module.trait.corr<-est_list\n",
    "modules<-rownames(module.trait.corr)\n",
    "module.trait.corr_m<-as.data.frame(melt(module.trait.corr))\n",
    "module.trait.corr.pvals_m<-as.data.frame(melt(module.trait.corr.pvals))\n",
    "colnames(module.trait.corr_m)<-c(\"Geneid\", \"trait\", \"corr\")\n",
    "colnames(module.trait.corr.pvals_m)<-c(\"Geneid\", \"trait\", \"pvalue\")\n",
    "module.trait.corr.pvals_m$pvalue<-round(module.trait.corr.pvals_m$pvalue,2)\n",
    "module.trait.corr_m$Genename<-genes_ID$Genename[match(module.trait.corr_m$Geneid,genes_ID$Geneid)]\n",
    "module.trait.corr.pvals_m$Genename<-genes_ID$Genename[match(module.trait.corr.pvals_m$Geneid,genes_ID$Geneid)]\n",
    "\n",
    "significant_modules_corr_m<-unique(module.trait.corr.pvals_m[module.trait.corr.pvals_m$pvalue <= 0.05,\"Genename\"])\n",
    "significant_modules_corr_m_id<-unique(module.trait.corr.pvals_m[module.trait.corr.pvals_m$pvalue <= 0.05,\"Geneid\"])"
   ]
  },
  {
   "cell_type": "code",
   "execution_count": 13,
   "id": "ca35249c-5695-4823-891b-050cbed9482b",
   "metadata": {},
   "outputs": [],
   "source": [
    "#add corr th\n",
    "corr_th<- 0.5 \n",
    "significant_modules_corr_m_corr<-unique(module.trait.corr_m[abs(module.trait.corr_m$corr) >= corr_th,\"Genename\"])\n",
    "significant_modules_corr_m_id_corr<-unique(module.trait.corr_m[abs(module.trait.corr_m$corr) >= corr_th,\"Geneid\"])\n",
    "\n",
    "significant_modules_corr_m<-intersect(significant_modules_corr_m,significant_modules_corr_m_corr)\n",
    "significant_modules_corr_m_id<-intersect(significant_modules_corr_m_id,significant_modules_corr_m_id_corr)\n",
    "\n",
    "significant_metric<-unique(module.trait.corr.pvals_m[module.trait.corr.pvals_m$pvalue <= 0.05,\"trait\"])\n",
    "\n",
    "\n",
    "significant_metric<-droplevels(significant_metric)"
   ]
  },
  {
   "cell_type": "code",
   "execution_count": 14,
   "id": "f3f1949a-535d-40cd-a108-be19afb201a8",
   "metadata": {},
   "outputs": [
    {
     "data": {
      "image/png": "[encoded data removed]",
      "text/plain": [
       "plot without title"
      ]
     },
     "metadata": {
      "image/png": {
       "height": 420,
       "width": 420
      }
     },
     "output_type": "display_data"
    }
   ],
   "source": [
    "# Prepare matrices with gene names\n",
    "corr_matrix <- module.trait.corr[significant_modules_corr_m_id, ]\n",
    "pval_matrix <- module.trait.corr.pvals[significant_modules_corr_m_id, ]\n",
    "\n",
    "# Replace row names with gene names\n",
    "rownames(corr_matrix) <- genes_ID$Genename[match(rownames(corr_matrix), genes_ID$Geneid)]\n",
    "rownames(pval_matrix) <- genes_ID$Genename[match(rownames(pval_matrix), genes_ID$Geneid)]\n",
    "\n",
    "# Create asterisk matrix\n",
    "asterisk_matrix <- matrix(\"\", nrow = nrow(pval_matrix), ncol = ncol(pval_matrix))\n",
    "asterisk_matrix[pval_matrix < 0.05] <- \"*\"\n",
    "asterisk_matrix[pval_matrix < 0.01] <- \"**\"\n",
    "asterisk_matrix[pval_matrix < 0.001] <- \"***\"\n",
    "\n",
    "# Create heatmap\n",
    "p<-pheatmap(corr_matrix,\n",
    "         display_numbers = asterisk_matrix,\n",
    "         number_color = \"white\",\n",
    "         fontsize_number = 8,\n",
    "         fontsize_row = 6,      # Gene name font size\n",
    "         fontsize_col = 8,      # Trait name font size\n",
    "         show_rownames = TRUE,\n",
    "         main = \"all correlations\")\n",
    "p\n",
    "ggsave(\"headmap_all_correlations.pdf\",\n",
    "       width= 4,\n",
    "       height = 8,\n",
    "       plot=p)"
   ]
  },
  {
   "cell_type": "code",
   "execution_count": null,
   "id": "9688e74a-ef2b-48d3-8acb-d137e4ce08f6",
   "metadata": {},
   "outputs": [],
   "source": [
    "#GSEA based on ranked corr"
   ]
  },
  {
   "cell_type": "code",
   "execution_count": 15,
   "id": "a2cbf0f4-9f13-4319-be01-ead6f318286b",
   "metadata": {},
   "outputs": [
    {
     "data": {
      "text/html": [
       "TRUE"
      ],
      "text/latex": [
       "TRUE"
      ],
      "text/markdown": [
       "TRUE"
      ],
      "text/plain": [
       "[1] TRUE"
      ]
     },
     "metadata": {},
     "output_type": "display_data"
    }
   ],
   "source": [
    "\"CLCN4\" %in% significant_modules_corr_m"
   ]
  },
  {
   "cell_type": "code",
   "execution_count": 23,
   "id": "88c340ac-6248-4bb3-a316-d83253327520",
   "metadata": {},
   "outputs": [],
   "source": [
    "#combine scaled gene expresison with the activity variabes per sample and plot\n",
    "#str(norm_counts_num)"
   ]
  },
  {
   "cell_type": "code",
   "execution_count": 30,
   "id": "0768642c-5fcd-41ae-829e-8c8078e754d2",
   "metadata": {},
   "outputs": [
    {
     "data": {
      "text/html": [
       "<table class=\"dataframe\">\n",
       "<caption>A data.frame: 6 × 10</caption>\n",
       "<thead>\n",
       "\t<tr><th></th><th scope=col>raw_annotation</th><th scope=col>sample</th><th scope=col>project</th><th scope=col>cell_line</th><th scope=col>group</th><th scope=col>condition</th><th scope=col>treatment</th><th scope=col>MEA</th><th scope=col>own_control</th><th scope=col>order</th></tr>\n",
       "\t<tr><th></th><th scope=col>&lt;chr&gt;</th><th scope=col>&lt;chr&gt;</th><th scope=col>&lt;chr&gt;</th><th scope=col>&lt;chr&gt;</th><th scope=col>&lt;chr&gt;</th><th scope=col>&lt;chr&gt;</th><th scope=col>&lt;chr&gt;</th><th scope=col>&lt;chr&gt;</th><th scope=col>&lt;chr&gt;</th><th scope=col>&lt;chr&gt;</th></tr>\n",
       "</thead>\n",
       "<tbody>\n",
       "\t<tr><th scope=row>1</th><td>IPSI123-NT-09-E5_HumanL_deduplicated.bam</td><td>IPSI123_NT_E5</td><td>PUV11522</td><td>C4   </td><td>C4_NT  </td><td>control</td><td>NT</td><td>129-7009</td><td>NA      </td><td>C1-NT   </td></tr>\n",
       "\t<tr><th scope=row>2</th><td>IPSI123-NT-09-F5_HumanL_deduplicated.bam</td><td>IPSI123_NT_F5</td><td>PUV11522</td><td>C4   </td><td>C4_NT  </td><td>control</td><td>NT</td><td>129-7009</td><td>NA      </td><td>C4-NT   </td></tr>\n",
       "\t<tr><th scope=row>3</th><td>IPSI123-NT-10-A5_HumanL_deduplicated.bam</td><td>IPSI123_NT_A5</td><td>PUV11522</td><td>C4   </td><td>C4_NT  </td><td>control</td><td>NT</td><td>129-7010</td><td>NA      </td><td>KdVS1-NT</td></tr>\n",
       "\t<tr><th scope=row>4</th><td>IPSI123-NT-10-B5_HumanL_deduplicated.bam</td><td>IPSI123_NT_B5</td><td>PUV11522</td><td>C4   </td><td>C4_NT  </td><td>control</td><td>NT</td><td>129-7010</td><td>NA      </td><td>KdVS1-F </td></tr>\n",
       "\t<tr><th scope=row>5</th><td>KdVS1-F-09-A6_HumanL_deduplicated.bam   </td><td>KdVS1_F_A6   </td><td>PUV11522</td><td>KdVS1</td><td>KdVS1_F</td><td>KdVS   </td><td>F </td><td>129-7009</td><td>KdVS1-NT</td><td>KdVS2-NT</td></tr>\n",
       "\t<tr><th scope=row>6</th><td>KdVS1-F-09-B6_HumanL_deduplicated.bam   </td><td>KdVS1_F_B6   </td><td>PUV11522</td><td>KdVS1</td><td>KdVS1_F</td><td>KdVS   </td><td>F </td><td>129-7009</td><td>KdVS1-NT</td><td>KdVS2-PH</td></tr>\n",
       "</tbody>\n",
       "</table>\n"
      ],
      "text/latex": [
       "A data.frame: 6 × 10\n",
       "\\begin{tabular}{r|llllllllll}\n",
       "  & raw\\_annotation & sample & project & cell\\_line & group & condition & treatment & MEA & own\\_control & order\\\\\n",
       "  & <chr> & <chr> & <chr> & <chr> & <chr> & <chr> & <chr> & <chr> & <chr> & <chr>\\\\\n",
       "\\hline\n",
       "\t1 & IPSI123-NT-09-E5\\_HumanL\\_deduplicated.bam & IPSI123\\_NT\\_E5 & PUV11522 & C4    & C4\\_NT   & control & NT & 129-7009 & NA       & C1-NT   \\\\\n",
       "\t2 & IPSI123-NT-09-F5\\_HumanL\\_deduplicated.bam & IPSI123\\_NT\\_F5 & PUV11522 & C4    & C4\\_NT   & control & NT & 129-7009 & NA       & C4-NT   \\\\\n",
       "\t3 & IPSI123-NT-10-A5\\_HumanL\\_deduplicated.bam & IPSI123\\_NT\\_A5 & PUV11522 & C4    & C4\\_NT   & control & NT & 129-7010 & NA       & KdVS1-NT\\\\\n",
       "\t4 & IPSI123-NT-10-B5\\_HumanL\\_deduplicated.bam & IPSI123\\_NT\\_B5 & PUV11522 & C4    & C4\\_NT   & control & NT & 129-7010 & NA       & KdVS1-F \\\\\n",
       "\t5 & KdVS1-F-09-A6\\_HumanL\\_deduplicated.bam    & KdVS1\\_F\\_A6    & PUV11522 & KdVS1 & KdVS1\\_F & KdVS    & F  & 129-7009 & KdVS1-NT & KdVS2-NT\\\\\n",
       "\t6 & KdVS1-F-09-B6\\_HumanL\\_deduplicated.bam    & KdVS1\\_F\\_B6    & PUV11522 & KdVS1 & KdVS1\\_F & KdVS    & F  & 129-7009 & KdVS1-NT & KdVS2-PH\\\\\n",
       "\\end{tabular}\n"
      ],
      "text/markdown": [
       "\n",
       "A data.frame: 6 × 10\n",
       "\n",
       "| <!--/--> | raw_annotation &lt;chr&gt; | sample &lt;chr&gt; | project &lt;chr&gt; | cell_line &lt;chr&gt; | group &lt;chr&gt; | condition &lt;chr&gt; | treatment &lt;chr&gt; | MEA &lt;chr&gt; | own_control &lt;chr&gt; | order &lt;chr&gt; |\n",
       "|---|---|---|---|---|---|---|---|---|---|---|\n",
       "| 1 | IPSI123-NT-09-E5_HumanL_deduplicated.bam | IPSI123_NT_E5 | PUV11522 | C4    | C4_NT   | control | NT | 129-7009 | NA       | C1-NT    |\n",
       "| 2 | IPSI123-NT-09-F5_HumanL_deduplicated.bam | IPSI123_NT_F5 | PUV11522 | C4    | C4_NT   | control | NT | 129-7009 | NA       | C4-NT    |\n",
       "| 3 | IPSI123-NT-10-A5_HumanL_deduplicated.bam | IPSI123_NT_A5 | PUV11522 | C4    | C4_NT   | control | NT | 129-7010 | NA       | KdVS1-NT |\n",
       "| 4 | IPSI123-NT-10-B5_HumanL_deduplicated.bam | IPSI123_NT_B5 | PUV11522 | C4    | C4_NT   | control | NT | 129-7010 | NA       | KdVS1-F  |\n",
       "| 5 | KdVS1-F-09-A6_HumanL_deduplicated.bam    | KdVS1_F_A6    | PUV11522 | KdVS1 | KdVS1_F | KdVS    | F  | 129-7009 | KdVS1-NT | KdVS2-NT |\n",
       "| 6 | KdVS1-F-09-B6_HumanL_deduplicated.bam    | KdVS1_F_B6    | PUV11522 | KdVS1 | KdVS1_F | KdVS    | F  | 129-7009 | KdVS1-NT | KdVS2-PH |\n",
       "\n"
      ],
      "text/plain": [
       "  raw_annotation                           sample        project  cell_line\n",
       "1 IPSI123-NT-09-E5_HumanL_deduplicated.bam IPSI123_NT_E5 PUV11522 C4       \n",
       "2 IPSI123-NT-09-F5_HumanL_deduplicated.bam IPSI123_NT_F5 PUV11522 C4       \n",
       "3 IPSI123-NT-10-A5_HumanL_deduplicated.bam IPSI123_NT_A5 PUV11522 C4       \n",
       "4 IPSI123-NT-10-B5_HumanL_deduplicated.bam IPSI123_NT_B5 PUV11522 C4       \n",
       "5 KdVS1-F-09-A6_HumanL_deduplicated.bam    KdVS1_F_A6    PUV11522 KdVS1    \n",
       "6 KdVS1-F-09-B6_HumanL_deduplicated.bam    KdVS1_F_B6    PUV11522 KdVS1    \n",
       "  group   condition treatment MEA      own_control order   \n",
       "1 C4_NT   control   NT        129-7009 NA          C1-NT   \n",
       "2 C4_NT   control   NT        129-7009 NA          C4-NT   \n",
       "3 C4_NT   control   NT        129-7010 NA          KdVS1-NT\n",
       "4 C4_NT   control   NT        129-7010 NA          KdVS1-F \n",
       "5 KdVS1_F KdVS      F         129-7009 KdVS1-NT    KdVS2-NT\n",
       "6 KdVS1_F KdVS      F         129-7009 KdVS1-NT    KdVS2-PH"
      ]
     },
     "metadata": {},
     "output_type": "display_data"
    }
   ],
   "source": [
    "head(samples_info)"
   ]
  },
  {
   "cell_type": "code",
   "execution_count": 32,
   "id": "5b0c44f7-2a01-4e3b-850d-bddf510dfeea",
   "metadata": {},
   "outputs": [
    {
     "data": {
      "text/html": [
       "<table class=\"dataframe\">\n",
       "<caption>A data.frame: 6 × 17</caption>\n",
       "<thead>\n",
       "\t<tr><th></th><th scope=col>Row.names</th><th scope=col>Firing_rate_Hz</th><th scope=col>EB_prop</th><th scope=col>EB_ISI</th><th scope=col>NB_prop</th><th scope=col>NB_rate_Hz</th><th scope=col>ENSG00000073464</th><th scope=col>sample</th><th scope=col>raw_annotation</th><th scope=col>project</th><th scope=col>cell_line</th><th scope=col>group</th><th scope=col>condition</th><th scope=col>treatment</th><th scope=col>MEA</th><th scope=col>own_control</th><th scope=col>order</th></tr>\n",
       "\t<tr><th></th><th scope=col>&lt;I&lt;chr&gt;&gt;</th><th scope=col>&lt;dbl&gt;</th><th scope=col>&lt;dbl&gt;</th><th scope=col>&lt;dbl&gt;</th><th scope=col>&lt;dbl&gt;</th><th scope=col>&lt;dbl&gt;</th><th scope=col>&lt;dbl&gt;</th><th scope=col>&lt;I&lt;chr&gt;&gt;</th><th scope=col>&lt;chr&gt;</th><th scope=col>&lt;chr&gt;</th><th scope=col>&lt;chr&gt;</th><th scope=col>&lt;chr&gt;</th><th scope=col>&lt;chr&gt;</th><th scope=col>&lt;chr&gt;</th><th scope=col>&lt;chr&gt;</th><th scope=col>&lt;chr&gt;</th><th scope=col>&lt;chr&gt;</th></tr>\n",
       "</thead>\n",
       "<tbody>\n",
       "\t<tr><th scope=row>1</th><td>IPSI123_NT_A5</td><td>1.2059375</td><td>40.41281</td><td>0.02410064</td><td>0.8641783</td><td>0.06666667</td><td>7.632335</td><td>IPSI123_NT_A5</td><td>IPSI123-NT-10-A5_HumanL_deduplicated.bam</td><td>PUV11522</td><td>C4   </td><td>C4_NT  </td><td>control</td><td>NT</td><td>129-7010</td><td>NA      </td><td>KdVS1-NT</td></tr>\n",
       "\t<tr><th scope=row>2</th><td>IPSI123_NT_B5</td><td>1.2563333</td><td>39.92053</td><td>0.02240737</td><td>0.8495575</td><td>0.06666667</td><td>7.603650</td><td>IPSI123_NT_B5</td><td>IPSI123-NT-10-B5_HumanL_deduplicated.bam</td><td>PUV11522</td><td>C4   </td><td>C4_NT  </td><td>control</td><td>NT</td><td>129-7010</td><td>NA      </td><td>KdVS1-F </td></tr>\n",
       "\t<tr><th scope=row>3</th><td>IPSI123_NT_E5</td><td>1.7618750</td><td>38.61756</td><td>0.02407315</td><td>0.8071733</td><td>0.07000000</td><td>7.729869</td><td>IPSI123_NT_E5</td><td>IPSI123-NT-09-E5_HumanL_deduplicated.bam</td><td>PUV11522</td><td>C4   </td><td>C4_NT  </td><td>control</td><td>NT</td><td>129-7009</td><td>NA      </td><td>C1-NT   </td></tr>\n",
       "\t<tr><th scope=row>4</th><td>IPSI123_NT_F5</td><td>2.1031875</td><td>46.70344</td><td>0.02217099</td><td>0.8098494</td><td>0.07000000</td><td>7.641300</td><td>IPSI123_NT_F5</td><td>IPSI123-NT-09-F5_HumanL_deduplicated.bam</td><td>PUV11522</td><td>C4   </td><td>C4_NT  </td><td>control</td><td>NT</td><td>129-7009</td><td>NA      </td><td>C4-NT   </td></tr>\n",
       "\t<tr><th scope=row>5</th><td>KdVS1_F_A6   </td><td>1.1693125</td><td>63.67488</td><td>0.01533676</td><td>0.6899446</td><td>0.01666667</td><td>8.077592</td><td>KdVS1_F_A6   </td><td>KdVS1-F-09-A6_HumanL_deduplicated.bam   </td><td>PUV11522</td><td>KdVS1</td><td>KdVS1_F</td><td>KdVS   </td><td>F </td><td>129-7009</td><td>KdVS1-NT</td><td>KdVS2-NT</td></tr>\n",
       "\t<tr><th scope=row>6</th><td>KdVS1_F_B6   </td><td>0.8890625</td><td>37.41294</td><td>0.01831988</td><td>0.4210279</td><td>0.01333333</td><td>7.996992</td><td>KdVS1_F_B6   </td><td>KdVS1-F-09-B6_HumanL_deduplicated.bam   </td><td>PUV11522</td><td>KdVS1</td><td>KdVS1_F</td><td>KdVS   </td><td>F </td><td>129-7009</td><td>KdVS1-NT</td><td>KdVS2-PH</td></tr>\n",
       "</tbody>\n",
       "</table>\n"
      ],
      "text/latex": [
       "A data.frame: 6 × 17\n",
       "\\begin{tabular}{r|lllllllllllllllll}\n",
       "  & Row.names & Firing\\_rate\\_Hz & EB\\_prop & EB\\_ISI & NB\\_prop & NB\\_rate\\_Hz & ENSG00000073464 & sample & raw\\_annotation & project & cell\\_line & group & condition & treatment & MEA & own\\_control & order\\\\\n",
       "  & <I<chr>> & <dbl> & <dbl> & <dbl> & <dbl> & <dbl> & <dbl> & <I<chr>> & <chr> & <chr> & <chr> & <chr> & <chr> & <chr> & <chr> & <chr> & <chr>\\\\\n",
       "\\hline\n",
       "\t1 & IPSI123\\_NT\\_A5 & 1.2059375 & 40.41281 & 0.02410064 & 0.8641783 & 0.06666667 & 7.632335 & IPSI123\\_NT\\_A5 & IPSI123-NT-10-A5\\_HumanL\\_deduplicated.bam & PUV11522 & C4    & C4\\_NT   & control & NT & 129-7010 & NA       & KdVS1-NT\\\\\n",
       "\t2 & IPSI123\\_NT\\_B5 & 1.2563333 & 39.92053 & 0.02240737 & 0.8495575 & 0.06666667 & 7.603650 & IPSI123\\_NT\\_B5 & IPSI123-NT-10-B5\\_HumanL\\_deduplicated.bam & PUV11522 & C4    & C4\\_NT   & control & NT & 129-7010 & NA       & KdVS1-F \\\\\n",
       "\t3 & IPSI123\\_NT\\_E5 & 1.7618750 & 38.61756 & 0.02407315 & 0.8071733 & 0.07000000 & 7.729869 & IPSI123\\_NT\\_E5 & IPSI123-NT-09-E5\\_HumanL\\_deduplicated.bam & PUV11522 & C4    & C4\\_NT   & control & NT & 129-7009 & NA       & C1-NT   \\\\\n",
       "\t4 & IPSI123\\_NT\\_F5 & 2.1031875 & 46.70344 & 0.02217099 & 0.8098494 & 0.07000000 & 7.641300 & IPSI123\\_NT\\_F5 & IPSI123-NT-09-F5\\_HumanL\\_deduplicated.bam & PUV11522 & C4    & C4\\_NT   & control & NT & 129-7009 & NA       & C4-NT   \\\\\n",
       "\t5 & KdVS1\\_F\\_A6    & 1.1693125 & 63.67488 & 0.01533676 & 0.6899446 & 0.01666667 & 8.077592 & KdVS1\\_F\\_A6    & KdVS1-F-09-A6\\_HumanL\\_deduplicated.bam    & PUV11522 & KdVS1 & KdVS1\\_F & KdVS    & F  & 129-7009 & KdVS1-NT & KdVS2-NT\\\\\n",
       "\t6 & KdVS1\\_F\\_B6    & 0.8890625 & 37.41294 & 0.01831988 & 0.4210279 & 0.01333333 & 7.996992 & KdVS1\\_F\\_B6    & KdVS1-F-09-B6\\_HumanL\\_deduplicated.bam    & PUV11522 & KdVS1 & KdVS1\\_F & KdVS    & F  & 129-7009 & KdVS1-NT & KdVS2-PH\\\\\n",
       "\\end{tabular}\n"
      ],
      "text/markdown": [
       "\n",
       "A data.frame: 6 × 17\n",
       "\n",
       "| <!--/--> | Row.names &lt;I&lt;chr&gt;&gt; | Firing_rate_Hz &lt;dbl&gt; | EB_prop &lt;dbl&gt; | EB_ISI &lt;dbl&gt; | NB_prop &lt;dbl&gt; | NB_rate_Hz &lt;dbl&gt; | ENSG00000073464 &lt;dbl&gt; | sample &lt;I&lt;chr&gt;&gt; | raw_annotation &lt;chr&gt; | project &lt;chr&gt; | cell_line &lt;chr&gt; | group &lt;chr&gt; | condition &lt;chr&gt; | treatment &lt;chr&gt; | MEA &lt;chr&gt; | own_control &lt;chr&gt; | order &lt;chr&gt; |\n",
       "|---|---|---|---|---|---|---|---|---|---|---|---|---|---|---|---|---|---|\n",
       "| 1 | IPSI123_NT_A5 | 1.2059375 | 40.41281 | 0.02410064 | 0.8641783 | 0.06666667 | 7.632335 | IPSI123_NT_A5 | IPSI123-NT-10-A5_HumanL_deduplicated.bam | PUV11522 | C4    | C4_NT   | control | NT | 129-7010 | NA       | KdVS1-NT |\n",
       "| 2 | IPSI123_NT_B5 | 1.2563333 | 39.92053 | 0.02240737 | 0.8495575 | 0.06666667 | 7.603650 | IPSI123_NT_B5 | IPSI123-NT-10-B5_HumanL_deduplicated.bam | PUV11522 | C4    | C4_NT   | control | NT | 129-7010 | NA       | KdVS1-F  |\n",
       "| 3 | IPSI123_NT_E5 | 1.7618750 | 38.61756 | 0.02407315 | 0.8071733 | 0.07000000 | 7.729869 | IPSI123_NT_E5 | IPSI123-NT-09-E5_HumanL_deduplicated.bam | PUV11522 | C4    | C4_NT   | control | NT | 129-7009 | NA       | C1-NT    |\n",
       "| 4 | IPSI123_NT_F5 | 2.1031875 | 46.70344 | 0.02217099 | 0.8098494 | 0.07000000 | 7.641300 | IPSI123_NT_F5 | IPSI123-NT-09-F5_HumanL_deduplicated.bam | PUV11522 | C4    | C4_NT   | control | NT | 129-7009 | NA       | C4-NT    |\n",
       "| 5 | KdVS1_F_A6    | 1.1693125 | 63.67488 | 0.01533676 | 0.6899446 | 0.01666667 | 8.077592 | KdVS1_F_A6    | KdVS1-F-09-A6_HumanL_deduplicated.bam    | PUV11522 | KdVS1 | KdVS1_F | KdVS    | F  | 129-7009 | KdVS1-NT | KdVS2-NT |\n",
       "| 6 | KdVS1_F_B6    | 0.8890625 | 37.41294 | 0.01831988 | 0.4210279 | 0.01333333 | 7.996992 | KdVS1_F_B6    | KdVS1-F-09-B6_HumanL_deduplicated.bam    | PUV11522 | KdVS1 | KdVS1_F | KdVS    | F  | 129-7009 | KdVS1-NT | KdVS2-PH |\n",
       "\n"
      ],
      "text/plain": [
       "  Row.names     Firing_rate_Hz EB_prop  EB_ISI     NB_prop   NB_rate_Hz\n",
       "1 IPSI123_NT_A5 1.2059375      40.41281 0.02410064 0.8641783 0.06666667\n",
       "2 IPSI123_NT_B5 1.2563333      39.92053 0.02240737 0.8495575 0.06666667\n",
       "3 IPSI123_NT_E5 1.7618750      38.61756 0.02407315 0.8071733 0.07000000\n",
       "4 IPSI123_NT_F5 2.1031875      46.70344 0.02217099 0.8098494 0.07000000\n",
       "5 KdVS1_F_A6    1.1693125      63.67488 0.01533676 0.6899446 0.01666667\n",
       "6 KdVS1_F_B6    0.8890625      37.41294 0.01831988 0.4210279 0.01333333\n",
       "  ENSG00000073464 sample        raw_annotation                          \n",
       "1 7.632335        IPSI123_NT_A5 IPSI123-NT-10-A5_HumanL_deduplicated.bam\n",
       "2 7.603650        IPSI123_NT_B5 IPSI123-NT-10-B5_HumanL_deduplicated.bam\n",
       "3 7.729869        IPSI123_NT_E5 IPSI123-NT-09-E5_HumanL_deduplicated.bam\n",
       "4 7.641300        IPSI123_NT_F5 IPSI123-NT-09-F5_HumanL_deduplicated.bam\n",
       "5 8.077592        KdVS1_F_A6    KdVS1-F-09-A6_HumanL_deduplicated.bam   \n",
       "6 7.996992        KdVS1_F_B6    KdVS1-F-09-B6_HumanL_deduplicated.bam   \n",
       "  project  cell_line group   condition treatment MEA      own_control order   \n",
       "1 PUV11522 C4        C4_NT   control   NT        129-7010 NA          KdVS1-NT\n",
       "2 PUV11522 C4        C4_NT   control   NT        129-7010 NA          KdVS1-F \n",
       "3 PUV11522 C4        C4_NT   control   NT        129-7009 NA          C1-NT   \n",
       "4 PUV11522 C4        C4_NT   control   NT        129-7009 NA          C4-NT   \n",
       "5 PUV11522 KdVS1     KdVS1_F KdVS      F         129-7009 KdVS1-NT    KdVS2-NT\n",
       "6 PUV11522 KdVS1     KdVS1_F KdVS      F         129-7009 KdVS1-NT    KdVS2-PH"
      ]
     },
     "metadata": {},
     "output_type": "display_data"
    }
   ],
   "source": [
    "clcn4<-norm_counts_num[ , \"ENSG00000073464\", drop = FALSE]\n",
    "clcn4<-merge(MEA_seq, clcn4, by=0, all.x=TRUE)\n",
    "clcn4$sample<-clcn4$Row.names\n",
    "clcn4<- left_join(clcn4,samples_info, by=\"sample\")#left join\n",
    "head(clcn4)"
   ]
  },
  {
   "cell_type": "code",
   "execution_count": 41,
   "id": "207e2b31-af55-453a-a82a-5ccad355a988",
   "metadata": {},
   "outputs": [],
   "source": [
    "color_vector <- c('control'='#555555','KdVS'='#9D1B1F')"
   ]
  },
  {
   "cell_type": "code",
   "execution_count": 48,
   "id": "8b91fb79-9c6a-4e98-859a-225ce503bfe7",
   "metadata": {},
   "outputs": [],
   "source": [
    "p<-ggplot(clcn4, aes(\n",
    "  x = NB_rate_Hz,\n",
    "  y = ENSG00000073464,\n",
    "  color = condition,     # color by condition\n",
    "  shape = treatment,     # shape by treatment\n",
    "  label = Row.names\n",
    ")) +\n",
    "  geom_point(size = 3) +\n",
    "  geom_text_repel(aes(label = cell_line), size = 3, show.legend = FALSE) +  scale_color_manual(values = color_vector) +\n",
    "  labs(\n",
    "    x = \"NB_rate_Hz\",\n",
    "    y = \"CLCN4 expression\",\n",
    "    title = \"NB_rate_Hz vs CLCN4\",\n",
    "    color = \"Condition\",\n",
    "    shape = \"Treatment\"\n",
    "  ) +\n",
    "  theme_minimal()\n",
    "ggsave(\"CLCN4_NB_rate.pdf\",\n",
    "       width= 6,\n",
    "       height = 5,\n",
    "       plot=p)"
   ]
  },
  {
   "cell_type": "code",
   "execution_count": 28,
   "id": "86343ec5-71d5-40d3-b092-c75bb57fd9e2",
   "metadata": {},
   "outputs": [
    {
     "data": {
      "text/html": [
       "<table class=\"dataframe\">\n",
       "<caption>A data.frame: 5 × 4</caption>\n",
       "<thead>\n",
       "\t<tr><th></th><th scope=col>Geneid</th><th scope=col>trait</th><th scope=col>pvalue</th><th scope=col>Genename</th></tr>\n",
       "\t<tr><th></th><th scope=col>&lt;fct&gt;</th><th scope=col>&lt;fct&gt;</th><th scope=col>&lt;dbl&gt;</th><th scope=col>&lt;chr&gt;</th></tr>\n",
       "</thead>\n",
       "<tbody>\n",
       "\t<tr><th scope=row>6104</th><td>ENSG00000073464</td><td>Firing_rate_Hz</td><td>0.02</td><td>CLCN4</td></tr>\n",
       "\t<tr><th scope=row>20584</th><td>ENSG00000073464</td><td>EB_prop       </td><td>0.58</td><td>CLCN4</td></tr>\n",
       "\t<tr><th scope=row>35064</th><td>ENSG00000073464</td><td>EB_ISI        </td><td>0.14</td><td>CLCN4</td></tr>\n",
       "\t<tr><th scope=row>49544</th><td>ENSG00000073464</td><td>NB_prop       </td><td>0.04</td><td>CLCN4</td></tr>\n",
       "\t<tr><th scope=row>64024</th><td>ENSG00000073464</td><td>NB_rate_Hz    </td><td>0.00</td><td>CLCN4</td></tr>\n",
       "</tbody>\n",
       "</table>\n"
      ],
      "text/latex": [
       "A data.frame: 5 × 4\n",
       "\\begin{tabular}{r|llll}\n",
       "  & Geneid & trait & pvalue & Genename\\\\\n",
       "  & <fct> & <fct> & <dbl> & <chr>\\\\\n",
       "\\hline\n",
       "\t6104 & ENSG00000073464 & Firing\\_rate\\_Hz & 0.02 & CLCN4\\\\\n",
       "\t20584 & ENSG00000073464 & EB\\_prop        & 0.58 & CLCN4\\\\\n",
       "\t35064 & ENSG00000073464 & EB\\_ISI         & 0.14 & CLCN4\\\\\n",
       "\t49544 & ENSG00000073464 & NB\\_prop        & 0.04 & CLCN4\\\\\n",
       "\t64024 & ENSG00000073464 & NB\\_rate\\_Hz     & 0.00 & CLCN4\\\\\n",
       "\\end{tabular}\n"
      ],
      "text/markdown": [
       "\n",
       "A data.frame: 5 × 4\n",
       "\n",
       "| <!--/--> | Geneid &lt;fct&gt; | trait &lt;fct&gt; | pvalue &lt;dbl&gt; | Genename &lt;chr&gt; |\n",
       "|---|---|---|---|---|\n",
       "| 6104 | ENSG00000073464 | Firing_rate_Hz | 0.02 | CLCN4 |\n",
       "| 20584 | ENSG00000073464 | EB_prop        | 0.58 | CLCN4 |\n",
       "| 35064 | ENSG00000073464 | EB_ISI         | 0.14 | CLCN4 |\n",
       "| 49544 | ENSG00000073464 | NB_prop        | 0.04 | CLCN4 |\n",
       "| 64024 | ENSG00000073464 | NB_rate_Hz     | 0.00 | CLCN4 |\n",
       "\n"
      ],
      "text/plain": [
       "      Geneid          trait          pvalue Genename\n",
       "6104  ENSG00000073464 Firing_rate_Hz 0.02   CLCN4   \n",
       "20584 ENSG00000073464 EB_prop        0.58   CLCN4   \n",
       "35064 ENSG00000073464 EB_ISI         0.14   CLCN4   \n",
       "49544 ENSG00000073464 NB_prop        0.04   CLCN4   \n",
       "64024 ENSG00000073464 NB_rate_Hz     0.00   CLCN4   "
      ]
     },
     "metadata": {},
     "output_type": "display_data"
    }
   ],
   "source": [
    "module.trait.corr.pvals_m[module.trait.corr.pvals_m$Genename == \"CLCN4\",]"
   ]
  },
  {
   "cell_type": "code",
   "execution_count": null,
   "id": "2fe40c21-abbd-43e9-a162-03c19ad5b755",
   "metadata": {},
   "outputs": [],
   "source": [
    "head(module.trait.corr.pvals_m)"
   ]
  },
  {
   "cell_type": "code",
   "execution_count": null,
   "id": "629dad47-077b-4355-8f7c-26cbce086ac6",
   "metadata": {},
   "outputs": [],
   "source": [
    "head(module.trait.corr_m)"
   ]
  },
  {
   "cell_type": "code",
   "execution_count": 15,
   "id": "8c6b1f11-e915-4b37-9e28-3fccd4717f7d",
   "metadata": {},
   "outputs": [
    {
     "data": {
      "text/html": [
       "<table class=\"dataframe\">\n",
       "<caption>A data.frame: 6 × 5</caption>\n",
       "<thead>\n",
       "\t<tr><th></th><th scope=col>Geneid</th><th scope=col>trait</th><th scope=col>corr</th><th scope=col>Genename</th><th scope=col>pvalue</th></tr>\n",
       "\t<tr><th></th><th scope=col>&lt;fct&gt;</th><th scope=col>&lt;fct&gt;</th><th scope=col>&lt;dbl&gt;</th><th scope=col>&lt;chr&gt;</th><th scope=col>&lt;dbl&gt;</th></tr>\n",
       "</thead>\n",
       "<tbody>\n",
       "\t<tr><th scope=row>1</th><td>ENSG00000160072</td><td>Firing_rate_Hz</td><td> 0.09214929</td><td>ATAD3B  </td><td>0.69</td></tr>\n",
       "\t<tr><th scope=row>2</th><td>ENSG00000225630</td><td>Firing_rate_Hz</td><td>-0.40437580</td><td>MTND2P28</td><td>0.04</td></tr>\n",
       "\t<tr><th scope=row>3</th><td>ENSG00000131584</td><td>Firing_rate_Hz</td><td>-0.28777349</td><td>ACAP3   </td><td>0.16</td></tr>\n",
       "\t<tr><th scope=row>4</th><td>ENSG00000169972</td><td>Firing_rate_Hz</td><td> 0.63783784</td><td>PUSL1   </td><td>0.00</td></tr>\n",
       "\t<tr><th scope=row>5</th><td>ENSG00000157911</td><td>Firing_rate_Hz</td><td> 0.52329472</td><td>PEX10   </td><td>0.00</td></tr>\n",
       "\t<tr><th scope=row>6</th><td>ENSG00000269896</td><td>Firing_rate_Hz</td><td>-0.52586873</td><td>        </td><td>0.00</td></tr>\n",
       "</tbody>\n",
       "</table>\n"
      ],
      "text/latex": [
       "A data.frame: 6 × 5\n",
       "\\begin{tabular}{r|lllll}\n",
       "  & Geneid & trait & corr & Genename & pvalue\\\\\n",
       "  & <fct> & <fct> & <dbl> & <chr> & <dbl>\\\\\n",
       "\\hline\n",
       "\t1 & ENSG00000160072 & Firing\\_rate\\_Hz &  0.09214929 & ATAD3B   & 0.69\\\\\n",
       "\t2 & ENSG00000225630 & Firing\\_rate\\_Hz & -0.40437580 & MTND2P28 & 0.04\\\\\n",
       "\t3 & ENSG00000131584 & Firing\\_rate\\_Hz & -0.28777349 & ACAP3    & 0.16\\\\\n",
       "\t4 & ENSG00000169972 & Firing\\_rate\\_Hz &  0.63783784 & PUSL1    & 0.00\\\\\n",
       "\t5 & ENSG00000157911 & Firing\\_rate\\_Hz &  0.52329472 & PEX10    & 0.00\\\\\n",
       "\t6 & ENSG00000269896 & Firing\\_rate\\_Hz & -0.52586873 &          & 0.00\\\\\n",
       "\\end{tabular}\n"
      ],
      "text/markdown": [
       "\n",
       "A data.frame: 6 × 5\n",
       "\n",
       "| <!--/--> | Geneid &lt;fct&gt; | trait &lt;fct&gt; | corr &lt;dbl&gt; | Genename &lt;chr&gt; | pvalue &lt;dbl&gt; |\n",
       "|---|---|---|---|---|---|\n",
       "| 1 | ENSG00000160072 | Firing_rate_Hz |  0.09214929 | ATAD3B   | 0.69 |\n",
       "| 2 | ENSG00000225630 | Firing_rate_Hz | -0.40437580 | MTND2P28 | 0.04 |\n",
       "| 3 | ENSG00000131584 | Firing_rate_Hz | -0.28777349 | ACAP3    | 0.16 |\n",
       "| 4 | ENSG00000169972 | Firing_rate_Hz |  0.63783784 | PUSL1    | 0.00 |\n",
       "| 5 | ENSG00000157911 | Firing_rate_Hz |  0.52329472 | PEX10    | 0.00 |\n",
       "| 6 | ENSG00000269896 | Firing_rate_Hz | -0.52586873 | <!----> | 0.00 |\n",
       "\n"
      ],
      "text/plain": [
       "  Geneid          trait          corr        Genename pvalue\n",
       "1 ENSG00000160072 Firing_rate_Hz  0.09214929 ATAD3B   0.69  \n",
       "2 ENSG00000225630 Firing_rate_Hz -0.40437580 MTND2P28 0.04  \n",
       "3 ENSG00000131584 Firing_rate_Hz -0.28777349 ACAP3    0.16  \n",
       "4 ENSG00000169972 Firing_rate_Hz  0.63783784 PUSL1    0.00  \n",
       "5 ENSG00000157911 Firing_rate_Hz  0.52329472 PEX10    0.00  \n",
       "6 ENSG00000269896 Firing_rate_Hz -0.52586873          0.00  "
      ]
     },
     "metadata": {},
     "output_type": "display_data"
    }
   ],
   "source": [
    "#check 1 CLCN4 antcorrelated, but not differentiallye xpressed. Plot this\n",
    "#check for mitochondrial genes, again enriched or not? GSEA\n",
    "merged_df <- module.trait.corr_m %>%\n",
    "  inner_join(module.trait.corr.pvals_m, \n",
    "             by = c(\"Geneid\", \"trait\", \"Genename\"))\n",
    "head(merged_df)"
   ]
  },
  {
   "cell_type": "code",
   "execution_count": 16,
   "id": "48ed216f-6844-469c-a725-cf22ffe2f83b",
   "metadata": {},
   "outputs": [],
   "source": [
    "merged_sig <- merged_df %>%\n",
    "  dplyr::filter(pvalue < 0.05)\n"
   ]
  },
  {
   "cell_type": "code",
   "execution_count": 17,
   "id": "98269997-cebb-4d50-a0c1-4d87d0585654",
   "metadata": {},
   "outputs": [],
   "source": [
    "# 3. Now, prepare ranked gene lists per trait\n",
    "# fgsea needs a named numeric vector: names = gene IDs, values = ranking metric\n",
    "ranked_lists <- merged_sig %>%\n",
    "  group_split(trait) %>%\n",
    "  setNames(unique(merged_sig$trait)) %>%\n",
    "  lapply(function(x) {\n",
    "    r <- x$corr\n",
    "    names(r) <- x$Genename   # or Geneid if you prefer\n",
    "    sort(r, decreasing = TRUE)\n",
    "  })"
   ]
  },
  {
   "cell_type": "code",
   "execution_count": 18,
   "id": "65266400-5201-44b1-a2d4-70214179dc83",
   "metadata": {},
   "outputs": [],
   "source": [
    "# 1. Read the GMT file\n",
    "gmt_path <- \".../0.Data/RNA_seq/counts_drugs_axion/gprofiler_full_hsapiens.name.gmt\"\n",
    "pathways <- gmtPathways(gmt_path)"
   ]
  },
  {
   "cell_type": "code",
   "execution_count": 19,
   "id": "59916186-d448-4184-8da6-8231317a284e",
   "metadata": {},
   "outputs": [
    {
     "data": {
      "text/plain": [
       "\n",
       "CORUM    GO    HP   HPA MIRNA  REAC    WP \n",
       " 2885 22796 10668   830  2658  2532   790 "
      ]
     },
     "metadata": {},
     "output_type": "display_data"
    }
   ],
   "source": [
    "# Summarize by prefix\n",
    "table(sub(\"[:].*\", \"\", names(pathways)))"
   ]
  },
  {
   "cell_type": "code",
   "execution_count": 20,
   "id": "57ef7a0f-7bcb-4408-a1c8-39efdf45d4ec",
   "metadata": {},
   "outputs": [],
   "source": [
    "pathways_go_bp <- pathways[grep(\"^GO:BP\", names(pathways))]\n",
    "pathways_go_mf <- pathways[grep(\"^GO:MF\", names(pathways))]\n",
    "pathways_go_cc <- pathways[grep(\"^GO:CC\", names(pathways))]\n",
    "pathways_corum <- pathways[grep(\"^CORUM\", names(pathways))]\n",
    "pathways_hp    <- pathways[grep(\"^HP\", names(pathways))]\n",
    "pathways_hpa   <- pathways[grep(\"^HPA\", names(pathways))]\n",
    "pathways_mirna <- pathways[grep(\"^MIRNA\", names(pathways))]\n",
    "pathways_reac  <- pathways[grep(\"^REAC\", names(pathways))]\n",
    "pathways_wp    <- pathways[grep(\"^WP\", names(pathways))]\n"
   ]
  },
  {
   "cell_type": "code",
   "execution_count": 21,
   "id": "d81412aa-34c6-425a-917f-64cee4529d9d",
   "metadata": {},
   "outputs": [
    {
     "name": "stdout",
     "output_type": "stream",
     "text": [
      "List of 3322\n",
      " $ WP:000000         : chr [1:8133] \"DPM1\" \"FGR\" \"CFH\" \"GCLC\" ...\n",
      " $ WP:WP100          : chr [1:19] \"GCLC\" \"GCLM\" \"GSTT2\" \"GGT5\" ...\n",
      " $ WP:WP106          : chr [1:12] \"ASPA\" \"DARS1\" \"GOT1\" \"GOT2\" ...\n",
      " $ WP:WP107          : chr [1:50] \"EIF2AK2\" \"EIF4B\" \"PABPC1\" \"EIF2B3\" ...\n",
      " $ WP:WP111          : chr [1:103] \"NDUFAB1\" \"SLC25A5\" \"UQCRC1\" \"COX15\" ...\n",
      " $ WP:WP117          : chr [1:93] \"CELSR3\" \"ADGRF5\" \"DRD4\" \"CELSR1\" ...\n",
      " $ WP:WP12           : chr [1:16] \"SLC9A1\" \"PDGFB\" \"ACP5\" \"AIMP2\" ...\n",
      " $ WP:WP127          : chr [1:40] \"BTK\" \"GSK3B\" \"IL5RA\" \"JAK2\" ...\n",
      " $ WP:WP129          : chr [1:30] \"MMP25\" \"TIMP2\" \"MMP2\" \"MMP11\" ...\n",
      " $ WP:WP134          : chr [1:7] \"PGLS\" \"PGD\" \"RPIA\" \"G6PD\" ...\n",
      " $ WP:WP136          : chr [1:8] \"PON1\" \"PON3\" \"PON2\" \"LIPA\" ...\n",
      " $ WP:WP138          : chr [1:89] \"FKBP4\" \"KDM1A\" \"CREBBP\" \"BRCA1\" ...\n",
      " $ WP:WP1403         : chr [1:67] \"CAMKK1\" \"ADIPOR2\" \"PIK3CB\" \"ELAVL1\" ...\n",
      " $ WP:WP1422         : chr [1:30] \"SPHK2\" \"PLPP1\" \"GBA2\" \"SPTLC1\" ...\n",
      " $ WP:WP1423         : chr [1:12] \"ST3GAL1\" \"ST8SIA5\" \"ST8SIA1\" \"ST3GAL5\" ...\n",
      " $ WP:WP1425         : chr [1:12] \"BMPR1A\" \"RUNX2\" \"BMP2\" \"SMAD6\" ...\n",
      " $ WP:WP143          : chr [1:34] \"ACSL4\" \"ACADVL\" \"ACAT1\" \"LIPE\" ...\n",
      " $ WP:WP1433         : chr [1:41] \"NLRP2\" \"PRDM1\" \"CASP8\" \"ACAP1\" ...\n",
      " $ WP:WP1434         : chr [1:13] \"MAP3K14\" \"MAPK1\" \"MMP9\" \"MAPK3\" ...\n",
      " $ WP:WP1438         : chr [1:2] \"BCL2\" \"MIR34C\"\n",
      " $ WP:WP1455         : chr [1:11] \"NOS1\" \"PPP2CB\" \"STX1A\" \"SLC6A4\" ...\n",
      " $ WP:WP1471         : chr [1:36] \"RRAGD\" \"IDI1\" \"CDC42\" \"ULK2\" ...\n",
      " $ WP:WP1495         : chr [1:3] \"SHMT1\" \"MTHFR\" \"SHMT2\"\n",
      " $ WP:WP15           : chr [1:86] \"MPO\" \"ALOX5\" \"F7\" \"SCARB1\" ...\n",
      " $ WP:WP1528         : chr [1:24] \"MAP2K3\" \"RHOA\" \"EDN1\" \"MAPK1\" ...\n",
      " $ WP:WP1530         : chr [1:98] \"RAD52\" \"BRCA1\" \"BID\" \"MRE11\" ...\n",
      " $ WP:WP1531         : chr [1:10] \"CYP24A1\" \"CYP27B1\" \"VDR\" \"CYP27A1\" ...\n",
      " $ WP:WP1533         : chr [1:51] \"MPO\" \"F7\" \"SCARB1\" \"NFKB2\" ...\n",
      " $ WP:WP1539         : chr [1:24] \"CREBBP\" \"TIMP2\" \"FGFR2\" \"MAPK1\" ...\n",
      " $ WP:WP1541         : chr [1:47] \"TFB1M\" \"MEF2A\" \"MEF2C\" \"GSK3B\" ...\n",
      " $ WP:WP1544         : chr [1:104] \"MAP3K14\" \"IGF1\" \"MAP2K3\" \"HDAC9\" ...\n",
      " $ WP:WP1545         : chr [1:68] \"RAD52\" \"ABL1\" \"E2F1\" \"CCNE1\" ...\n",
      " $ WP:WP1559         : chr [1:15] \"RASGRF1\" \"MYEF2\" \"AKT2\" \"TGFB1\" ...\n",
      " $ WP:WP1584         : chr [1:22] \"PHKA2\" \"PRKCZ\" \"MAPK1\" \"IKBKB\" ...\n",
      " $ WP:WP1589         : chr [1:9] \"MTR\" \"CREB1\" \"CYP2E1\" \"ALDH1L1\" ...\n",
      " $ WP:WP1591         : chr [1:47] \"ISL1\" \"FOXC1\" \"ERBB3\" \"FGF10\" ...\n",
      " $ WP:WP1600         : chr [1:6] \"FMO3\" \"AOX1\" \"CYP2B6\" \"UGT1A9\" ...\n",
      " $ WP:WP1601         : chr [1:34] \"UPP2\" \"TYMP\" \"UPB1\" \"ERCC2\" ...\n",
      " $ WP:WP1602         : chr [1:21] \"DRD4\" \"PRKACA\" \"ADCY2\" \"GNB1\" ...\n",
      " $ WP:WP1603         : chr [1:4] \"CACNA1G\" \"CHRNA3\" \"CHRNB4\" \"CACNA1C\"\n",
      " $ WP:WP1604         : chr [1:14] \"ABCC2\" \"ABCB1\" \"CYP2D6\" \"ABCC3\" ...\n",
      " $ WP:WP167          : chr [1:23] \"ALOX5\" \"DPEP1\" \"TBXAS1\" \"PTGS2\" ...\n",
      " $ WP:WP170          : chr [1:38] \"NR1H3\" \"RORA\" \"RARB\" \"PGR\" ...\n",
      " $ WP:WP1742         : chr [1:19] \"BID\" \"TP63\" \"TP73\" \"BAX\" ...\n",
      " $ WP:WP176          : chr [1:69] \"MPO\" \"F7\" \"MTHFD2\" \"SCARB1\" ...\n",
      " $ WP:WP1772         : chr [1:90] \"BAD\" \"CASP10\" \"CFLAR\" \"MAP3K14\" ...\n",
      " $ WP:WP179          : chr [1:120] \"MAD1L1\" \"CDC27\" \"DBF4\" \"E2F2\" ...\n",
      " $ WP:WP183          : chr [1:62] \"PSMB1\" \"PSMC4\" \"PSMA4\" \"NEDD4\" ...\n",
      " $ WP:WP185          : chr [1:101] \"ITGAL\" \"ITGA3\" \"ITGA2B\" \"FYN\" ...\n",
      " $ WP:WP186          : chr [1:13] \"RAD52\" \"MRE11\" \"RAD51\" \"POLD1\" ...\n",
      " $ WP:WP1941         : chr [1:4] \"ACAA1\" \"SCP2\" \"HSD17B4\" \"ACOX1\"\n",
      " $ WP:WP1946         : chr [1:17] \"PFKP\" \"PGK1\" \"GPI\" \"GAPDH\" ...\n",
      " $ WP:WP195          : chr [1:55] \"MAP3K14\" \"MAP2K3\" \"MAPK9\" \"TAB2\" ...\n",
      " $ WP:WP197          : chr [1:15] \"CYP51A1\" \"MSMO1\" \"IDI1\" \"FDFT1\" ...\n",
      " $ WP:WP1971         : chr [1:48] \"BAD\" \"BRCA1\" \"MRE11\" \"CASP8\" ...\n",
      " $ WP:WP1981         : chr [1:25] \"TG\" \"MAPK1\" \"MAPK3\" \"SLC5A5\" ...\n",
      " $ WP:WP1982         : chr [1:71] \"NFYA\" \"CYP51A1\" \"MBTPS2\" \"MDH1\" ...\n",
      " $ WP:WP1991         : chr [1:17] \"MEF2A\" \"MEF2C\" \"SRF\" \"MEF2D\" ...\n",
      " $ WP:WP1992         : chr [1:18] \"IGF1\" \"KCNQ1\" \"HDAC4\" \"HCN2\" ...\n",
      " $ WP:WP1995         : chr [1:8] \"NOS2\" \"NOS1\" \"AOX1\" \"XDH\" ...\n",
      " $ WP:WP2007         : chr [1:12] \"TFRC\" \"MCOLN1\" \"TF\" \"HAMP\" ...\n",
      " $ WP:WP2011         : chr [1:18] \"NR1H3\" \"SREBF1\" \"SIRT6\" \"SIRT1\" ...\n",
      " $ WP:WP2018         : chr [1:55] \"CALCR\" \"GAB2\" \"MAPK9\" \"TAB2\" ...\n",
      " $ WP:WP2023         : chr [1:58] \"PAX7\" \"MEF2A\" \"MEF2C\" \"EZH2\" ...\n",
      " $ WP:WP2029         : chr [1:49] \"MEF2A\" \"MEF2C\" \"TLX1\" \"HDAC5\" ...\n",
      " $ WP:WP2032         : chr [1:66] \"MAP2K3\" \"GNAI3\" \"PLD1\" \"RAP1GAP\" ...\n",
      " $ WP:WP2034         : chr [1:76] \"BAD\" \"FYN\" \"RHOA\" \"ROCK1\" ...\n",
      " $ WP:WP2035         : chr [1:27] \"PRKACA\" \"MAPK1\" \"MAPK3\" \"TSC2\" ...\n",
      " $ WP:WP2036         : chr [1:42] \"MAP3K14\" \"TNFRSF12A\" \"BIRC3\" \"MAPK9\" ...\n",
      " $ WP:WP2037         : chr [1:76] \"NOS2\" \"FYN\" \"GAB2\" \"MAPK9\" ...\n",
      " $ WP:WP2038         : chr [1:46] \"TRIO\" \"ROCK1\" \"TESK2\" \"CDC42\" ...\n",
      " $ WP:WP205          : chr [1:25] \"BAD\" \"FYN\" \"GSK3B\" \"MAPK1\" ...\n",
      " $ WP:WP2059         : chr [1:325] \"BAD\" \"WNT16\" \"DVL2\" \"SLC25A5\" ...\n",
      " $ WP:WP206          : chr [1:15] \"CYP2D6\" \"ALDH2\" \"CYP2E1\" \"CYP1A1\" ...\n",
      " $ WP:WP2064         : chr [1:101] \"DVL2\" \"TFAP2B\" \"PAX7\" \"ISL1\" ...\n",
      " $ WP:WP2112         : chr [1:32] \"MAP3K14\" \"IL17RB\" \"TRAF3IP2\" \"GSK3B\" ...\n",
      " $ WP:WP2113         : chr [1:10] \"TYK2\" \"STAT1\" \"JAK1\" \"STAT2\" ...\n",
      " $ WP:WP2118         : chr [1:74] \"ITGA3\" \"ITGA2B\" \"CACNG3\" \"CACNA2D2\" ...\n",
      " $ WP:WP2197         : chr [1:33] \"ADRB1\" \"GNA15\" \"CALCRL\" \"MYLK\" ...\n",
      " $ WP:WP22           : chr [1:17] \"MAPK1\" \"MAPK3\" \"JAK3\" \"PIK3R2\" ...\n",
      " $ WP:WP2203         : chr [1:47] \"BTK\" \"FYN\" \"GAB2\" \"MAPK9\" ...\n",
      " $ WP:WP2249         : chr [1:25] \"CDC42\" \"CDK6\" \"E2F3\" \"MYC\" ...\n",
      " $ WP:WP2253         : chr [1:6] \"SOS1\" \"RAF1\" \"BRAF\" \"GRB2\" ...\n",
      " $ WP:WP2261         : chr [1:83] \"PIK3C2A\" \"BRCA1\" \"PRKCH\" \"MAP2K3\" ...\n",
      " $ WP:WP2263         : chr [1:110] \"BAD\" \"BRCA1\" \"HGF\" \"MRE11\" ...\n",
      " $ WP:WP2267         : chr [1:51] \"AP2B1\" \"SYN1\" \"ATP1A2\" \"SLC18A1\" ...\n",
      " $ WP:WP2272         : chr [1:55] \"FYN\" \"WAS\" \"CDH1\" \"RHOA\" ...\n",
      " $ WP:WP2276         : chr [1:8] \"MAG\" \"PLP1\" \"MSN\" \"TPPP\" ...\n",
      " $ WP:WP2289         : chr [1:17] \"NR1H4\" \"ABCC2\" \"ABCB11\" \"ABCB1\" ...\n",
      " $ WP:WP229          : chr [1:12] \"ABCC2\" \"ABCC1\" \"CYP3A5\" \"BCHE\" ...\n",
      " $ WP:WP2290         : chr [1:12] \"RALA\" \"RALBP1\" \"YBX3\" \"CDC42\" ...\n",
      " $ WP:WP2291         : chr [1:16] \"RAB27B\" \"RAB27A\" \"RPH3A\" \"UNC13D\" ...\n",
      " $ WP:WP23           : chr [1:97] \"CD79B\" \"BTK\" \"FYN\" \"CD22\" ...\n",
      " $ WP:WP231          : chr [1:92] \"BAD\" \"CFLAR\" \"CREBBP\" \"MAP3K14\" ...\n",
      " $ WP:WP2324         : chr [1:66] \"NOS2\" \"MSR1\" \"MAPK9\" \"CASP8\" ...\n",
      " $ WP:WP2328         : chr [1:88] \"C8B\" \"VIM\" \"FAS\" \"C6\" ...\n",
      " $ WP:WP2332         : chr [1:44] \"FYN\" \"IBSP\" \"PIAS1\" \"BIRC5\" ...\n",
      " $ WP:WP2333         : chr [1:10] \"GCLM\" \"MAT2B\" \"AHCY\" \"CTH\" ...\n",
      " $ WP:WP2338         : chr [1:6] \"DICER1\" \"DROSHA\" \"XPO5\" \"DGCR8\" ...\n",
      "  [list output truncated]\n"
     ]
    }
   ],
   "source": [
    "pathways_selected <- c(pathways_go_bp, pathways_go_mf, pathways_go_cc, pathways_wp,pathways_reac)\n",
    "str(pathways_selected)\n"
   ]
  },
  {
   "cell_type": "code",
   "execution_count": 22,
   "id": "6f019f6c-cc30-4d98-b61e-7e7b692f53c4",
   "metadata": {},
   "outputs": [],
   "source": [
    "ranked_lists_unique <- lapply(ranked_lists, function(r) {\n",
    "  tapply(r, names(r), mean)  # average if duplicate\n",
    "})\n"
   ]
  },
  {
   "cell_type": "code",
   "execution_count": 23,
   "id": "8a2bb05d-0fa1-4c72-bbfa-6551a5c1b828",
   "metadata": {},
   "outputs": [
    {
     "name": "stderr",
     "output_type": "stream",
     "text": [
      "Warning message in preparePathwaysAndStats(pathways, stats, minSize, maxSize, gseaParam, :\n",
      "\"There are ties in the preranked stats (57.37% of the list).\n",
      "The order of those tied genes will be arbitrary, which may produce unexpected results.\"\n",
      "Warning message in preparePathwaysAndStats(pathways, stats, minSize, maxSize, gseaParam, :\n",
      "\"There are duplicate gene names, fgsea may produce unexpected results.\"\n",
      "Warning message in preparePathwaysAndStats(pathways, stats, minSize, maxSize, gseaParam, :\n",
      "\"There are ties in the preranked stats (57.34% of the list).\n",
      "The order of those tied genes will be arbitrary, which may produce unexpected results.\"\n",
      "Warning message in preparePathwaysAndStats(pathways, stats, minSize, maxSize, gseaParam, :\n",
      "\"There are duplicate gene names, fgsea may produce unexpected results.\"\n",
      "Warning message in preparePathwaysAndStats(pathways, stats, minSize, maxSize, gseaParam, :\n",
      "\"There are ties in the preranked stats (57.4% of the list).\n",
      "The order of those tied genes will be arbitrary, which may produce unexpected results.\"\n",
      "Warning message in preparePathwaysAndStats(pathways, stats, minSize, maxSize, gseaParam, :\n",
      "\"There are duplicate gene names, fgsea may produce unexpected results.\"\n",
      "Warning message in preparePathwaysAndStats(pathways, stats, minSize, maxSize, gseaParam, :\n",
      "\"There are ties in the preranked stats (59.98% of the list).\n",
      "The order of those tied genes will be arbitrary, which may produce unexpected results.\"\n",
      "Warning message in preparePathwaysAndStats(pathways, stats, minSize, maxSize, gseaParam, :\n",
      "\"There are duplicate gene names, fgsea may produce unexpected results.\"\n",
      "Warning message in preparePathwaysAndStats(pathways, stats, minSize, maxSize, gseaParam, :\n",
      "\"There are ties in the preranked stats (38.96% of the list).\n",
      "The order of those tied genes will be arbitrary, which may produce unexpected results.\"\n",
      "Warning message in preparePathwaysAndStats(pathways, stats, minSize, maxSize, gseaParam, :\n",
      "\"There are duplicate gene names, fgsea may produce unexpected results.\"\n"
     ]
    }
   ],
   "source": [
    "fgsea_results <- lapply(names(ranked_lists), function(tr) {\n",
    "  fgsea(pathways = pathways_selected,\n",
    "        stats    = ranked_lists[[tr]],\n",
    "        minSize  = 15,\n",
    "        maxSize  = 500)\n",
    "})\n",
    "names(fgsea_results) <- names(ranked_lists)"
   ]
  },
  {
   "cell_type": "code",
   "execution_count": 24,
   "id": "73c928fa-83ca-45c6-9fc6-bcb8315ca925",
   "metadata": {},
   "outputs": [],
   "source": [
    "sig_fgsea <- lapply(fgsea_results, function(df) {\n",
    "  df %>% dplyr::filter(padj < 0.05)\n",
    "})\n"
   ]
  },
  {
   "cell_type": "code",
   "execution_count": 25,
   "id": "0ede1fa7-0c5b-4b8d-8fd6-0dc29c407abc",
   "metadata": {},
   "outputs": [
    {
     "data": {
      "text/html": [
       "<table class=\"dataframe\">\n",
       "<caption>A data.table: 6 × 9</caption>\n",
       "<thead>\n",
       "\t<tr><th scope=col>pathway</th><th scope=col>pval</th><th scope=col>padj</th><th scope=col>log2err</th><th scope=col>ES</th><th scope=col>NES</th><th scope=col>size</th><th scope=col>leadingEdge</th><th scope=col>trait</th></tr>\n",
       "\t<tr><th scope=col>&lt;chr&gt;</th><th scope=col>&lt;dbl&gt;</th><th scope=col>&lt;dbl&gt;</th><th scope=col>&lt;dbl&gt;</th><th scope=col>&lt;dbl&gt;</th><th scope=col>&lt;dbl&gt;</th><th scope=col>&lt;int&gt;</th><th scope=col>&lt;list&gt;</th><th scope=col>&lt;chr&gt;</th></tr>\n",
       "</thead>\n",
       "<tbody>\n",
       "\t<tr><td>REAC:R-HSA-109582</td><td>2.613302e-03</td><td>0.0234916205</td><td>0.4317077</td><td>0.1673014</td><td>1.892065</td><td>176</td><td>GUCY1B1,....</td><td>Firing_rate_Hz</td></tr>\n",
       "\t<tr><td>REAC:R-HSA-112310</td><td>1.245778e-04</td><td>0.0019286491</td><td>0.5188481</td><td>0.4948064</td><td>2.443854</td><td> 19</td><td>GAD1, LI....</td><td>Firing_rate_Hz</td></tr>\n",
       "\t<tr><td>REAC:R-HSA-112314</td><td>4.890613e-04</td><td>0.0063883626</td><td>0.4772708</td><td>0.2576158</td><td>2.232021</td><td> 77</td><td>KCNJ3, T....</td><td>Firing_rate_Hz</td></tr>\n",
       "\t<tr><td>REAC:R-HSA-112315</td><td>1.036535e-05</td><td>0.0001969416</td><td>0.5933255</td><td>0.2741107</td><td>2.619136</td><td>101</td><td>KCNJ3, T....</td><td>Firing_rate_Hz</td></tr>\n",
       "\t<tr><td>REAC:R-HSA-112316</td><td>1.742089e-05</td><td>0.0003236414</td><td>0.5756103</td><td>0.2274780</td><td>2.463250</td><td>157</td><td>KCNJ3, S....</td><td>Firing_rate_Hz</td></tr>\n",
       "\t<tr><td>REAC:R-HSA-114608</td><td>2.265075e-05</td><td>0.0004116528</td><td>0.5756103</td><td>0.4163088</td><td>2.687284</td><td> 37</td><td>TIMP3, T....</td><td>Firing_rate_Hz</td></tr>\n",
       "</tbody>\n",
       "</table>\n"
      ],
      "text/latex": [
       "A data.table: 6 × 9\n",
       "\\begin{tabular}{lllllllll}\n",
       " pathway & pval & padj & log2err & ES & NES & size & leadingEdge & trait\\\\\n",
       " <chr> & <dbl> & <dbl> & <dbl> & <dbl> & <dbl> & <int> & <list> & <chr>\\\\\n",
       "\\hline\n",
       "\t REAC:R-HSA-109582 & 2.613302e-03 & 0.0234916205 & 0.4317077 & 0.1673014 & 1.892065 & 176 & GUCY1B1,.... & Firing\\_rate\\_Hz\\\\\n",
       "\t REAC:R-HSA-112310 & 1.245778e-04 & 0.0019286491 & 0.5188481 & 0.4948064 & 2.443854 &  19 & GAD1, LI.... & Firing\\_rate\\_Hz\\\\\n",
       "\t REAC:R-HSA-112314 & 4.890613e-04 & 0.0063883626 & 0.4772708 & 0.2576158 & 2.232021 &  77 & KCNJ3, T.... & Firing\\_rate\\_Hz\\\\\n",
       "\t REAC:R-HSA-112315 & 1.036535e-05 & 0.0001969416 & 0.5933255 & 0.2741107 & 2.619136 & 101 & KCNJ3, T.... & Firing\\_rate\\_Hz\\\\\n",
       "\t REAC:R-HSA-112316 & 1.742089e-05 & 0.0003236414 & 0.5756103 & 0.2274780 & 2.463250 & 157 & KCNJ3, S.... & Firing\\_rate\\_Hz\\\\\n",
       "\t REAC:R-HSA-114608 & 2.265075e-05 & 0.0004116528 & 0.5756103 & 0.4163088 & 2.687284 &  37 & TIMP3, T.... & Firing\\_rate\\_Hz\\\\\n",
       "\\end{tabular}\n"
      ],
      "text/markdown": [
       "\n",
       "A data.table: 6 × 9\n",
       "\n",
       "| pathway &lt;chr&gt; | pval &lt;dbl&gt; | padj &lt;dbl&gt; | log2err &lt;dbl&gt; | ES &lt;dbl&gt; | NES &lt;dbl&gt; | size &lt;int&gt; | leadingEdge &lt;list&gt; | trait &lt;chr&gt; |\n",
       "|---|---|---|---|---|---|---|---|---|\n",
       "| REAC:R-HSA-109582 | 2.613302e-03 | 0.0234916205 | 0.4317077 | 0.1673014 | 1.892065 | 176 | GUCY1B1,.... | Firing_rate_Hz |\n",
       "| REAC:R-HSA-112310 | 1.245778e-04 | 0.0019286491 | 0.5188481 | 0.4948064 | 2.443854 |  19 | GAD1, LI.... | Firing_rate_Hz |\n",
       "| REAC:R-HSA-112314 | 4.890613e-04 | 0.0063883626 | 0.4772708 | 0.2576158 | 2.232021 |  77 | KCNJ3, T.... | Firing_rate_Hz |\n",
       "| REAC:R-HSA-112315 | 1.036535e-05 | 0.0001969416 | 0.5933255 | 0.2741107 | 2.619136 | 101 | KCNJ3, T.... | Firing_rate_Hz |\n",
       "| REAC:R-HSA-112316 | 1.742089e-05 | 0.0003236414 | 0.5756103 | 0.2274780 | 2.463250 | 157 | KCNJ3, S.... | Firing_rate_Hz |\n",
       "| REAC:R-HSA-114608 | 2.265075e-05 | 0.0004116528 | 0.5756103 | 0.4163088 | 2.687284 |  37 | TIMP3, T.... | Firing_rate_Hz |\n",
       "\n"
      ],
      "text/plain": [
       "  pathway           pval         padj         log2err   ES        NES      size\n",
       "1 REAC:R-HSA-109582 2.613302e-03 0.0234916205 0.4317077 0.1673014 1.892065 176 \n",
       "2 REAC:R-HSA-112310 1.245778e-04 0.0019286491 0.5188481 0.4948064 2.443854  19 \n",
       "3 REAC:R-HSA-112314 4.890613e-04 0.0063883626 0.4772708 0.2576158 2.232021  77 \n",
       "4 REAC:R-HSA-112315 1.036535e-05 0.0001969416 0.5933255 0.2741107 2.619136 101 \n",
       "5 REAC:R-HSA-112316 1.742089e-05 0.0003236414 0.5756103 0.2274780 2.463250 157 \n",
       "6 REAC:R-HSA-114608 2.265075e-05 0.0004116528 0.5756103 0.4163088 2.687284  37 \n",
       "  leadingEdge  trait         \n",
       "1 GUCY1B1,.... Firing_rate_Hz\n",
       "2 GAD1, LI.... Firing_rate_Hz\n",
       "3 KCNJ3, T.... Firing_rate_Hz\n",
       "4 KCNJ3, T.... Firing_rate_Hz\n",
       "5 KCNJ3, S.... Firing_rate_Hz\n",
       "6 TIMP3, T.... Firing_rate_Hz"
      ]
     },
     "metadata": {},
     "output_type": "display_data"
    }
   ],
   "source": [
    "sig_all <- bind_rows(\n",
    "  lapply(names(sig_fgsea), function(tr) {\n",
    "    sig_fgsea[[tr]] %>% mutate(trait = tr)\n",
    "  })\n",
    ")\n",
    "\n",
    "head(sig_all)\n"
   ]
  },
  {
   "cell_type": "code",
   "execution_count": 26,
   "id": "df4ba471-8a61-412e-93e1-db52c97c2ed0",
   "metadata": {},
   "outputs": [],
   "source": [
    "# 1. Read the GMT file\n",
    " \n",
    "# Read GMT\n",
    "gprofiler_gmt <- read.delim(\".../0.Data/RNA_seq/counts_drugs_axion/gprofiler_full_hsapiens.name.gmt\", \n",
    "                            header = FALSE, sep = \"\\t\", stringsAsFactors = FALSE)"
   ]
  },
  {
   "cell_type": "code",
   "execution_count": 27,
   "id": "fdb09351-3662-40a4-a901-1abb0e250390",
   "metadata": {},
   "outputs": [],
   "source": [
    "# Keep only first two columns for ID and name\n",
    "gmt_subset <- gprofiler_gmt %>%\n",
    "  dplyr::select(V1, V2) %>%\n",
    "  dplyr::rename(external_id = V1,\n",
    "                pathway_name = V2)\n",
    "\n",
    "# Optional: create a list-column of genes\n",
    "genes_list <- gprofiler_gmt %>%\n",
    "  dplyr::select(-V1, -V2) %>%               \n",
    "  apply(1, function(x) x[x != \"\"])   # remove empty strings\n",
    "\n",
    "# Add to subset\n",
    "gmt_subset$genes <- genes_list"
   ]
  },
  {
   "cell_type": "code",
   "execution_count": 28,
   "id": "c5c9d692-c850-4de2-bb4b-91aa1019082e",
   "metadata": {},
   "outputs": [
    {
     "data": {
      "text/html": [
       "<table class=\"dataframe\">\n",
       "<caption>A data.table: 6 × 9</caption>\n",
       "<thead>\n",
       "\t<tr><th scope=col>pathway</th><th scope=col>pval</th><th scope=col>padj</th><th scope=col>log2err</th><th scope=col>ES</th><th scope=col>NES</th><th scope=col>size</th><th scope=col>leadingEdge</th><th scope=col>trait</th></tr>\n",
       "\t<tr><th scope=col>&lt;chr&gt;</th><th scope=col>&lt;dbl&gt;</th><th scope=col>&lt;dbl&gt;</th><th scope=col>&lt;dbl&gt;</th><th scope=col>&lt;dbl&gt;</th><th scope=col>&lt;dbl&gt;</th><th scope=col>&lt;int&gt;</th><th scope=col>&lt;list&gt;</th><th scope=col>&lt;chr&gt;</th></tr>\n",
       "</thead>\n",
       "<tbody>\n",
       "\t<tr><td>REAC:R-HSA-109582</td><td>2.613302e-03</td><td>0.0234916205</td><td>0.4317077</td><td>0.1673014</td><td>1.892065</td><td>176</td><td>GUCY1B1,....</td><td>Firing_rate_Hz</td></tr>\n",
       "\t<tr><td>REAC:R-HSA-112310</td><td>1.245778e-04</td><td>0.0019286491</td><td>0.5188481</td><td>0.4948064</td><td>2.443854</td><td> 19</td><td>GAD1, LI....</td><td>Firing_rate_Hz</td></tr>\n",
       "\t<tr><td>REAC:R-HSA-112314</td><td>4.890613e-04</td><td>0.0063883626</td><td>0.4772708</td><td>0.2576158</td><td>2.232021</td><td> 77</td><td>KCNJ3, T....</td><td>Firing_rate_Hz</td></tr>\n",
       "\t<tr><td>REAC:R-HSA-112315</td><td>1.036535e-05</td><td>0.0001969416</td><td>0.5933255</td><td>0.2741107</td><td>2.619136</td><td>101</td><td>KCNJ3, T....</td><td>Firing_rate_Hz</td></tr>\n",
       "\t<tr><td>REAC:R-HSA-112316</td><td>1.742089e-05</td><td>0.0003236414</td><td>0.5756103</td><td>0.2274780</td><td>2.463250</td><td>157</td><td>KCNJ3, S....</td><td>Firing_rate_Hz</td></tr>\n",
       "\t<tr><td>REAC:R-HSA-114608</td><td>2.265075e-05</td><td>0.0004116528</td><td>0.5756103</td><td>0.4163088</td><td>2.687284</td><td> 37</td><td>TIMP3, T....</td><td>Firing_rate_Hz</td></tr>\n",
       "</tbody>\n",
       "</table>\n"
      ],
      "text/latex": [
       "A data.table: 6 × 9\n",
       "\\begin{tabular}{lllllllll}\n",
       " pathway & pval & padj & log2err & ES & NES & size & leadingEdge & trait\\\\\n",
       " <chr> & <dbl> & <dbl> & <dbl> & <dbl> & <dbl> & <int> & <list> & <chr>\\\\\n",
       "\\hline\n",
       "\t REAC:R-HSA-109582 & 2.613302e-03 & 0.0234916205 & 0.4317077 & 0.1673014 & 1.892065 & 176 & GUCY1B1,.... & Firing\\_rate\\_Hz\\\\\n",
       "\t REAC:R-HSA-112310 & 1.245778e-04 & 0.0019286491 & 0.5188481 & 0.4948064 & 2.443854 &  19 & GAD1, LI.... & Firing\\_rate\\_Hz\\\\\n",
       "\t REAC:R-HSA-112314 & 4.890613e-04 & 0.0063883626 & 0.4772708 & 0.2576158 & 2.232021 &  77 & KCNJ3, T.... & Firing\\_rate\\_Hz\\\\\n",
       "\t REAC:R-HSA-112315 & 1.036535e-05 & 0.0001969416 & 0.5933255 & 0.2741107 & 2.619136 & 101 & KCNJ3, T.... & Firing\\_rate\\_Hz\\\\\n",
       "\t REAC:R-HSA-112316 & 1.742089e-05 & 0.0003236414 & 0.5756103 & 0.2274780 & 2.463250 & 157 & KCNJ3, S.... & Firing\\_rate\\_Hz\\\\\n",
       "\t REAC:R-HSA-114608 & 2.265075e-05 & 0.0004116528 & 0.5756103 & 0.4163088 & 2.687284 &  37 & TIMP3, T.... & Firing\\_rate\\_Hz\\\\\n",
       "\\end{tabular}\n"
      ],
      "text/markdown": [
       "\n",
       "A data.table: 6 × 9\n",
       "\n",
       "| pathway &lt;chr&gt; | pval &lt;dbl&gt; | padj &lt;dbl&gt; | log2err &lt;dbl&gt; | ES &lt;dbl&gt; | NES &lt;dbl&gt; | size &lt;int&gt; | leadingEdge &lt;list&gt; | trait &lt;chr&gt; |\n",
       "|---|---|---|---|---|---|---|---|---|\n",
       "| REAC:R-HSA-109582 | 2.613302e-03 | 0.0234916205 | 0.4317077 | 0.1673014 | 1.892065 | 176 | GUCY1B1,.... | Firing_rate_Hz |\n",
       "| REAC:R-HSA-112310 | 1.245778e-04 | 0.0019286491 | 0.5188481 | 0.4948064 | 2.443854 |  19 | GAD1, LI.... | Firing_rate_Hz |\n",
       "| REAC:R-HSA-112314 | 4.890613e-04 | 0.0063883626 | 0.4772708 | 0.2576158 | 2.232021 |  77 | KCNJ3, T.... | Firing_rate_Hz |\n",
       "| REAC:R-HSA-112315 | 1.036535e-05 | 0.0001969416 | 0.5933255 | 0.2741107 | 2.619136 | 101 | KCNJ3, T.... | Firing_rate_Hz |\n",
       "| REAC:R-HSA-112316 | 1.742089e-05 | 0.0003236414 | 0.5756103 | 0.2274780 | 2.463250 | 157 | KCNJ3, S.... | Firing_rate_Hz |\n",
       "| REAC:R-HSA-114608 | 2.265075e-05 | 0.0004116528 | 0.5756103 | 0.4163088 | 2.687284 |  37 | TIMP3, T.... | Firing_rate_Hz |\n",
       "\n"
      ],
      "text/plain": [
       "  pathway           pval         padj         log2err   ES        NES      size\n",
       "1 REAC:R-HSA-109582 2.613302e-03 0.0234916205 0.4317077 0.1673014 1.892065 176 \n",
       "2 REAC:R-HSA-112310 1.245778e-04 0.0019286491 0.5188481 0.4948064 2.443854  19 \n",
       "3 REAC:R-HSA-112314 4.890613e-04 0.0063883626 0.4772708 0.2576158 2.232021  77 \n",
       "4 REAC:R-HSA-112315 1.036535e-05 0.0001969416 0.5933255 0.2741107 2.619136 101 \n",
       "5 REAC:R-HSA-112316 1.742089e-05 0.0003236414 0.5756103 0.2274780 2.463250 157 \n",
       "6 REAC:R-HSA-114608 2.265075e-05 0.0004116528 0.5756103 0.4163088 2.687284  37 \n",
       "  leadingEdge  trait         \n",
       "1 GUCY1B1,.... Firing_rate_Hz\n",
       "2 GAD1, LI.... Firing_rate_Hz\n",
       "3 KCNJ3, T.... Firing_rate_Hz\n",
       "4 KCNJ3, T.... Firing_rate_Hz\n",
       "5 KCNJ3, S.... Firing_rate_Hz\n",
       "6 TIMP3, T.... Firing_rate_Hz"
      ]
     },
     "metadata": {},
     "output_type": "display_data"
    }
   ],
   "source": [
    "head(sig_all)"
   ]
  },
  {
   "cell_type": "code",
   "execution_count": 29,
   "id": "ab987870-ce43-4d73-a31f-a3b87a9a56f2",
   "metadata": {},
   "outputs": [
    {
     "data": {
      "text/html": [
       "<table class=\"dataframe\">\n",
       "<caption>A data.frame: 6 × 3</caption>\n",
       "<thead>\n",
       "\t<tr><th></th><th scope=col>external_id</th><th scope=col>pathway_name</th><th scope=col>genes</th></tr>\n",
       "\t<tr><th></th><th scope=col>&lt;chr&gt;</th><th scope=col>&lt;chr&gt;</th><th scope=col>&lt;list&gt;</th></tr>\n",
       "</thead>\n",
       "<tbody>\n",
       "\t<tr><th scope=row>1</th><td>CORUM:0000000</td><td>CORUM root                                </td><td>DPM1, GC....</td></tr>\n",
       "\t<tr><th scope=row>2</th><td>CORUM:1      </td><td>BCL6-HDAC4 complex                        </td><td> HDAC4, BCL6</td></tr>\n",
       "\t<tr><th scope=row>3</th><td>CORUM:10     </td><td>Condensin I complex                       </td><td>NCAPD2, ....</td></tr>\n",
       "\t<tr><th scope=row>4</th><td>CORUM:100    </td><td>hNURF complex                             </td><td>RBBP7, R....</td></tr>\n",
       "\t<tr><th scope=row>5</th><td>CORUM:1000   </td><td>TorsinA-TorsinB complex                   </td><td>TOR1B, TOR1A</td></tr>\n",
       "\t<tr><th scope=row>6</th><td>CORUM:1003   </td><td>RC complex (Replication competent complex)</td><td>POLA2, R....</td></tr>\n",
       "</tbody>\n",
       "</table>\n"
      ],
      "text/latex": [
       "A data.frame: 6 × 3\n",
       "\\begin{tabular}{r|lll}\n",
       "  & external\\_id & pathway\\_name & genes\\\\\n",
       "  & <chr> & <chr> & <list>\\\\\n",
       "\\hline\n",
       "\t1 & CORUM:0000000 & CORUM root                                 & DPM1, GC....\\\\\n",
       "\t2 & CORUM:1       & BCL6-HDAC4 complex                         &  HDAC4, BCL6\\\\\n",
       "\t3 & CORUM:10      & Condensin I complex                        & NCAPD2, ....\\\\\n",
       "\t4 & CORUM:100     & hNURF complex                              & RBBP7, R....\\\\\n",
       "\t5 & CORUM:1000    & TorsinA-TorsinB complex                    & TOR1B, TOR1A\\\\\n",
       "\t6 & CORUM:1003    & RC complex (Replication competent complex) & POLA2, R....\\\\\n",
       "\\end{tabular}\n"
      ],
      "text/markdown": [
       "\n",
       "A data.frame: 6 × 3\n",
       "\n",
       "| <!--/--> | external_id &lt;chr&gt; | pathway_name &lt;chr&gt; | genes &lt;list&gt; |\n",
       "|---|---|---|---|\n",
       "| 1 | CORUM:0000000 | CORUM root                                 | DPM1, GC.... |\n",
       "| 2 | CORUM:1       | BCL6-HDAC4 complex                         |  HDAC4, BCL6 |\n",
       "| 3 | CORUM:10      | Condensin I complex                        | NCAPD2, .... |\n",
       "| 4 | CORUM:100     | hNURF complex                              | RBBP7, R.... |\n",
       "| 5 | CORUM:1000    | TorsinA-TorsinB complex                    | TOR1B, TOR1A |\n",
       "| 6 | CORUM:1003    | RC complex (Replication competent complex) | POLA2, R.... |\n",
       "\n"
      ],
      "text/plain": [
       "  external_id   pathway_name                               genes       \n",
       "1 CORUM:0000000 CORUM root                                 DPM1, GC....\n",
       "2 CORUM:1       BCL6-HDAC4 complex                          HDAC4, BCL6\n",
       "3 CORUM:10      Condensin I complex                        NCAPD2, ....\n",
       "4 CORUM:100     hNURF complex                              RBBP7, R....\n",
       "5 CORUM:1000    TorsinA-TorsinB complex                    TOR1B, TOR1A\n",
       "6 CORUM:1003    RC complex (Replication competent complex) POLA2, R...."
      ]
     },
     "metadata": {},
     "output_type": "display_data"
    }
   ],
   "source": [
    "head(gmt_subset)"
   ]
  },
  {
   "cell_type": "code",
   "execution_count": 30,
   "id": "0c032090-f213-4e29-82eb-00bd943c67b5",
   "metadata": {},
   "outputs": [],
   "source": [
    "sig_all_named<-sig_all  %>%\n",
    "  left_join(gmt_subset, by = c(\"pathway\" = \"external_id\"))"
   ]
  },
  {
   "cell_type": "code",
   "execution_count": 31,
   "id": "ec71fa16-31f3-41bc-b661-49770c526101",
   "metadata": {},
   "outputs": [
    {
     "data": {
      "text/html": [
       "<table class=\"dataframe\">\n",
       "<caption>A data.table: 6 × 11</caption>\n",
       "<thead>\n",
       "\t<tr><th scope=col>pathway</th><th scope=col>pval</th><th scope=col>padj</th><th scope=col>log2err</th><th scope=col>ES</th><th scope=col>NES</th><th scope=col>size</th><th scope=col>leadingEdge</th><th scope=col>trait</th><th scope=col>pathway_name</th><th scope=col>genes</th></tr>\n",
       "\t<tr><th scope=col>&lt;chr&gt;</th><th scope=col>&lt;dbl&gt;</th><th scope=col>&lt;dbl&gt;</th><th scope=col>&lt;dbl&gt;</th><th scope=col>&lt;dbl&gt;</th><th scope=col>&lt;dbl&gt;</th><th scope=col>&lt;int&gt;</th><th scope=col>&lt;list&gt;</th><th scope=col>&lt;chr&gt;</th><th scope=col>&lt;chr&gt;</th><th scope=col>&lt;list&gt;</th></tr>\n",
       "</thead>\n",
       "<tbody>\n",
       "\t<tr><td>REAC:R-HSA-109582</td><td>2.613302e-03</td><td>0.0234916205</td><td>0.4317077</td><td>0.1673014</td><td>1.892065</td><td>176</td><td>GUCY1B1,....</td><td>Firing_rate_Hz</td><td>Hemostasis                                                     </td><td>FGR, CD9....</td></tr>\n",
       "\t<tr><td>REAC:R-HSA-112310</td><td>1.245778e-04</td><td>0.0019286491</td><td>0.5188481</td><td>0.4948064</td><td>2.443854</td><td> 19</td><td>GAD1, LI....</td><td>Firing_rate_Hz</td><td>Neurotransmitter release cycle                                 </td><td>TSPOAP1,....</td></tr>\n",
       "\t<tr><td>REAC:R-HSA-112314</td><td>4.890613e-04</td><td>0.0063883626</td><td>0.4772708</td><td>0.2576158</td><td>2.232021</td><td> 77</td><td>KCNJ3, T....</td><td>Firing_rate_Hz</td><td>Neurotransmitter receptors and postsynaptic signal transmission</td><td>CAMKK1, ....</td></tr>\n",
       "\t<tr><td>REAC:R-HSA-112315</td><td>1.036535e-05</td><td>0.0001969416</td><td>0.5933255</td><td>0.2741107</td><td>2.619136</td><td>101</td><td>KCNJ3, T....</td><td>Firing_rate_Hz</td><td>Transmission across Chemical Synapses                          </td><td>CAMKK1, ....</td></tr>\n",
       "\t<tr><td>REAC:R-HSA-112316</td><td>1.742089e-05</td><td>0.0003236414</td><td>0.5756103</td><td>0.2274780</td><td>2.463250</td><td>157</td><td>KCNJ3, S....</td><td>Firing_rate_Hz</td><td>Neuronal System                                                </td><td>CAMKK1, ....</td></tr>\n",
       "\t<tr><td>REAC:R-HSA-114608</td><td>2.265075e-05</td><td>0.0004116528</td><td>0.5756103</td><td>0.4163088</td><td>2.687284</td><td> 37</td><td>TIMP3, T....</td><td>Firing_rate_Hz</td><td>Platelet degranulation                                         </td><td>LAMP2, I....</td></tr>\n",
       "</tbody>\n",
       "</table>\n"
      ],
      "text/latex": [
       "A data.table: 6 × 11\n",
       "\\begin{tabular}{lllllllllll}\n",
       " pathway & pval & padj & log2err & ES & NES & size & leadingEdge & trait & pathway\\_name & genes\\\\\n",
       " <chr> & <dbl> & <dbl> & <dbl> & <dbl> & <dbl> & <int> & <list> & <chr> & <chr> & <list>\\\\\n",
       "\\hline\n",
       "\t REAC:R-HSA-109582 & 2.613302e-03 & 0.0234916205 & 0.4317077 & 0.1673014 & 1.892065 & 176 & GUCY1B1,.... & Firing\\_rate\\_Hz & Hemostasis                                                      & FGR, CD9....\\\\\n",
       "\t REAC:R-HSA-112310 & 1.245778e-04 & 0.0019286491 & 0.5188481 & 0.4948064 & 2.443854 &  19 & GAD1, LI.... & Firing\\_rate\\_Hz & Neurotransmitter release cycle                                  & TSPOAP1,....\\\\\n",
       "\t REAC:R-HSA-112314 & 4.890613e-04 & 0.0063883626 & 0.4772708 & 0.2576158 & 2.232021 &  77 & KCNJ3, T.... & Firing\\_rate\\_Hz & Neurotransmitter receptors and postsynaptic signal transmission & CAMKK1, ....\\\\\n",
       "\t REAC:R-HSA-112315 & 1.036535e-05 & 0.0001969416 & 0.5933255 & 0.2741107 & 2.619136 & 101 & KCNJ3, T.... & Firing\\_rate\\_Hz & Transmission across Chemical Synapses                           & CAMKK1, ....\\\\\n",
       "\t REAC:R-HSA-112316 & 1.742089e-05 & 0.0003236414 & 0.5756103 & 0.2274780 & 2.463250 & 157 & KCNJ3, S.... & Firing\\_rate\\_Hz & Neuronal System                                                 & CAMKK1, ....\\\\\n",
       "\t REAC:R-HSA-114608 & 2.265075e-05 & 0.0004116528 & 0.5756103 & 0.4163088 & 2.687284 &  37 & TIMP3, T.... & Firing\\_rate\\_Hz & Platelet degranulation                                          & LAMP2, I....\\\\\n",
       "\\end{tabular}\n"
      ],
      "text/markdown": [
       "\n",
       "A data.table: 6 × 11\n",
       "\n",
       "| pathway &lt;chr&gt; | pval &lt;dbl&gt; | padj &lt;dbl&gt; | log2err &lt;dbl&gt; | ES &lt;dbl&gt; | NES &lt;dbl&gt; | size &lt;int&gt; | leadingEdge &lt;list&gt; | trait &lt;chr&gt; | pathway_name &lt;chr&gt; | genes &lt;list&gt; |\n",
       "|---|---|---|---|---|---|---|---|---|---|---|\n",
       "| REAC:R-HSA-109582 | 2.613302e-03 | 0.0234916205 | 0.4317077 | 0.1673014 | 1.892065 | 176 | GUCY1B1,.... | Firing_rate_Hz | Hemostasis                                                      | FGR, CD9.... |\n",
       "| REAC:R-HSA-112310 | 1.245778e-04 | 0.0019286491 | 0.5188481 | 0.4948064 | 2.443854 |  19 | GAD1, LI.... | Firing_rate_Hz | Neurotransmitter release cycle                                  | TSPOAP1,.... |\n",
       "| REAC:R-HSA-112314 | 4.890613e-04 | 0.0063883626 | 0.4772708 | 0.2576158 | 2.232021 |  77 | KCNJ3, T.... | Firing_rate_Hz | Neurotransmitter receptors and postsynaptic signal transmission | CAMKK1, .... |\n",
       "| REAC:R-HSA-112315 | 1.036535e-05 | 0.0001969416 | 0.5933255 | 0.2741107 | 2.619136 | 101 | KCNJ3, T.... | Firing_rate_Hz | Transmission across Chemical Synapses                           | CAMKK1, .... |\n",
       "| REAC:R-HSA-112316 | 1.742089e-05 | 0.0003236414 | 0.5756103 | 0.2274780 | 2.463250 | 157 | KCNJ3, S.... | Firing_rate_Hz | Neuronal System                                                 | CAMKK1, .... |\n",
       "| REAC:R-HSA-114608 | 2.265075e-05 | 0.0004116528 | 0.5756103 | 0.4163088 | 2.687284 |  37 | TIMP3, T.... | Firing_rate_Hz | Platelet degranulation                                          | LAMP2, I.... |\n",
       "\n"
      ],
      "text/plain": [
       "  pathway           pval         padj         log2err   ES        NES      size\n",
       "1 REAC:R-HSA-109582 2.613302e-03 0.0234916205 0.4317077 0.1673014 1.892065 176 \n",
       "2 REAC:R-HSA-112310 1.245778e-04 0.0019286491 0.5188481 0.4948064 2.443854  19 \n",
       "3 REAC:R-HSA-112314 4.890613e-04 0.0063883626 0.4772708 0.2576158 2.232021  77 \n",
       "4 REAC:R-HSA-112315 1.036535e-05 0.0001969416 0.5933255 0.2741107 2.619136 101 \n",
       "5 REAC:R-HSA-112316 1.742089e-05 0.0003236414 0.5756103 0.2274780 2.463250 157 \n",
       "6 REAC:R-HSA-114608 2.265075e-05 0.0004116528 0.5756103 0.4163088 2.687284  37 \n",
       "  leadingEdge  trait         \n",
       "1 GUCY1B1,.... Firing_rate_Hz\n",
       "2 GAD1, LI.... Firing_rate_Hz\n",
       "3 KCNJ3, T.... Firing_rate_Hz\n",
       "4 KCNJ3, T.... Firing_rate_Hz\n",
       "5 KCNJ3, S.... Firing_rate_Hz\n",
       "6 TIMP3, T.... Firing_rate_Hz\n",
       "  pathway_name                                                    genes       \n",
       "1 Hemostasis                                                      FGR, CD9....\n",
       "2 Neurotransmitter release cycle                                  TSPOAP1,....\n",
       "3 Neurotransmitter receptors and postsynaptic signal transmission CAMKK1, ....\n",
       "4 Transmission across Chemical Synapses                           CAMKK1, ....\n",
       "5 Neuronal System                                                 CAMKK1, ....\n",
       "6 Platelet degranulation                                          LAMP2, I...."
      ]
     },
     "metadata": {},
     "output_type": "display_data"
    }
   ],
   "source": [
    "head(sig_all_named)"
   ]
  },
  {
   "cell_type": "code",
   "execution_count": 34,
   "id": "8fc84744-3c2a-4ddb-b974-a5799f875f6d",
   "metadata": {},
   "outputs": [
    {
     "data": {
      "text/html": [
       "<table class=\"dataframe\">\n",
       "<caption>A data.table: 5 × 11</caption>\n",
       "<thead>\n",
       "\t<tr><th scope=col>pathway</th><th scope=col>pval</th><th scope=col>padj</th><th scope=col>log2err</th><th scope=col>ES</th><th scope=col>NES</th><th scope=col>size</th><th scope=col>leadingEdge</th><th scope=col>trait</th><th scope=col>pathway_name</th><th scope=col>genes</th></tr>\n",
       "\t<tr><th scope=col>&lt;chr&gt;</th><th scope=col>&lt;dbl&gt;</th><th scope=col>&lt;dbl&gt;</th><th scope=col>&lt;dbl&gt;</th><th scope=col>&lt;dbl&gt;</th><th scope=col>&lt;dbl&gt;</th><th scope=col>&lt;int&gt;</th><th scope=col>&lt;list&gt;</th><th scope=col>&lt;chr&gt;</th><th scope=col>&lt;chr&gt;</th><th scope=col>&lt;list&gt;</th></tr>\n",
       "</thead>\n",
       "<tbody>\n",
       "\t<tr><td>REAC:R-HSA-112316</td><td>1.742089e-05</td><td>3.236414e-04</td><td>0.5756103</td><td> 0.2274780</td><td> 2.463250</td><td>157</td><td>KCNJ3, S....</td><td>Firing_rate_Hz</td><td>Neuronal System                        </td><td>CAMKK1, ....</td></tr>\n",
       "\t<tr><td>REAC:R-HSA-112316</td><td>2.935402e-19</td><td>7.726398e-18</td><td>1.1330899</td><td> 0.4285099</td><td> 4.745021</td><td>137</td><td>GABRA2, ....</td><td>EB_prop       </td><td>Neuronal System                        </td><td>CAMKK1, ....</td></tr>\n",
       "\t<tr><td>WP:WP4222        </td><td>1.850685e-03</td><td>1.175823e-02</td><td>0.4550599</td><td> 0.4777711</td><td> 2.153567</td><td> 15</td><td>ADCY2, C....</td><td>EB_prop       </td><td>Phosphodiesterases in neuronal function</td><td>GUCY1B1,....</td></tr>\n",
       "\t<tr><td>REAC:R-HSA-112316</td><td>3.480644e-16</td><td>2.822803e-13</td><td>1.0376962</td><td>-0.3762692</td><td>-4.142833</td><td>158</td><td>PRKCB, N....</td><td>EB_ISI        </td><td>Neuronal System                        </td><td>CAMKK1, ....</td></tr>\n",
       "\t<tr><td>REAC:R-HSA-112316</td><td>1.008445e-02</td><td>4.581848e-02</td><td>0.3807304</td><td> 0.1616748</td><td> 1.791979</td><td>147</td><td>TUBA4A, ....</td><td>NB_prop       </td><td>Neuronal System                        </td><td>CAMKK1, ....</td></tr>\n",
       "</tbody>\n",
       "</table>\n"
      ],
      "text/latex": [
       "A data.table: 5 × 11\n",
       "\\begin{tabular}{lllllllllll}\n",
       " pathway & pval & padj & log2err & ES & NES & size & leadingEdge & trait & pathway\\_name & genes\\\\\n",
       " <chr> & <dbl> & <dbl> & <dbl> & <dbl> & <dbl> & <int> & <list> & <chr> & <chr> & <list>\\\\\n",
       "\\hline\n",
       "\t REAC:R-HSA-112316 & 1.742089e-05 & 3.236414e-04 & 0.5756103 &  0.2274780 &  2.463250 & 157 & KCNJ3, S.... & Firing\\_rate\\_Hz & Neuronal System                         & CAMKK1, ....\\\\\n",
       "\t REAC:R-HSA-112316 & 2.935402e-19 & 7.726398e-18 & 1.1330899 &  0.4285099 &  4.745021 & 137 & GABRA2, .... & EB\\_prop        & Neuronal System                         & CAMKK1, ....\\\\\n",
       "\t WP:WP4222         & 1.850685e-03 & 1.175823e-02 & 0.4550599 &  0.4777711 &  2.153567 &  15 & ADCY2, C.... & EB\\_prop        & Phosphodiesterases in neuronal function & GUCY1B1,....\\\\\n",
       "\t REAC:R-HSA-112316 & 3.480644e-16 & 2.822803e-13 & 1.0376962 & -0.3762692 & -4.142833 & 158 & PRKCB, N.... & EB\\_ISI         & Neuronal System                         & CAMKK1, ....\\\\\n",
       "\t REAC:R-HSA-112316 & 1.008445e-02 & 4.581848e-02 & 0.3807304 &  0.1616748 &  1.791979 & 147 & TUBA4A, .... & NB\\_prop        & Neuronal System                         & CAMKK1, ....\\\\\n",
       "\\end{tabular}\n"
      ],
      "text/markdown": [
       "\n",
       "A data.table: 5 × 11\n",
       "\n",
       "| pathway &lt;chr&gt; | pval &lt;dbl&gt; | padj &lt;dbl&gt; | log2err &lt;dbl&gt; | ES &lt;dbl&gt; | NES &lt;dbl&gt; | size &lt;int&gt; | leadingEdge &lt;list&gt; | trait &lt;chr&gt; | pathway_name &lt;chr&gt; | genes &lt;list&gt; |\n",
       "|---|---|---|---|---|---|---|---|---|---|---|\n",
       "| REAC:R-HSA-112316 | 1.742089e-05 | 3.236414e-04 | 0.5756103 |  0.2274780 |  2.463250 | 157 | KCNJ3, S.... | Firing_rate_Hz | Neuronal System                         | CAMKK1, .... |\n",
       "| REAC:R-HSA-112316 | 2.935402e-19 | 7.726398e-18 | 1.1330899 |  0.4285099 |  4.745021 | 137 | GABRA2, .... | EB_prop        | Neuronal System                         | CAMKK1, .... |\n",
       "| WP:WP4222         | 1.850685e-03 | 1.175823e-02 | 0.4550599 |  0.4777711 |  2.153567 |  15 | ADCY2, C.... | EB_prop        | Phosphodiesterases in neuronal function | GUCY1B1,.... |\n",
       "| REAC:R-HSA-112316 | 3.480644e-16 | 2.822803e-13 | 1.0376962 | -0.3762692 | -4.142833 | 158 | PRKCB, N.... | EB_ISI         | Neuronal System                         | CAMKK1, .... |\n",
       "| REAC:R-HSA-112316 | 1.008445e-02 | 4.581848e-02 | 0.3807304 |  0.1616748 |  1.791979 | 147 | TUBA4A, .... | NB_prop        | Neuronal System                         | CAMKK1, .... |\n",
       "\n"
      ],
      "text/plain": [
       "  pathway           pval         padj         log2err   ES         NES      \n",
       "1 REAC:R-HSA-112316 1.742089e-05 3.236414e-04 0.5756103  0.2274780  2.463250\n",
       "2 REAC:R-HSA-112316 2.935402e-19 7.726398e-18 1.1330899  0.4285099  4.745021\n",
       "3 WP:WP4222         1.850685e-03 1.175823e-02 0.4550599  0.4777711  2.153567\n",
       "4 REAC:R-HSA-112316 3.480644e-16 2.822803e-13 1.0376962 -0.3762692 -4.142833\n",
       "5 REAC:R-HSA-112316 1.008445e-02 4.581848e-02 0.3807304  0.1616748  1.791979\n",
       "  size leadingEdge  trait          pathway_name                           \n",
       "1 157  KCNJ3, S.... Firing_rate_Hz Neuronal System                        \n",
       "2 137  GABRA2, .... EB_prop        Neuronal System                        \n",
       "3  15  ADCY2, C.... EB_prop        Phosphodiesterases in neuronal function\n",
       "4 158  PRKCB, N.... EB_ISI         Neuronal System                        \n",
       "5 147  TUBA4A, .... NB_prop        Neuronal System                        \n",
       "  genes       \n",
       "1 CAMKK1, ....\n",
       "2 CAMKK1, ....\n",
       "3 GUCY1B1,....\n",
       "4 CAMKK1, ....\n",
       "5 CAMKK1, ...."
      ]
     },
     "metadata": {},
     "output_type": "display_data"
    }
   ],
   "source": [
    "# Filter pathways containing \"mitochondria\" (case-insensitive)\n",
    "neuron_projection_pathways <- sig_all_named %>%\n",
    "  dplyr::filter(grepl(\"neuron\", pathway_name, ignore.case = TRUE))\n",
    "neuron_projection_pathways"
   ]
  },
  {
   "cell_type": "code",
   "execution_count": 63,
   "id": "34dc3e27-15b5-4821-a682-1015eb90909e",
   "metadata": {},
   "outputs": [
    {
     "data": {
      "text/html": [
       "<table class=\"dataframe\">\n",
       "<caption>A data.table: 18 × 11</caption>\n",
       "<thead>\n",
       "\t<tr><th scope=col>pathway</th><th scope=col>pval</th><th scope=col>padj</th><th scope=col>log2err</th><th scope=col>ES</th><th scope=col>NES</th><th scope=col>size</th><th scope=col>leadingEdge</th><th scope=col>trait</th><th scope=col>pathway_name</th><th scope=col>genes</th></tr>\n",
       "\t<tr><th scope=col>&lt;chr&gt;</th><th scope=col>&lt;dbl&gt;</th><th scope=col>&lt;dbl&gt;</th><th scope=col>&lt;dbl&gt;</th><th scope=col>&lt;dbl&gt;</th><th scope=col>&lt;dbl&gt;</th><th scope=col>&lt;int&gt;</th><th scope=col>&lt;list&gt;</th><th scope=col>&lt;chr&gt;</th><th scope=col>&lt;chr&gt;</th><th scope=col>&lt;list&gt;</th></tr>\n",
       "</thead>\n",
       "<tbody>\n",
       "\t<tr><td>REAC:R-HSA-5368286</td><td>1.285323e-03</td><td>1.343163e-02</td><td>0.4550599</td><td>0.4034862</td><td>2.141614</td><td>24</td><td>MRPL19, ....</td><td>Firing_rate_Hz</td><td>Mitochondrial translation initiation                   </td><td>MRPS10, ....</td></tr>\n",
       "\t<tr><td>REAC:R-HSA-5368287</td><td>3.301544e-04</td><td>4.381097e-03</td><td>0.4984931</td><td>0.4170227</td><td>2.381472</td><td>27</td><td>MRPL19, ....</td><td>Firing_rate_Hz</td><td>Mitochondrial translation                              </td><td>MRPS10, ....</td></tr>\n",
       "\t<tr><td>REAC:R-HSA-5389840</td><td>1.166351e-03</td><td>1.250089e-02</td><td>0.4550599</td><td>0.4062523</td><td>2.206064</td><td>25</td><td>MRPL19, ....</td><td>Firing_rate_Hz</td><td>Mitochondrial translation elongation                   </td><td>MRPS10, ....</td></tr>\n",
       "\t<tr><td>REAC:R-HSA-5419276</td><td>1.231395e-03</td><td>1.303096e-02</td><td>0.4550599</td><td>0.4040951</td><td>2.144846</td><td>24</td><td>MRPL19, ....</td><td>Firing_rate_Hz</td><td>Mitochondrial translation termination                  </td><td>MRPS10, ....</td></tr>\n",
       "\t<tr><td>WP:WP111          </td><td>5.509671e-05</td><td>1.080674e-03</td><td>0.5573322</td><td>0.4097858</td><td>2.644075</td><td>35</td><td>UQCRC1, ....</td><td>EB_ISI        </td><td>Electron transport chain: OXPHOS system in mitochondria</td><td>NDUFAB1,....</td></tr>\n",
       "\t<tr><td>WP:WP4324         </td><td>4.819146e-03</td><td>3.722216e-02</td><td>0.4070179</td><td>0.4106987</td><td>2.082087</td><td>19</td><td>DMAC2, E....</td><td>EB_ISI        </td><td>Mitochondrial complex I assembly model OXPHOS system   </td><td>NDUFAF7,....</td></tr>\n",
       "\t<tr><td>REAC:R-HSA-5368287</td><td>4.591474e-03</td><td>2.476434e-02</td><td>0.4070179</td><td>0.3128406</td><td>1.936162</td><td>33</td><td>MRPS9, M....</td><td>NB_prop       </td><td>Mitochondrial translation                              </td><td>MRPS10, ....</td></tr>\n",
       "\t<tr><td>REAC:R-HSA-5389840</td><td>4.487994e-03</td><td>2.436340e-02</td><td>0.4070179</td><td>0.3364894</td><td>1.993455</td><td>30</td><td>MRPS9, M....</td><td>NB_prop       </td><td>Mitochondrial translation elongation                   </td><td>MRPS10, ....</td></tr>\n",
       "\t<tr><td>REAC:R-HSA-5419276</td><td>1.123421e-02</td><td>4.816310e-02</td><td>0.3807304</td><td>0.3268793</td><td>1.890554</td><td>28</td><td>MRPS9, M....</td><td>NB_prop       </td><td>Mitochondrial translation termination                  </td><td>MRPS10, ....</td></tr>\n",
       "\t<tr><td>WP:WP111          </td><td>6.800020e-03</td><td>3.286021e-02</td><td>0.4070179</td><td>0.3853509</td><td>2.019938</td><td>23</td><td>NDUFA3, ....</td><td>NB_prop       </td><td>Electron transport chain: OXPHOS system in mitochondria</td><td>NDUFAB1,....</td></tr>\n",
       "\t<tr><td>WP:WP4324         </td><td>6.730205e-03</td><td>3.271297e-02</td><td>0.4070179</td><td>0.4113310</td><td>1.947831</td><td>18</td><td>NDUFA3, ....</td><td>NB_prop       </td><td>Mitochondrial complex I assembly model OXPHOS system   </td><td>NDUFAF7,....</td></tr>\n",
       "\t<tr><td>REAC:R-HSA-1268020</td><td>1.159079e-03</td><td>1.473435e-02</td><td>0.4550599</td><td>0.3735684</td><td>2.094309</td><td>27</td><td>TIMM50, ....</td><td>NB_rate_Hz    </td><td>Mitochondrial protein import                           </td><td>SLC25A13....</td></tr>\n",
       "\t<tr><td>REAC:R-HSA-5368286</td><td>7.372531e-04</td><td>9.976699e-03</td><td>0.4772708</td><td>0.3569031</td><td>2.255591</td><td>36</td><td>MTFMT, M....</td><td>NB_rate_Hz    </td><td>Mitochondrial translation initiation                   </td><td>MRPS10, ....</td></tr>\n",
       "\t<tr><td>REAC:R-HSA-5368287</td><td>1.406208e-04</td><td>2.621796e-03</td><td>0.5188481</td><td>0.3518969</td><td>2.377103</td><td>41</td><td>GFM1, MT....</td><td>NB_rate_Hz    </td><td>Mitochondrial translation                              </td><td>MRPS10, ....</td></tr>\n",
       "\t<tr><td>REAC:R-HSA-5389840</td><td>3.555464e-04</td><td>5.628366e-03</td><td>0.4984931</td><td>0.3644408</td><td>2.332361</td><td>37</td><td>GFM1, MR....</td><td>NB_rate_Hz    </td><td>Mitochondrial translation elongation                   </td><td>MRPS10, ....</td></tr>\n",
       "\t<tr><td>REAC:R-HSA-5419276</td><td>1.995828e-04</td><td>3.417346e-03</td><td>0.5188481</td><td>0.3856468</td><td>2.437248</td><td>36</td><td>MRPL4, M....</td><td>NB_rate_Hz    </td><td>Mitochondrial translation termination                  </td><td>MRPS10, ....</td></tr>\n",
       "\t<tr><td>WP:WP111          </td><td>1.445307e-09</td><td>9.046438e-08</td><td>0.7881868</td><td>0.5154830</td><td>3.494998</td><td>42</td><td>ATP5MG, ....</td><td>NB_rate_Hz    </td><td>Electron transport chain: OXPHOS system in mitochondria</td><td>NDUFAB1,....</td></tr>\n",
       "\t<tr><td>WP:WP4324         </td><td>5.080574e-07</td><td>1.639462e-05</td><td>0.6594444</td><td>0.5513030</td><td>3.017846</td><td>25</td><td>NDUFAF2,....</td><td>NB_rate_Hz    </td><td>Mitochondrial complex I assembly model OXPHOS system   </td><td>NDUFAF7,....</td></tr>\n",
       "</tbody>\n",
       "</table>\n"
      ],
      "text/latex": [
       "A data.table: 18 × 11\n",
       "\\begin{tabular}{lllllllllll}\n",
       " pathway & pval & padj & log2err & ES & NES & size & leadingEdge & trait & pathway\\_name & genes\\\\\n",
       " <chr> & <dbl> & <dbl> & <dbl> & <dbl> & <dbl> & <int> & <list> & <chr> & <chr> & <list>\\\\\n",
       "\\hline\n",
       "\t REAC:R-HSA-5368286 & 1.285323e-03 & 1.343163e-02 & 0.4550599 & 0.4034862 & 2.141614 & 24 & MRPL19, .... & Firing\\_rate\\_Hz & Mitochondrial translation initiation                    & MRPS10, ....\\\\\n",
       "\t REAC:R-HSA-5368287 & 3.301544e-04 & 4.381097e-03 & 0.4984931 & 0.4170227 & 2.381472 & 27 & MRPL19, .... & Firing\\_rate\\_Hz & Mitochondrial translation                               & MRPS10, ....\\\\\n",
       "\t REAC:R-HSA-5389840 & 1.166351e-03 & 1.250089e-02 & 0.4550599 & 0.4062523 & 2.206064 & 25 & MRPL19, .... & Firing\\_rate\\_Hz & Mitochondrial translation elongation                    & MRPS10, ....\\\\\n",
       "\t REAC:R-HSA-5419276 & 1.231395e-03 & 1.303096e-02 & 0.4550599 & 0.4040951 & 2.144846 & 24 & MRPL19, .... & Firing\\_rate\\_Hz & Mitochondrial translation termination                   & MRPS10, ....\\\\\n",
       "\t WP:WP111           & 5.509671e-05 & 1.080674e-03 & 0.5573322 & 0.4097858 & 2.644075 & 35 & UQCRC1, .... & EB\\_ISI         & Electron transport chain: OXPHOS system in mitochondria & NDUFAB1,....\\\\\n",
       "\t WP:WP4324          & 4.819146e-03 & 3.722216e-02 & 0.4070179 & 0.4106987 & 2.082087 & 19 & DMAC2, E.... & EB\\_ISI         & Mitochondrial complex I assembly model OXPHOS system    & NDUFAF7,....\\\\\n",
       "\t REAC:R-HSA-5368287 & 4.591474e-03 & 2.476434e-02 & 0.4070179 & 0.3128406 & 1.936162 & 33 & MRPS9, M.... & NB\\_prop        & Mitochondrial translation                               & MRPS10, ....\\\\\n",
       "\t REAC:R-HSA-5389840 & 4.487994e-03 & 2.436340e-02 & 0.4070179 & 0.3364894 & 1.993455 & 30 & MRPS9, M.... & NB\\_prop        & Mitochondrial translation elongation                    & MRPS10, ....\\\\\n",
       "\t REAC:R-HSA-5419276 & 1.123421e-02 & 4.816310e-02 & 0.3807304 & 0.3268793 & 1.890554 & 28 & MRPS9, M.... & NB\\_prop        & Mitochondrial translation termination                   & MRPS10, ....\\\\\n",
       "\t WP:WP111           & 6.800020e-03 & 3.286021e-02 & 0.4070179 & 0.3853509 & 2.019938 & 23 & NDUFA3, .... & NB\\_prop        & Electron transport chain: OXPHOS system in mitochondria & NDUFAB1,....\\\\\n",
       "\t WP:WP4324          & 6.730205e-03 & 3.271297e-02 & 0.4070179 & 0.4113310 & 1.947831 & 18 & NDUFA3, .... & NB\\_prop        & Mitochondrial complex I assembly model OXPHOS system    & NDUFAF7,....\\\\\n",
       "\t REAC:R-HSA-1268020 & 1.159079e-03 & 1.473435e-02 & 0.4550599 & 0.3735684 & 2.094309 & 27 & TIMM50, .... & NB\\_rate\\_Hz     & Mitochondrial protein import                            & SLC25A13....\\\\\n",
       "\t REAC:R-HSA-5368286 & 7.372531e-04 & 9.976699e-03 & 0.4772708 & 0.3569031 & 2.255591 & 36 & MTFMT, M.... & NB\\_rate\\_Hz     & Mitochondrial translation initiation                    & MRPS10, ....\\\\\n",
       "\t REAC:R-HSA-5368287 & 1.406208e-04 & 2.621796e-03 & 0.5188481 & 0.3518969 & 2.377103 & 41 & GFM1, MT.... & NB\\_rate\\_Hz     & Mitochondrial translation                               & MRPS10, ....\\\\\n",
       "\t REAC:R-HSA-5389840 & 3.555464e-04 & 5.628366e-03 & 0.4984931 & 0.3644408 & 2.332361 & 37 & GFM1, MR.... & NB\\_rate\\_Hz     & Mitochondrial translation elongation                    & MRPS10, ....\\\\\n",
       "\t REAC:R-HSA-5419276 & 1.995828e-04 & 3.417346e-03 & 0.5188481 & 0.3856468 & 2.437248 & 36 & MRPL4, M.... & NB\\_rate\\_Hz     & Mitochondrial translation termination                   & MRPS10, ....\\\\\n",
       "\t WP:WP111           & 1.445307e-09 & 9.046438e-08 & 0.7881868 & 0.5154830 & 3.494998 & 42 & ATP5MG, .... & NB\\_rate\\_Hz     & Electron transport chain: OXPHOS system in mitochondria & NDUFAB1,....\\\\\n",
       "\t WP:WP4324          & 5.080574e-07 & 1.639462e-05 & 0.6594444 & 0.5513030 & 3.017846 & 25 & NDUFAF2,.... & NB\\_rate\\_Hz     & Mitochondrial complex I assembly model OXPHOS system    & NDUFAF7,....\\\\\n",
       "\\end{tabular}\n"
      ],
      "text/markdown": [
       "\n",
       "A data.table: 18 × 11\n",
       "\n",
       "| pathway &lt;chr&gt; | pval &lt;dbl&gt; | padj &lt;dbl&gt; | log2err &lt;dbl&gt; | ES &lt;dbl&gt; | NES &lt;dbl&gt; | size &lt;int&gt; | leadingEdge &lt;list&gt; | trait &lt;chr&gt; | pathway_name &lt;chr&gt; | genes &lt;list&gt; |\n",
       "|---|---|---|---|---|---|---|---|---|---|---|\n",
       "| REAC:R-HSA-5368286 | 1.285323e-03 | 1.343163e-02 | 0.4550599 | 0.4034862 | 2.141614 | 24 | MRPL19, .... | Firing_rate_Hz | Mitochondrial translation initiation                    | MRPS10, .... |\n",
       "| REAC:R-HSA-5368287 | 3.301544e-04 | 4.381097e-03 | 0.4984931 | 0.4170227 | 2.381472 | 27 | MRPL19, .... | Firing_rate_Hz | Mitochondrial translation                               | MRPS10, .... |\n",
       "| REAC:R-HSA-5389840 | 1.166351e-03 | 1.250089e-02 | 0.4550599 | 0.4062523 | 2.206064 | 25 | MRPL19, .... | Firing_rate_Hz | Mitochondrial translation elongation                    | MRPS10, .... |\n",
       "| REAC:R-HSA-5419276 | 1.231395e-03 | 1.303096e-02 | 0.4550599 | 0.4040951 | 2.144846 | 24 | MRPL19, .... | Firing_rate_Hz | Mitochondrial translation termination                   | MRPS10, .... |\n",
       "| WP:WP111           | 5.509671e-05 | 1.080674e-03 | 0.5573322 | 0.4097858 | 2.644075 | 35 | UQCRC1, .... | EB_ISI         | Electron transport chain: OXPHOS system in mitochondria | NDUFAB1,.... |\n",
       "| WP:WP4324          | 4.819146e-03 | 3.722216e-02 | 0.4070179 | 0.4106987 | 2.082087 | 19 | DMAC2, E.... | EB_ISI         | Mitochondrial complex I assembly model OXPHOS system    | NDUFAF7,.... |\n",
       "| REAC:R-HSA-5368287 | 4.591474e-03 | 2.476434e-02 | 0.4070179 | 0.3128406 | 1.936162 | 33 | MRPS9, M.... | NB_prop        | Mitochondrial translation                               | MRPS10, .... |\n",
       "| REAC:R-HSA-5389840 | 4.487994e-03 | 2.436340e-02 | 0.4070179 | 0.3364894 | 1.993455 | 30 | MRPS9, M.... | NB_prop        | Mitochondrial translation elongation                    | MRPS10, .... |\n",
       "| REAC:R-HSA-5419276 | 1.123421e-02 | 4.816310e-02 | 0.3807304 | 0.3268793 | 1.890554 | 28 | MRPS9, M.... | NB_prop        | Mitochondrial translation termination                   | MRPS10, .... |\n",
       "| WP:WP111           | 6.800020e-03 | 3.286021e-02 | 0.4070179 | 0.3853509 | 2.019938 | 23 | NDUFA3, .... | NB_prop        | Electron transport chain: OXPHOS system in mitochondria | NDUFAB1,.... |\n",
       "| WP:WP4324          | 6.730205e-03 | 3.271297e-02 | 0.4070179 | 0.4113310 | 1.947831 | 18 | NDUFA3, .... | NB_prop        | Mitochondrial complex I assembly model OXPHOS system    | NDUFAF7,.... |\n",
       "| REAC:R-HSA-1268020 | 1.159079e-03 | 1.473435e-02 | 0.4550599 | 0.3735684 | 2.094309 | 27 | TIMM50, .... | NB_rate_Hz     | Mitochondrial protein import                            | SLC25A13.... |\n",
       "| REAC:R-HSA-5368286 | 7.372531e-04 | 9.976699e-03 | 0.4772708 | 0.3569031 | 2.255591 | 36 | MTFMT, M.... | NB_rate_Hz     | Mitochondrial translation initiation                    | MRPS10, .... |\n",
       "| REAC:R-HSA-5368287 | 1.406208e-04 | 2.621796e-03 | 0.5188481 | 0.3518969 | 2.377103 | 41 | GFM1, MT.... | NB_rate_Hz     | Mitochondrial translation                               | MRPS10, .... |\n",
       "| REAC:R-HSA-5389840 | 3.555464e-04 | 5.628366e-03 | 0.4984931 | 0.3644408 | 2.332361 | 37 | GFM1, MR.... | NB_rate_Hz     | Mitochondrial translation elongation                    | MRPS10, .... |\n",
       "| REAC:R-HSA-5419276 | 1.995828e-04 | 3.417346e-03 | 0.5188481 | 0.3856468 | 2.437248 | 36 | MRPL4, M.... | NB_rate_Hz     | Mitochondrial translation termination                   | MRPS10, .... |\n",
       "| WP:WP111           | 1.445307e-09 | 9.046438e-08 | 0.7881868 | 0.5154830 | 3.494998 | 42 | ATP5MG, .... | NB_rate_Hz     | Electron transport chain: OXPHOS system in mitochondria | NDUFAB1,.... |\n",
       "| WP:WP4324          | 5.080574e-07 | 1.639462e-05 | 0.6594444 | 0.5513030 | 3.017846 | 25 | NDUFAF2,.... | NB_rate_Hz     | Mitochondrial complex I assembly model OXPHOS system    | NDUFAF7,.... |\n",
       "\n"
      ],
      "text/plain": [
       "   pathway            pval         padj         log2err   ES        NES     \n",
       "1  REAC:R-HSA-5368286 1.285323e-03 1.343163e-02 0.4550599 0.4034862 2.141614\n",
       "2  REAC:R-HSA-5368287 3.301544e-04 4.381097e-03 0.4984931 0.4170227 2.381472\n",
       "3  REAC:R-HSA-5389840 1.166351e-03 1.250089e-02 0.4550599 0.4062523 2.206064\n",
       "4  REAC:R-HSA-5419276 1.231395e-03 1.303096e-02 0.4550599 0.4040951 2.144846\n",
       "5  WP:WP111           5.509671e-05 1.080674e-03 0.5573322 0.4097858 2.644075\n",
       "6  WP:WP4324          4.819146e-03 3.722216e-02 0.4070179 0.4106987 2.082087\n",
       "7  REAC:R-HSA-5368287 4.591474e-03 2.476434e-02 0.4070179 0.3128406 1.936162\n",
       "8  REAC:R-HSA-5389840 4.487994e-03 2.436340e-02 0.4070179 0.3364894 1.993455\n",
       "9  REAC:R-HSA-5419276 1.123421e-02 4.816310e-02 0.3807304 0.3268793 1.890554\n",
       "10 WP:WP111           6.800020e-03 3.286021e-02 0.4070179 0.3853509 2.019938\n",
       "11 WP:WP4324          6.730205e-03 3.271297e-02 0.4070179 0.4113310 1.947831\n",
       "12 REAC:R-HSA-1268020 1.159079e-03 1.473435e-02 0.4550599 0.3735684 2.094309\n",
       "13 REAC:R-HSA-5368286 7.372531e-04 9.976699e-03 0.4772708 0.3569031 2.255591\n",
       "14 REAC:R-HSA-5368287 1.406208e-04 2.621796e-03 0.5188481 0.3518969 2.377103\n",
       "15 REAC:R-HSA-5389840 3.555464e-04 5.628366e-03 0.4984931 0.3644408 2.332361\n",
       "16 REAC:R-HSA-5419276 1.995828e-04 3.417346e-03 0.5188481 0.3856468 2.437248\n",
       "17 WP:WP111           1.445307e-09 9.046438e-08 0.7881868 0.5154830 3.494998\n",
       "18 WP:WP4324          5.080574e-07 1.639462e-05 0.6594444 0.5513030 3.017846\n",
       "   size leadingEdge  trait         \n",
       "1  24   MRPL19, .... Firing_rate_Hz\n",
       "2  27   MRPL19, .... Firing_rate_Hz\n",
       "3  25   MRPL19, .... Firing_rate_Hz\n",
       "4  24   MRPL19, .... Firing_rate_Hz\n",
       "5  35   UQCRC1, .... EB_ISI        \n",
       "6  19   DMAC2, E.... EB_ISI        \n",
       "7  33   MRPS9, M.... NB_prop       \n",
       "8  30   MRPS9, M.... NB_prop       \n",
       "9  28   MRPS9, M.... NB_prop       \n",
       "10 23   NDUFA3, .... NB_prop       \n",
       "11 18   NDUFA3, .... NB_prop       \n",
       "12 27   TIMM50, .... NB_rate_Hz    \n",
       "13 36   MTFMT, M.... NB_rate_Hz    \n",
       "14 41   GFM1, MT.... NB_rate_Hz    \n",
       "15 37   GFM1, MR.... NB_rate_Hz    \n",
       "16 36   MRPL4, M.... NB_rate_Hz    \n",
       "17 42   ATP5MG, .... NB_rate_Hz    \n",
       "18 25   NDUFAF2,.... NB_rate_Hz    \n",
       "   pathway_name                                            genes       \n",
       "1  Mitochondrial translation initiation                    MRPS10, ....\n",
       "2  Mitochondrial translation                               MRPS10, ....\n",
       "3  Mitochondrial translation elongation                    MRPS10, ....\n",
       "4  Mitochondrial translation termination                   MRPS10, ....\n",
       "5  Electron transport chain: OXPHOS system in mitochondria NDUFAB1,....\n",
       "6  Mitochondrial complex I assembly model OXPHOS system    NDUFAF7,....\n",
       "7  Mitochondrial translation                               MRPS10, ....\n",
       "8  Mitochondrial translation elongation                    MRPS10, ....\n",
       "9  Mitochondrial translation termination                   MRPS10, ....\n",
       "10 Electron transport chain: OXPHOS system in mitochondria NDUFAB1,....\n",
       "11 Mitochondrial complex I assembly model OXPHOS system    NDUFAF7,....\n",
       "12 Mitochondrial protein import                            SLC25A13....\n",
       "13 Mitochondrial translation initiation                    MRPS10, ....\n",
       "14 Mitochondrial translation                               MRPS10, ....\n",
       "15 Mitochondrial translation elongation                    MRPS10, ....\n",
       "16 Mitochondrial translation termination                   MRPS10, ....\n",
       "17 Electron transport chain: OXPHOS system in mitochondria NDUFAB1,....\n",
       "18 Mitochondrial complex I assembly model OXPHOS system    NDUFAF7,...."
      ]
     },
     "metadata": {},
     "output_type": "display_data"
    }
   ],
   "source": [
    "\n",
    "# Filter pathways containing \"mitochondria\" (case-insensitive)\n",
    "mito_pathways <- sig_all_named %>%\n",
    "  dplyr::filter(grepl(\"mitochondria\", pathway_name, ignore.case = TRUE))\n",
    "\n",
    "# View results\n",
    "mito_pathways"
   ]
  },
  {
   "cell_type": "code",
   "execution_count": null,
   "id": "786634b5-9222-4106-861a-103fde21fbc3",
   "metadata": {},
   "outputs": [],
   "source": [
    "mito_pathways"
   ]
  },
  {
   "cell_type": "code",
   "execution_count": 64,
   "id": "4929ecbb-ce76-4807-955f-318fbc352eaf",
   "metadata": {},
   "outputs": [],
   "source": [
    "df_plot <- mito_pathways %>%\n",
    "  mutate(logFDR = -log10(padj))  # useful for coloring"
   ]
  },
  {
   "cell_type": "code",
   "execution_count": 68,
   "id": "c9c319af-efc7-4879-bac0-2d50464bb0e5",
   "metadata": {},
   "outputs": [],
   "source": [
    "p<-ggplot(df_plot, aes(x = NES, \n",
    "                    y = pathway_name,\n",
    "                    size = size,\n",
    "                    color = logFDR)) +\n",
    "  geom_point(alpha = 0.8) +\n",
    "  scale_size_continuous(range = c(3,10)) +\n",
    "  scale_color_gradient(low = \"skyblue\", high = \"red\") +\n",
    "  facet_wrap(~trait, scales = \"free_y\") +\n",
    "  theme_minimal(base_size = 12) +\n",
    "  theme(\n",
    "    axis.text.y = element_text(size = 8),\n",
    "    strip.text = element_text(face = \"bold\"),\n",
    "    panel.grid.major.y = element_blank()\n",
    "  ) +\n",
    "  labs(\n",
    "    x = \"Normalized Enrichment Score (NES)\",\n",
    "    y = \"Mitochondrial pathway\",\n",
    "    size = \"Pathway size\",\n",
    "    color = \"-log10(FDR)\",\n",
    "    title = \"Enriched Pathways per Trait\"\n",
    "  )\n",
    "\n",
    "ggsave(\"mitochondria_MEAseq.pdf\",\n",
    "       width= 10,\n",
    "       height = 7,\n",
    "       plot=p)"
   ]
  }
 ],
 "metadata": {
  "kernelspec": {
   "display_name": "R 4.2.1 (native)",
   "language": "R",
   "name": "ir421_native"
  },
  "language_info": {
   "codemirror_mode": "r",
   "file_extension": ".r",
   "mimetype": "text/x-r-source",
   "name": "R",
   "pygments_lexer": "r",
   "version": "4.2.1"
  }
 },
 "nbformat": 4,
 "nbformat_minor": 5
}
