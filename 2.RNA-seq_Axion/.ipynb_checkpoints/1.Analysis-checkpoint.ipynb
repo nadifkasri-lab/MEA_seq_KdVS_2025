{
 "cells": [
  {
   "cell_type": "code",
   "execution_count": 1,
   "id": "321f1fee-4a9d-4d70-9a5c-423e24ef3bd5",
   "metadata": {},
   "outputs": [],
   "source": [
    "setwd(\".../output\")"
   ]
  },
  {
   "cell_type": "code",
   "execution_count": 2,
   "id": "ef6e8431-79f3-4d07-ad59-0eff8a9dce4c",
   "metadata": {},
   "outputs": [
    {
     "name": "stderr",
     "output_type": "stream",
     "text": [
      "\n",
      "\n",
      "Warning message:\n",
      "\"package 'gprofiler2' was built under R version 4.2.3\"\n",
      "Warning message:\n",
      "\"package 'ggvenn' was built under R version 4.2.3\"\n",
      "Loading required package: dplyr\n",
      "\n",
      "Warning message:\n",
      "\"package 'dplyr' was built under R version 4.2.3\"\n",
      "\n",
      "Attaching package: 'dplyr'\n",
      "\n",
      "\n",
      "The following objects are masked from 'package:stats':\n",
      "\n",
      "    filter, lag\n",
      "\n",
      "\n",
      "The following objects are masked from 'package:base':\n",
      "\n",
      "    intersect, setdiff, setequal, union\n",
      "\n",
      "\n",
      "Loading required package: grid\n",
      "\n",
      "Loading required package: ggplot2\n",
      "\n"
     ]
    }
   ],
   "source": [
    "library(rrvgo)\n",
    "library(gprofiler2)\n",
    "library(ggvenn)\n"
   ]
  },
  {
   "cell_type": "code",
   "execution_count": 3,
   "id": "6b6f7910-bf91-49b6-993a-c01df5581dda",
   "metadata": {},
   "outputs": [
    {
     "data": {
      "text/plain": [
       "[1] '0.2.3'"
      ]
     },
     "metadata": {},
     "output_type": "display_data"
    }
   ],
   "source": [
    "packageVersion(\"gprofiler2\")"
   ]
  },
  {
   "cell_type": "code",
   "execution_count": 4,
   "id": "7929f973-4f0d-4fda-8f8a-e5324214fb8f",
   "metadata": {},
   "outputs": [
    {
     "name": "stderr",
     "output_type": "stream",
     "text": [
      "Warning message:\n",
      "\"package 'stringr' was built under R version 4.2.3\"\n",
      "Loading required package: AnnotationDbi\n",
      "\n",
      "Warning message:\n",
      "\"package 'AnnotationDbi' was built under R version 4.2.2\"\n",
      "Loading required package: stats4\n",
      "\n",
      "Loading required package: BiocGenerics\n",
      "\n",
      "\n",
      "Attaching package: 'BiocGenerics'\n",
      "\n",
      "\n",
      "The following objects are masked from 'package:dplyr':\n",
      "\n",
      "    combine, intersect, setdiff, union\n",
      "\n",
      "\n",
      "The following objects are masked from 'package:stats':\n",
      "\n",
      "    IQR, mad, sd, var, xtabs\n",
      "\n",
      "\n",
      "The following objects are masked from 'package:base':\n",
      "\n",
      "    anyDuplicated, aperm, append, as.data.frame, basename, cbind,\n",
      "    colnames, dirname, do.call, duplicated, eval, evalq, Filter, Find,\n",
      "    get, grep, grepl, intersect, is.unsorted, lapply, Map, mapply,\n",
      "    match, mget, order, paste, pmax, pmax.int, pmin, pmin.int,\n",
      "    Position, rank, rbind, Reduce, rownames, sapply, setdiff, sort,\n",
      "    table, tapply, union, unique, unsplit, which.max, which.min\n",
      "\n",
      "\n",
      "Loading required package: Biobase\n",
      "\n",
      "Welcome to Bioconductor\n",
      "\n",
      "    Vignettes contain introductory material; view with\n",
      "    'browseVignettes()'. To cite Bioconductor, see\n",
      "    'citation(\"Biobase\")', and for packages 'citation(\"pkgname\")'.\n",
      "\n",
      "\n",
      "Loading required package: IRanges\n",
      "\n",
      "Loading required package: S4Vectors\n",
      "\n",
      "Warning message:\n",
      "\"package 'S4Vectors' was built under R version 4.2.2\"\n",
      "\n",
      "Attaching package: 'S4Vectors'\n",
      "\n",
      "\n",
      "The following objects are masked from 'package:dplyr':\n",
      "\n",
      "    first, rename\n",
      "\n",
      "\n",
      "The following objects are masked from 'package:base':\n",
      "\n",
      "    expand.grid, I, unname\n",
      "\n",
      "\n",
      "\n",
      "Attaching package: 'IRanges'\n",
      "\n",
      "\n",
      "The following objects are masked from 'package:dplyr':\n",
      "\n",
      "    collapse, desc, slice\n",
      "\n",
      "\n",
      "The following object is masked from 'package:grDevices':\n",
      "\n",
      "    windows\n",
      "\n",
      "\n",
      "\n",
      "Attaching package: 'AnnotationDbi'\n",
      "\n",
      "\n",
      "The following object is masked from 'package:dplyr':\n",
      "\n",
      "    select\n",
      "\n",
      "\n",
      "\n",
      "\n",
      "Loading required package: ensembldb\n",
      "\n",
      "Loading required package: GenomicRanges\n",
      "\n",
      "Warning message:\n",
      "\"package 'GenomicRanges' was built under R version 4.2.2\"\n",
      "Loading required package: GenomeInfoDb\n",
      "\n",
      "Warning message:\n",
      "\"package 'GenomeInfoDb' was built under R version 4.2.2\"\n",
      "Loading required package: GenomicFeatures\n",
      "\n",
      "Warning message:\n",
      "\"package 'GenomicFeatures' was built under R version 4.2.2\"\n",
      "Loading required package: AnnotationFilter\n",
      "\n",
      "\n",
      "Attaching package: 'ensembldb'\n",
      "\n",
      "\n",
      "The following object is masked from 'package:dplyr':\n",
      "\n",
      "    filter\n",
      "\n",
      "\n",
      "The following object is masked from 'package:stats':\n",
      "\n",
      "    filter\n",
      "\n",
      "\n",
      "Warning message:\n",
      "\"package 'rlang' was built under R version 4.2.3\"\n",
      "\n",
      "Attaching package: 'rlang'\n",
      "\n",
      "\n",
      "The following object is masked from 'package:Biobase':\n",
      "\n",
      "    exprs\n",
      "\n",
      "\n",
      "Warning message:\n",
      "\"package 'tidyverse' was built under R version 4.2.3\"\n",
      "Warning message:\n",
      "\"package 'tibble' was built under R version 4.2.3\"\n",
      "Warning message:\n",
      "\"package 'tidyr' was built under R version 4.2.3\"\n",
      "Warning message:\n",
      "\"package 'readr' was built under R version 4.2.3\"\n",
      "Warning message:\n",
      "\"package 'purrr' was built under R version 4.2.3\"\n",
      "Warning message:\n",
      "\"package 'forcats' was built under R version 4.2.3\"\n",
      "Warning message:\n",
      "\"package 'lubridate' was built under R version 4.2.3\"\n",
      "── \u001b[1mAttaching core tidyverse packages\u001b[22m ──────────────────────────────────────────────────────────────── tidyverse 2.0.0 ──\n",
      "\u001b[32m✔\u001b[39m \u001b[34mforcats  \u001b[39m 1.0.0     \u001b[32m✔\u001b[39m \u001b[34mreadr    \u001b[39m 2.1.5\n",
      "\u001b[32m✔\u001b[39m \u001b[34mlubridate\u001b[39m 1.9.3     \u001b[32m✔\u001b[39m \u001b[34mtibble   \u001b[39m 3.2.1\n",
      "\u001b[32m✔\u001b[39m \u001b[34mpurrr    \u001b[39m 1.0.2     \u001b[32m✔\u001b[39m \u001b[34mtidyr    \u001b[39m 1.3.1\n",
      "── \u001b[1mConflicts\u001b[22m ────────────────────────────────────────────────────────────────────────────────── tidyverse_conflicts() ──\n",
      "\u001b[31m✖\u001b[39m \u001b[34mpurrr\u001b[39m::\u001b[32m%@%()\u001b[39m             masks \u001b[34mrlang\u001b[39m::%@%()\n",
      "\u001b[31m✖\u001b[39m \u001b[34mlubridate\u001b[39m::\u001b[32m%within%()\u001b[39m    masks \u001b[34mIRanges\u001b[39m::%within%()\n",
      "\u001b[31m✖\u001b[39m \u001b[34mIRanges\u001b[39m::\u001b[32mcollapse()\u001b[39m      masks \u001b[34mdplyr\u001b[39m::collapse()\n",
      "\u001b[31m✖\u001b[39m \u001b[34mBiobase\u001b[39m::\u001b[32mcombine()\u001b[39m       masks \u001b[34mBiocGenerics\u001b[39m::combine(), \u001b[34mdplyr\u001b[39m::combine()\n",
      "\u001b[31m✖\u001b[39m \u001b[34mIRanges\u001b[39m::\u001b[32mdesc()\u001b[39m          masks \u001b[34mdplyr\u001b[39m::desc()\n",
      "\u001b[31m✖\u001b[39m \u001b[34mtidyr\u001b[39m::\u001b[32mexpand()\u001b[39m          masks \u001b[34mS4Vectors\u001b[39m::expand()\n",
      "\u001b[31m✖\u001b[39m \u001b[34mrlang\u001b[39m::\u001b[32mexprs()\u001b[39m           masks \u001b[34mBiobase\u001b[39m::exprs()\n",
      "\u001b[31m✖\u001b[39m \u001b[34mensembldb\u001b[39m::\u001b[32mfilter()\u001b[39m      masks \u001b[34mdplyr\u001b[39m::filter(), \u001b[34mstats\u001b[39m::filter()\n",
      "\u001b[31m✖\u001b[39m \u001b[34mS4Vectors\u001b[39m::\u001b[32mfirst()\u001b[39m       masks \u001b[34mdplyr\u001b[39m::first()\n",
      "\u001b[31m✖\u001b[39m \u001b[34mpurrr\u001b[39m::\u001b[32mflatten()\u001b[39m         masks \u001b[34mrlang\u001b[39m::flatten()\n",
      "\u001b[31m✖\u001b[39m \u001b[34mpurrr\u001b[39m::\u001b[32mflatten_chr()\u001b[39m     masks \u001b[34mrlang\u001b[39m::flatten_chr()\n",
      "\u001b[31m✖\u001b[39m \u001b[34mpurrr\u001b[39m::\u001b[32mflatten_dbl()\u001b[39m     masks \u001b[34mrlang\u001b[39m::flatten_dbl()\n",
      "\u001b[31m✖\u001b[39m \u001b[34mpurrr\u001b[39m::\u001b[32mflatten_int()\u001b[39m     masks \u001b[34mrlang\u001b[39m::flatten_int()\n",
      "\u001b[31m✖\u001b[39m \u001b[34mpurrr\u001b[39m::\u001b[32mflatten_lgl()\u001b[39m     masks \u001b[34mrlang\u001b[39m::flatten_lgl()\n",
      "\u001b[31m✖\u001b[39m \u001b[34mpurrr\u001b[39m::\u001b[32mflatten_raw()\u001b[39m     masks \u001b[34mrlang\u001b[39m::flatten_raw()\n",
      "\u001b[31m✖\u001b[39m \u001b[34mpurrr\u001b[39m::\u001b[32minvoke()\u001b[39m          masks \u001b[34mrlang\u001b[39m::invoke()\n",
      "\u001b[31m✖\u001b[39m \u001b[34mdplyr\u001b[39m::\u001b[32mlag()\u001b[39m             masks \u001b[34mstats\u001b[39m::lag()\n",
      "\u001b[31m✖\u001b[39m \u001b[34mBiocGenerics\u001b[39m::\u001b[32mPosition()\u001b[39m masks \u001b[34mggplot2\u001b[39m::Position(), \u001b[34mbase\u001b[39m::Position()\n",
      "\u001b[31m✖\u001b[39m \u001b[34mpurrr\u001b[39m::\u001b[32mreduce()\u001b[39m          masks \u001b[34mGenomicRanges\u001b[39m::reduce(), \u001b[34mIRanges\u001b[39m::reduce()\n",
      "\u001b[31m✖\u001b[39m \u001b[34mS4Vectors\u001b[39m::\u001b[32mrename()\u001b[39m      masks \u001b[34mdplyr\u001b[39m::rename()\n",
      "\u001b[31m✖\u001b[39m \u001b[34mlubridate\u001b[39m::\u001b[32msecond()\u001b[39m      masks \u001b[34mS4Vectors\u001b[39m::second()\n",
      "\u001b[31m✖\u001b[39m \u001b[34mlubridate\u001b[39m::\u001b[32msecond<-()\u001b[39m    masks \u001b[34mS4Vectors\u001b[39m::second<-()\n",
      "\u001b[31m✖\u001b[39m \u001b[34mensembldb\u001b[39m::\u001b[32mselect()\u001b[39m      masks \u001b[34mAnnotationDbi\u001b[39m::select(), \u001b[34mdplyr\u001b[39m::select()\n",
      "\u001b[31m✖\u001b[39m \u001b[34mIRanges\u001b[39m::\u001b[32mslice()\u001b[39m         masks \u001b[34mdplyr\u001b[39m::slice()\n",
      "\u001b[31m✖\u001b[39m \u001b[34mpurrr\u001b[39m::\u001b[32msplice()\u001b[39m          masks \u001b[34mrlang\u001b[39m::splice()\n",
      "\u001b[36mℹ\u001b[39m Use the conflicted package (\u001b[3m\u001b[34m<http://conflicted.r-lib.org/>\u001b[39m\u001b[23m) to force all conflicts to become errors\n",
      "Warning message:\n",
      "\"package 'data.table' was built under R version 4.2.3\"\n",
      "\n",
      "Attaching package: 'data.table'\n",
      "\n",
      "\n",
      "The following objects are masked from 'package:lubridate':\n",
      "\n",
      "    hour, isoweek, mday, minute, month, quarter, second, wday, week,\n",
      "    yday, year\n",
      "\n",
      "\n",
      "The following object is masked from 'package:purrr':\n",
      "\n",
      "    transpose\n",
      "\n",
      "\n",
      "The following object is masked from 'package:rlang':\n",
      "\n",
      "    :=\n",
      "\n",
      "\n",
      "The following object is masked from 'package:GenomicRanges':\n",
      "\n",
      "    shift\n",
      "\n",
      "\n",
      "The following object is masked from 'package:IRanges':\n",
      "\n",
      "    shift\n",
      "\n",
      "\n",
      "The following objects are masked from 'package:S4Vectors':\n",
      "\n",
      "    first, second\n",
      "\n",
      "\n",
      "The following objects are masked from 'package:dplyr':\n",
      "\n",
      "    between, first, last\n",
      "\n",
      "\n",
      "\n",
      "Attaching package: 'reshape2'\n",
      "\n",
      "\n",
      "The following objects are masked from 'package:data.table':\n",
      "\n",
      "    dcast, melt\n",
      "\n",
      "\n",
      "The following object is masked from 'package:tidyr':\n",
      "\n",
      "    smiths\n",
      "\n",
      "\n",
      "Warning message:\n",
      "\"package 'edgeR' was built under R version 4.2.2\"\n",
      "Loading required package: limma\n",
      "\n",
      "Warning message:\n",
      "\"package 'limma' was built under R version 4.2.2\"\n",
      "\n",
      "Attaching package: 'limma'\n",
      "\n",
      "\n",
      "The following object is masked from 'package:BiocGenerics':\n",
      "\n",
      "    plotMA\n",
      "\n",
      "\n",
      "Warning message:\n",
      "\"package 'ggrepel' was built under R version 4.2.3\"\n"
     ]
    }
   ],
   "source": [
    "library(dplyr)\n",
    "library(stringr)\n",
    "library(org.Hs.eg.db) \n",
    "library(AnnotationDbi)\n",
    "library(EnsDb.Hsapiens.v106)\n",
    "library(rlang)\n",
    "library(tidyverse)\n",
    "library(tibble)\n",
    "library(data.table)\n",
    "library(reshape2)\n",
    "library(edgeR)\n",
    "library(pheatmap)\n",
    "library(ggplot2)\n",
    "library(ggrepel )"
   ]
  },
  {
   "cell_type": "code",
   "execution_count": 5,
   "id": "e9566598-09df-41df-84b7-84b8dffe34a7",
   "metadata": {},
   "outputs": [],
   "source": [
    "samples_info<-read.csv(\".../0.Data/RNA_seqsamples_info.csv\")"
   ]
  },
  {
   "cell_type": "code",
   "execution_count": 6,
   "id": "844f8362-954c-4368-a3cc-b157d22ad766",
   "metadata": {},
   "outputs": [],
   "source": [
    "samples_info$group<-samples_info$group%>% str_replace(\"-\", \"_\") "
   ]
  },
  {
   "cell_type": "code",
   "execution_count": 7,
   "id": "514abcc1-d968-4d7e-8b50-64977f2987a9",
   "metadata": {},
   "outputs": [],
   "source": [
    "count_matrix<-read.table(\".../0.Data/RNA_seq/counts_drugs_axion/all_featurecounts.txt\",header = TRUE)\n",
    "count_matrix<-count_matrix[!count_matrix$Chr==\"Y\",]\n",
    "count_matrix<-count_matrix[,c(1,7:42)]"
   ]
  },
  {
   "cell_type": "code",
   "execution_count": 8,
   "id": "362c3fce-8dd8-41e2-bc45-7b28b8d76a4a",
   "metadata": {},
   "outputs": [
    {
     "data": {
      "text/html": [
       "<table class=\"dataframe\">\n",
       "<caption>A data.frame: 6 × 37</caption>\n",
       "<thead>\n",
       "\t<tr><th></th><th scope=col>Geneid</th><th scope=col>IPSI123.NT.09.E5_HumanL_deduplicated.bam</th><th scope=col>IPSI123.NT.09.F5_HumanL_deduplicated.bam</th><th scope=col>IPSI123.NT.10.A5_HumanL_deduplicated.bam</th><th scope=col>IPSI123.NT.10.B5_HumanL_deduplicated.bam</th><th scope=col>KdVS1.F.09.A6_HumanL_deduplicated.bam</th><th scope=col>KdVS1.F.09.B6_HumanL_deduplicated.bam</th><th scope=col>KdVS1.F.10.C8_HumanL_deduplicated.bam</th><th scope=col>KdVS1.F.10.D8_HumanL_deduplicated.bam</th><th scope=col>KdVS1.NT.09.A5_HumanL_deduplicated.bam</th><th scope=col>⋯</th><th scope=col>KdVS3.NT.10.E5_HumanL_deduplicated.bam</th><th scope=col>KdVS3.NT.10.F5_HumanL_deduplicated.bam</th><th scope=col>KdVS3.PH.09.C8_HumanL_deduplicated.bam</th><th scope=col>KdVS3.PH.09.D8_HumanL_deduplicated.bam</th><th scope=col>KdVS3.PH.10.E6_HumanL_deduplicated.bam</th><th scope=col>KdVS3.PH.10.F6_HumanL_deduplicated.bam</th><th scope=col>WTC.NT.09.E1_HumanL_deduplicated.bam</th><th scope=col>WTC.NT.09.F1_HumanL_deduplicated.bam</th><th scope=col>WTC.NT.10.A1_HumanL_deduplicated.bam</th><th scope=col>WTC.NT.10.B1_HumanL_deduplicated.bam</th></tr>\n",
       "\t<tr><th></th><th scope=col>&lt;chr&gt;</th><th scope=col>&lt;int&gt;</th><th scope=col>&lt;int&gt;</th><th scope=col>&lt;int&gt;</th><th scope=col>&lt;int&gt;</th><th scope=col>&lt;int&gt;</th><th scope=col>&lt;int&gt;</th><th scope=col>&lt;int&gt;</th><th scope=col>&lt;int&gt;</th><th scope=col>&lt;int&gt;</th><th scope=col>⋯</th><th scope=col>&lt;int&gt;</th><th scope=col>&lt;int&gt;</th><th scope=col>&lt;int&gt;</th><th scope=col>&lt;int&gt;</th><th scope=col>&lt;int&gt;</th><th scope=col>&lt;int&gt;</th><th scope=col>&lt;int&gt;</th><th scope=col>&lt;int&gt;</th><th scope=col>&lt;int&gt;</th><th scope=col>&lt;int&gt;</th></tr>\n",
       "</thead>\n",
       "<tbody>\n",
       "\t<tr><th scope=row>1</th><td>ENSG00000186827</td><td>  3</td><td>  3</td><td>  0</td><td>  2</td><td>  2</td><td>  0</td><td>  3</td><td>  0</td><td>  1</td><td>⋯</td><td>  1</td><td>  0</td><td>  0</td><td>  1</td><td>  0</td><td>  0</td><td>  0</td><td>  0</td><td>  0</td><td>  0</td></tr>\n",
       "\t<tr><th scope=row>2</th><td>ENSG00000186891</td><td>  0</td><td>  1</td><td>  2</td><td>  0</td><td>  0</td><td>  0</td><td>  0</td><td>  0</td><td>  0</td><td>⋯</td><td>  1</td><td>  0</td><td>  0</td><td>  1</td><td>  0</td><td>  1</td><td>  1</td><td>  0</td><td>  2</td><td>  0</td></tr>\n",
       "\t<tr><th scope=row>3</th><td>ENSG00000160072</td><td>428</td><td>405</td><td>377</td><td>487</td><td>581</td><td>508</td><td>476</td><td>504</td><td>475</td><td>⋯</td><td>353</td><td>437</td><td>308</td><td>374</td><td>387</td><td>385</td><td>298</td><td>171</td><td>232</td><td>292</td></tr>\n",
       "\t<tr><th scope=row>4</th><td>ENSG00000260179</td><td>  1</td><td>  2</td><td>  4</td><td>  4</td><td>  3</td><td>  3</td><td>  4</td><td>  4</td><td>  2</td><td>⋯</td><td>  0</td><td>  3</td><td>  0</td><td>  0</td><td>  2</td><td>  0</td><td>  0</td><td>  0</td><td>  1</td><td>  0</td></tr>\n",
       "\t<tr><th scope=row>5</th><td>ENSG00000234396</td><td>  0</td><td>  1</td><td>  0</td><td>  2</td><td>  0</td><td>  1</td><td>  1</td><td>  0</td><td>  1</td><td>⋯</td><td>  0</td><td>  0</td><td>  1</td><td>  2</td><td>  0</td><td>  1</td><td>  1</td><td>  0</td><td>  1</td><td>  0</td></tr>\n",
       "\t<tr><th scope=row>6</th><td>ENSG00000225972</td><td> 17</td><td> 10</td><td> 16</td><td> 20</td><td> 33</td><td> 29</td><td> 34</td><td> 19</td><td> 24</td><td>⋯</td><td> 10</td><td> 18</td><td>  6</td><td> 20</td><td> 16</td><td> 25</td><td>  2</td><td>  7</td><td> 10</td><td> 11</td></tr>\n",
       "</tbody>\n",
       "</table>\n"
      ],
      "text/latex": [
       "A data.frame: 6 × 37\n",
       "\\begin{tabular}{r|lllllllllllllllllllll}\n",
       "  & Geneid & IPSI123.NT.09.E5\\_HumanL\\_deduplicated.bam & IPSI123.NT.09.F5\\_HumanL\\_deduplicated.bam & IPSI123.NT.10.A5\\_HumanL\\_deduplicated.bam & IPSI123.NT.10.B5\\_HumanL\\_deduplicated.bam & KdVS1.F.09.A6\\_HumanL\\_deduplicated.bam & KdVS1.F.09.B6\\_HumanL\\_deduplicated.bam & KdVS1.F.10.C8\\_HumanL\\_deduplicated.bam & KdVS1.F.10.D8\\_HumanL\\_deduplicated.bam & KdVS1.NT.09.A5\\_HumanL\\_deduplicated.bam & ⋯ & KdVS3.NT.10.E5\\_HumanL\\_deduplicated.bam & KdVS3.NT.10.F5\\_HumanL\\_deduplicated.bam & KdVS3.PH.09.C8\\_HumanL\\_deduplicated.bam & KdVS3.PH.09.D8\\_HumanL\\_deduplicated.bam & KdVS3.PH.10.E6\\_HumanL\\_deduplicated.bam & KdVS3.PH.10.F6\\_HumanL\\_deduplicated.bam & WTC.NT.09.E1\\_HumanL\\_deduplicated.bam & WTC.NT.09.F1\\_HumanL\\_deduplicated.bam & WTC.NT.10.A1\\_HumanL\\_deduplicated.bam & WTC.NT.10.B1\\_HumanL\\_deduplicated.bam\\\\\n",
       "  & <chr> & <int> & <int> & <int> & <int> & <int> & <int> & <int> & <int> & <int> & ⋯ & <int> & <int> & <int> & <int> & <int> & <int> & <int> & <int> & <int> & <int>\\\\\n",
       "\\hline\n",
       "\t1 & ENSG00000186827 &   3 &   3 &   0 &   2 &   2 &   0 &   3 &   0 &   1 & ⋯ &   1 &   0 &   0 &   1 &   0 &   0 &   0 &   0 &   0 &   0\\\\\n",
       "\t2 & ENSG00000186891 &   0 &   1 &   2 &   0 &   0 &   0 &   0 &   0 &   0 & ⋯ &   1 &   0 &   0 &   1 &   0 &   1 &   1 &   0 &   2 &   0\\\\\n",
       "\t3 & ENSG00000160072 & 428 & 405 & 377 & 487 & 581 & 508 & 476 & 504 & 475 & ⋯ & 353 & 437 & 308 & 374 & 387 & 385 & 298 & 171 & 232 & 292\\\\\n",
       "\t4 & ENSG00000260179 &   1 &   2 &   4 &   4 &   3 &   3 &   4 &   4 &   2 & ⋯ &   0 &   3 &   0 &   0 &   2 &   0 &   0 &   0 &   1 &   0\\\\\n",
       "\t5 & ENSG00000234396 &   0 &   1 &   0 &   2 &   0 &   1 &   1 &   0 &   1 & ⋯ &   0 &   0 &   1 &   2 &   0 &   1 &   1 &   0 &   1 &   0\\\\\n",
       "\t6 & ENSG00000225972 &  17 &  10 &  16 &  20 &  33 &  29 &  34 &  19 &  24 & ⋯ &  10 &  18 &   6 &  20 &  16 &  25 &   2 &   7 &  10 &  11\\\\\n",
       "\\end{tabular}\n"
      ],
      "text/markdown": [
       "\n",
       "A data.frame: 6 × 37\n",
       "\n",
       "| <!--/--> | Geneid &lt;chr&gt; | IPSI123.NT.09.E5_HumanL_deduplicated.bam &lt;int&gt; | IPSI123.NT.09.F5_HumanL_deduplicated.bam &lt;int&gt; | IPSI123.NT.10.A5_HumanL_deduplicated.bam &lt;int&gt; | IPSI123.NT.10.B5_HumanL_deduplicated.bam &lt;int&gt; | KdVS1.F.09.A6_HumanL_deduplicated.bam &lt;int&gt; | KdVS1.F.09.B6_HumanL_deduplicated.bam &lt;int&gt; | KdVS1.F.10.C8_HumanL_deduplicated.bam &lt;int&gt; | KdVS1.F.10.D8_HumanL_deduplicated.bam &lt;int&gt; | KdVS1.NT.09.A5_HumanL_deduplicated.bam &lt;int&gt; | ⋯ ⋯ | KdVS3.NT.10.E5_HumanL_deduplicated.bam &lt;int&gt; | KdVS3.NT.10.F5_HumanL_deduplicated.bam &lt;int&gt; | KdVS3.PH.09.C8_HumanL_deduplicated.bam &lt;int&gt; | KdVS3.PH.09.D8_HumanL_deduplicated.bam &lt;int&gt; | KdVS3.PH.10.E6_HumanL_deduplicated.bam &lt;int&gt; | KdVS3.PH.10.F6_HumanL_deduplicated.bam &lt;int&gt; | WTC.NT.09.E1_HumanL_deduplicated.bam &lt;int&gt; | WTC.NT.09.F1_HumanL_deduplicated.bam &lt;int&gt; | WTC.NT.10.A1_HumanL_deduplicated.bam &lt;int&gt; | WTC.NT.10.B1_HumanL_deduplicated.bam &lt;int&gt; |\n",
       "|---|---|---|---|---|---|---|---|---|---|---|---|---|---|---|---|---|---|---|---|---|---|\n",
       "| 1 | ENSG00000186827 |   3 |   3 |   0 |   2 |   2 |   0 |   3 |   0 |   1 | ⋯ |   1 |   0 |   0 |   1 |   0 |   0 |   0 |   0 |   0 |   0 |\n",
       "| 2 | ENSG00000186891 |   0 |   1 |   2 |   0 |   0 |   0 |   0 |   0 |   0 | ⋯ |   1 |   0 |   0 |   1 |   0 |   1 |   1 |   0 |   2 |   0 |\n",
       "| 3 | ENSG00000160072 | 428 | 405 | 377 | 487 | 581 | 508 | 476 | 504 | 475 | ⋯ | 353 | 437 | 308 | 374 | 387 | 385 | 298 | 171 | 232 | 292 |\n",
       "| 4 | ENSG00000260179 |   1 |   2 |   4 |   4 |   3 |   3 |   4 |   4 |   2 | ⋯ |   0 |   3 |   0 |   0 |   2 |   0 |   0 |   0 |   1 |   0 |\n",
       "| 5 | ENSG00000234396 |   0 |   1 |   0 |   2 |   0 |   1 |   1 |   0 |   1 | ⋯ |   0 |   0 |   1 |   2 |   0 |   1 |   1 |   0 |   1 |   0 |\n",
       "| 6 | ENSG00000225972 |  17 |  10 |  16 |  20 |  33 |  29 |  34 |  19 |  24 | ⋯ |  10 |  18 |   6 |  20 |  16 |  25 |   2 |   7 |  10 |  11 |\n",
       "\n"
      ],
      "text/plain": [
       "  Geneid          IPSI123.NT.09.E5_HumanL_deduplicated.bam\n",
       "1 ENSG00000186827   3                                     \n",
       "2 ENSG00000186891   0                                     \n",
       "3 ENSG00000160072 428                                     \n",
       "4 ENSG00000260179   1                                     \n",
       "5 ENSG00000234396   0                                     \n",
       "6 ENSG00000225972  17                                     \n",
       "  IPSI123.NT.09.F5_HumanL_deduplicated.bam\n",
       "1   3                                     \n",
       "2   1                                     \n",
       "3 405                                     \n",
       "4   2                                     \n",
       "5   1                                     \n",
       "6  10                                     \n",
       "  IPSI123.NT.10.A5_HumanL_deduplicated.bam\n",
       "1   0                                     \n",
       "2   2                                     \n",
       "3 377                                     \n",
       "4   4                                     \n",
       "5   0                                     \n",
       "6  16                                     \n",
       "  IPSI123.NT.10.B5_HumanL_deduplicated.bam\n",
       "1   2                                     \n",
       "2   0                                     \n",
       "3 487                                     \n",
       "4   4                                     \n",
       "5   2                                     \n",
       "6  20                                     \n",
       "  KdVS1.F.09.A6_HumanL_deduplicated.bam KdVS1.F.09.B6_HumanL_deduplicated.bam\n",
       "1   2                                     0                                  \n",
       "2   0                                     0                                  \n",
       "3 581                                   508                                  \n",
       "4   3                                     3                                  \n",
       "5   0                                     1                                  \n",
       "6  33                                    29                                  \n",
       "  KdVS1.F.10.C8_HumanL_deduplicated.bam KdVS1.F.10.D8_HumanL_deduplicated.bam\n",
       "1   3                                     0                                  \n",
       "2   0                                     0                                  \n",
       "3 476                                   504                                  \n",
       "4   4                                     4                                  \n",
       "5   1                                     0                                  \n",
       "6  34                                    19                                  \n",
       "  KdVS1.NT.09.A5_HumanL_deduplicated.bam ⋯\n",
       "1   1                                    ⋯\n",
       "2   0                                    ⋯\n",
       "3 475                                    ⋯\n",
       "4   2                                    ⋯\n",
       "5   1                                    ⋯\n",
       "6  24                                    ⋯\n",
       "  KdVS3.NT.10.E5_HumanL_deduplicated.bam KdVS3.NT.10.F5_HumanL_deduplicated.bam\n",
       "1   1                                      0                                   \n",
       "2   1                                      0                                   \n",
       "3 353                                    437                                   \n",
       "4   0                                      3                                   \n",
       "5   0                                      0                                   \n",
       "6  10                                     18                                   \n",
       "  KdVS3.PH.09.C8_HumanL_deduplicated.bam KdVS3.PH.09.D8_HumanL_deduplicated.bam\n",
       "1   0                                      1                                   \n",
       "2   0                                      1                                   \n",
       "3 308                                    374                                   \n",
       "4   0                                      0                                   \n",
       "5   1                                      2                                   \n",
       "6   6                                     20                                   \n",
       "  KdVS3.PH.10.E6_HumanL_deduplicated.bam KdVS3.PH.10.F6_HumanL_deduplicated.bam\n",
       "1   0                                      0                                   \n",
       "2   0                                      1                                   \n",
       "3 387                                    385                                   \n",
       "4   2                                      0                                   \n",
       "5   0                                      1                                   \n",
       "6  16                                     25                                   \n",
       "  WTC.NT.09.E1_HumanL_deduplicated.bam WTC.NT.09.F1_HumanL_deduplicated.bam\n",
       "1   0                                    0                                 \n",
       "2   1                                    0                                 \n",
       "3 298                                  171                                 \n",
       "4   0                                    0                                 \n",
       "5   1                                    0                                 \n",
       "6   2                                    7                                 \n",
       "  WTC.NT.10.A1_HumanL_deduplicated.bam WTC.NT.10.B1_HumanL_deduplicated.bam\n",
       "1   0                                    0                                 \n",
       "2   2                                    0                                 \n",
       "3 232                                  292                                 \n",
       "4   1                                    0                                 \n",
       "5   1                                    0                                 \n",
       "6  10                                   11                                 "
      ]
     },
     "metadata": {},
     "output_type": "display_data"
    }
   ],
   "source": [
    "head(count_matrix)"
   ]
  },
  {
   "cell_type": "code",
   "execution_count": 9,
   "id": "542b9992-217c-4d4e-9962-79fc971dce3a",
   "metadata": {},
   "outputs": [],
   "source": [
    "col_names<-colnames(count_matrix) %>% str_replace(\"X\", \"\") %>% \n",
    "                                 str_replace(\"_HumanL_deduplicated.bam\", \"\") %>% \n",
    "                                    str_replace_all (\"\\\\.\", \"_\") %>%\n",
    "                                    str_replace_all (\"_09_\", \"_\") %>%\n",
    "                                    str_replace_all (\"_10_\", \"_\")\n",
    "                                  \n",
    "samples_info$sample<- samples_info$sample %>% str_replace(\"-\", \"_\")\n"
   ]
  },
  {
   "cell_type": "code",
   "execution_count": 10,
   "id": "9ea22e0f-575b-4158-b486-1499c6e21d72",
   "metadata": {},
   "outputs": [],
   "source": [
    "rownames(samples_info)<-samples_info$sample"
   ]
  },
  {
   "cell_type": "code",
   "execution_count": 11,
   "id": "61dd8fe3-69ef-462a-b243-996b139fb811",
   "metadata": {},
   "outputs": [],
   "source": [
    "colnames(count_matrix)<-col_names"
   ]
  },
  {
   "cell_type": "code",
   "execution_count": 12,
   "id": "28508035-96ed-48ab-be62-be462832b81a",
   "metadata": {},
   "outputs": [],
   "source": [
    "rownames(count_matrix)<-count_matrix$Geneid"
   ]
  },
  {
   "cell_type": "code",
   "execution_count": 13,
   "id": "1fc1b07a-73b9-4d12-80de-ce927095128a",
   "metadata": {},
   "outputs": [],
   "source": [
    "count_matrix<-count_matrix[-1]"
   ]
  },
  {
   "cell_type": "code",
   "execution_count": 14,
   "id": "8fcb19ea-979a-4625-bac9-e974bece12e5",
   "metadata": {},
   "outputs": [
    {
     "data": {
      "text/html": [
       "14480"
      ],
      "text/latex": [
       "14480"
      ],
      "text/markdown": [
       "14480"
      ],
      "text/plain": [
       "[1] 14480"
      ]
     },
     "metadata": {},
     "output_type": "display_data"
    }
   ],
   "source": [
    "counts_pm<-cpm(count_matrix)\n",
    "keep <- rowSums(counts_pm >= 2 ) >= 3\n",
    "sum(keep)\n",
    "count_matrix_rd<-count_matrix[keep,]"
   ]
  },
  {
   "cell_type": "code",
   "execution_count": null,
   "id": "5d7a5b07-379c-4a3e-975a-791997b891fc",
   "metadata": {},
   "outputs": [],
   "source": [
    "head(count_matrix)"
   ]
  },
  {
   "cell_type": "code",
   "execution_count": 15,
   "id": "2f83b5fe-de66-4ee8-9121-93519ba181b1",
   "metadata": {},
   "outputs": [
    {
     "data": {
      "image/png": "[encoded data removed]",
      "text/plain": [
       "Plot with title \"voom: Mean-variance trend\""
      ]
     },
     "metadata": {
      "image/png": {
       "height": 420,
       "width": 420
      }
     },
     "output_type": "display_data"
    }
   ],
   "source": [
    "# Create the DGEList object with group\n",
    "dge <- DGEList(count_matrix_rd, group = samples_info$group)\n",
    "# Normalize counts\n",
    "dge <- calcNormFactors(dge)\n",
    "v <- voom(dge, plot = TRUE)\n",
    "\n",
    "write.table(v$E,\".../0.Data/counts_drugs_axion/voom_reads.txt\")"
   ]
  },
  {
   "cell_type": "code",
   "execution_count": null,
   "id": "f5ef2779-282d-4f71-9316-b180f7b05cc7",
   "metadata": {},
   "outputs": [],
   "source": [
    "#plot KANSL1 expression."
   ]
  },
  {
   "cell_type": "code",
   "execution_count": 16,
   "id": "0d5b8337-d46f-4622-bbc1-7a379b71c83f",
   "metadata": {},
   "outputs": [
    {
     "data": {
      "text/html": [
       "<table class=\"dataframe\">\n",
       "<caption>A data.frame: 6 × 2</caption>\n",
       "<thead>\n",
       "\t<tr><th></th><th scope=col>Genename</th><th scope=col>Geneid</th></tr>\n",
       "\t<tr><th></th><th scope=col>&lt;chr&gt;</th><th scope=col>&lt;chr&gt;</th></tr>\n",
       "</thead>\n",
       "<tbody>\n",
       "\t<tr><th scope=row>ENSG00000186827</th><td>TNFRSF4 </td><td>ENSG00000186827</td></tr>\n",
       "\t<tr><th scope=row>ENSG00000186891</th><td>TNFRSF18</td><td>ENSG00000186891</td></tr>\n",
       "\t<tr><th scope=row>ENSG00000160072</th><td>ATAD3B  </td><td>ENSG00000160072</td></tr>\n",
       "\t<tr><th scope=row>ENSG00000260179</th><td>        </td><td>ENSG00000260179</td></tr>\n",
       "\t<tr><th scope=row>ENSG00000234396</th><td>        </td><td>ENSG00000234396</td></tr>\n",
       "\t<tr><th scope=row>ENSG00000225972</th><td>MTND1P23</td><td>ENSG00000225972</td></tr>\n",
       "</tbody>\n",
       "</table>\n"
      ],
      "text/latex": [
       "A data.frame: 6 × 2\n",
       "\\begin{tabular}{r|ll}\n",
       "  & Genename & Geneid\\\\\n",
       "  & <chr> & <chr>\\\\\n",
       "\\hline\n",
       "\tENSG00000186827 & TNFRSF4  & ENSG00000186827\\\\\n",
       "\tENSG00000186891 & TNFRSF18 & ENSG00000186891\\\\\n",
       "\tENSG00000160072 & ATAD3B   & ENSG00000160072\\\\\n",
       "\tENSG00000260179 &          & ENSG00000260179\\\\\n",
       "\tENSG00000234396 &          & ENSG00000234396\\\\\n",
       "\tENSG00000225972 & MTND1P23 & ENSG00000225972\\\\\n",
       "\\end{tabular}\n"
      ],
      "text/markdown": [
       "\n",
       "A data.frame: 6 × 2\n",
       "\n",
       "| <!--/--> | Genename &lt;chr&gt; | Geneid &lt;chr&gt; |\n",
       "|---|---|---|\n",
       "| ENSG00000186827 | TNFRSF4  | ENSG00000186827 |\n",
       "| ENSG00000186891 | TNFRSF18 | ENSG00000186891 |\n",
       "| ENSG00000160072 | ATAD3B   | ENSG00000160072 |\n",
       "| ENSG00000260179 | <!----> | ENSG00000260179 |\n",
       "| ENSG00000234396 | <!----> | ENSG00000234396 |\n",
       "| ENSG00000225972 | MTND1P23 | ENSG00000225972 |\n",
       "\n"
      ],
      "text/plain": [
       "                Genename Geneid         \n",
       "ENSG00000186827 TNFRSF4  ENSG00000186827\n",
       "ENSG00000186891 TNFRSF18 ENSG00000186891\n",
       "ENSG00000160072 ATAD3B   ENSG00000160072\n",
       "ENSG00000260179          ENSG00000260179\n",
       "ENSG00000234396          ENSG00000234396\n",
       "ENSG00000225972 MTND1P23 ENSG00000225972"
      ]
     },
     "metadata": {},
     "output_type": "display_data"
    }
   ],
   "source": [
    "edb <-EnsDb.Hsapiens.v106\n",
    "ens<-rownames(count_matrix)\n",
    "genes_ID=mapIds(edb, keys = ens, keytype=\"GENEID\", column=\"GENENAME\")\n",
    "genes_ID=data.frame(genes_ID)\n",
    "genes_ID$Geneid<-rownames(genes_ID)\n",
    "colnames(genes_ID)<-c(\"Genename\",\"Geneid\")\n",
    "head(genes_ID)"
   ]
  },
  {
   "cell_type": "code",
   "execution_count": 17,
   "id": "957ae3c8-72aa-4ce1-877b-89ae316998ed",
   "metadata": {},
   "outputs": [],
   "source": [
    "voom<-v$E\n",
    "voom<-as.data.frame(voom)\n",
    "voom$Geneid<-rownames(voom)\n",
    "voom$Genename<-genes_ID$Genename[match(voom$Geneid,genes_ID$Geneid)]"
   ]
  },
  {
   "cell_type": "code",
   "execution_count": 18,
   "id": "1ffb7baf-1847-4583-9b1b-56e25a1375cd",
   "metadata": {},
   "outputs": [
    {
     "name": "stderr",
     "output_type": "stream",
     "text": [
      "Using Geneid, Genename as id variables\n",
      "\n"
     ]
    }
   ],
   "source": [
    "KANSL1<-voom[voom$Genename==\"KANSL1\",]\n",
    "KANSL1<-melt(KANSL1)\n",
    "colnames(KANSL1)<-c(\"Geneid\",\"Genename\",\"sample\",\"value\")\n",
    "KANSL1<-left_join(KANSL1,samples_info,by=\"sample\")\n",
    "#head(KANSL1)\n",
    "KANSL1$cell_line<-factor(KANSL1$cell_line)\n",
    "KANSL1$group<-factor(KANSL1$group, levels=c(\"C1_NT\",\"C4_NT\",\n",
    "                                           \"KdVS1_NT\",\"KdVS1_F\",\"KdVS1_PH\",\n",
    "                                           \"KdVS2_NT\",\"KdVS2_PH\",\n",
    "                                           \"KdVS3_NT\",\"KdVS3_PH\"))\n"
   ]
  },
  {
   "cell_type": "code",
   "execution_count": 19,
   "id": "acf08aea-4bb7-4f3c-9919-d1b43e6e2402",
   "metadata": {},
   "outputs": [],
   "source": [
    "color_vector <- c('C1_NT'='#555555','C4_NT'='#555555',\n",
    "                  'KdVS1_NT'='#ff6000ff' , 'KdVS1_F'='#ff6000ff','KdVS1_PH'='#ff6000ff',\n",
    "                  'KdVS2_NT'='#e0122cff','KdVS2_PH'='#e0122cff',\n",
    "                  'KdVS3_NT'='#b12e5bff','KdVS3_PH'='#b12e5bff')"
   ]
  },
  {
   "cell_type": "code",
   "execution_count": 20,
   "id": "9269b8a0-bfaf-4038-8778-3b420cccc6fb",
   "metadata": {},
   "outputs": [],
   "source": [
    "\n",
    "# Create the design matrix\n",
    "design <- model.matrix(~0+ group, data = samples_info)\n",
    "\n",
    "# Estimate dispersion\n",
    "dge <- estimateDisp(dge, design)\n",
    "\n",
    "# Fit the model\n",
    "fit <- glmQLFit(dge, design)\n"
   ]
  },
  {
   "cell_type": "code",
   "execution_count": 21,
   "id": "1a243b94-c65a-45a0-827a-b8f35cfc1bda",
   "metadata": {},
   "outputs": [],
   "source": [
    "# Obtain the normalized counts\n",
    "normalized_counts <- cpm(dge, normalized = TRUE)"
   ]
  },
  {
   "cell_type": "code",
   "execution_count": null,
   "id": "231ec528-4599-44fc-b76d-03375b4219f7",
   "metadata": {},
   "outputs": [],
   "source": [
    "str(normalized_counts)"
   ]
  },
  {
   "cell_type": "code",
   "execution_count": 22,
   "id": "e55388b3-b7fb-4519-acfd-c56e64a68b82",
   "metadata": {},
   "outputs": [],
   "source": [
    "log_transformed_counts <- log2(normalized_counts + 1)"
   ]
  },
  {
   "cell_type": "code",
   "execution_count": 23,
   "id": "ab85e5f3-9e8d-4d84-81af-187e6bbd86be",
   "metadata": {},
   "outputs": [],
   "source": [
    "# Scale the data for PCA (optional)\n",
    "scaled_data <- scale(t(log_transformed_counts))\n",
    "\n",
    "# Perform PCA\n",
    "pca_result <- prcomp(scaled_data, center = FALSE, scale. = FALSE)\n",
    "pca_pc_metrics<-as.data.frame(pca_result$x)\n",
    "pca_pc_metrics$sample<-rownames(pca_pc_metrics)\n",
    "pca_pc_metrics<-inner_join(pca_pc_metrics,samples_info, by=\"sample\")\n",
    "var_explained =round((pca_result$sdev^2 / sum(pca_result$sdev^2))*100,2)"
   ]
  },
  {
   "cell_type": "code",
   "execution_count": null,
   "id": "1fd11c73-d5a8-4b62-b4a2-b85b6f0a3503",
   "metadata": {},
   "outputs": [],
   "source": [
    "ggplot(pca_pc_metrics, aes(PC1, PC2, fill=group)) +\n",
    "  geom_point(size=3,shape = 21, # Specify shape and colour as fixed local parameters    \n",
    "             colour = \"black\") + #scale_fill_manual(values=color_vector_group)+\n",
    "           theme_minimal()+\n",
    "  xlab(paste0(\"PC1: \",var_explained[1],\"%\")) +\n",
    "  ylab(paste0(\"PC2: \",var_explained[2],\"%\"))"
   ]
  },
  {
   "cell_type": "code",
   "execution_count": null,
   "id": "84e1733c-638f-450a-9e37-2665346adb12",
   "metadata": {},
   "outputs": [],
   "source": [
    "levels(factor(pca_pc_metrics$group))"
   ]
  },
  {
   "cell_type": "code",
   "execution_count": 24,
   "id": "01380e4e-4e05-4815-bf13-3aaf01aae245",
   "metadata": {},
   "outputs": [],
   "source": [
    "group_order<-c('C1_NT','C4_NT',\n",
    "               'KdVS1_NT','KdVS1_F','KdVS1_PH',\n",
    "               'KdVS2_NT','KdVS2_PH',\n",
    "               'KdVS3_NT','KdVS3_PH')\n",
    "pca_pc_metrics$group<-factor(pca_pc_metrics$group,levels=group_order)"
   ]
  },
  {
   "cell_type": "code",
   "execution_count": 25,
   "id": "989a4c19-a82f-47e2-a331-15b4d5ea2d26",
   "metadata": {},
   "outputs": [],
   "source": [
    "#color by drug and phenotype and shape by cell line?\n",
    "color_vector <- c('C1_NT'='#555555','C4_NT'='#555555',\n",
    "                  'KdVS1_NT'='#9D1B1F' , 'KdVS1_F'='#6E8B3D','KdVS1_PH'='#53868B',\n",
    "                  'KdVS2_NT'='#9D1B1F','KdVS2_PH'='#53868B',\n",
    "                  'KdVS3_NT'='#9D1B1F','KdVS3_PH'='#53868B')\n",
    "                  \n",
    "shape_vector <- c('C1_NT'=24,'C4_NT'=25,\n",
    "                  'KdVS1_NT'=23 , 'KdVS1_F'=23,'KdVS1_PH'=23,\n",
    "                  'KdVS2_NT'=22,'KdVS2_PH'=22,\n",
    "                  'KdVS3_NT'=21,'KdVS3_PH'=21)\n",
    "color_vector <- c('C1_NT'='#555555','C4_NT'='#555555',\n",
    "                  'KdVS1_NT'='#ff6000ff' , 'KdVS1_F'='#ff6000ff','KdVS1_PH'='#ff6000ff',\n",
    "                  'KdVS2_NT'='#e0122cff','KdVS2_PH'='#e0122cff',\n",
    "                  'KdVS3_NT'='#b12e5bff','KdVS3_PH'='#b12e5bff')"
   ]
  },
  {
   "cell_type": "code",
   "execution_count": null,
   "id": "5284b86b-e335-41ff-9623-59bf1e540dd8",
   "metadata": {},
   "outputs": [],
   "source": [
    "p<-ggplot(pca_pc_metrics, aes(PC1, PC2, fill=group,shape=group)) +\n",
    "  geom_point(size=5, colour = \"black\", alpha = 0.6,# Specify shape and colour as fixed local parameters    \n",
    "             colour = \"black\") + scale_fill_manual(values=color_vector) + scale_shape_manual(values=shape_vector)+\n",
    "           theme_minimal()+\n",
    "  xlab(paste0(\"PC1: \",var_explained[1],\"%\")) +\n",
    "  ylab(paste0(\"PC2: \",var_explained[2],\"%\"))\n",
    "ggsave(paste0('PCA_group.pdf'),\n",
    "                  width = 5.3,   # inches\n",
    "                  height = 4,\n",
    "                   plot=p)# inches\n",
    "p"
   ]
  },
  {
   "cell_type": "code",
   "execution_count": null,
   "id": "d092628b-ea58-4afe-9fcc-f0e8121e6b48",
   "metadata": {},
   "outputs": [],
   "source": [
    "#explore degs per contrast, then look at MEAseq for the relevant variables, identify correlated genes. \n",
    "colnames(design)"
   ]
  },
  {
   "cell_type": "code",
   "execution_count": 26,
   "id": "d3762406-6683-4d25-868f-4d469c89341c",
   "metadata": {},
   "outputs": [
    {
     "data": {
      "text/html": [
       "<table class=\"dataframe\">\n",
       "<caption>A matrix: 9 × 4 of type dbl</caption>\n",
       "<thead>\n",
       "\t<tr><th></th><th scope=col>KdVS1_F</th><th scope=col>KdVS1_PH</th><th scope=col>KdVS2_PH</th><th scope=col>KdVS3_PH</th></tr>\n",
       "</thead>\n",
       "<tbody>\n",
       "\t<tr><th scope=row>groupC1_NT</th><td> 0</td><td> 0</td><td> 0</td><td> 0</td></tr>\n",
       "\t<tr><th scope=row>groupC4_NT</th><td> 0</td><td> 0</td><td> 0</td><td> 0</td></tr>\n",
       "\t<tr><th scope=row>groupKdVS1_F</th><td> 1</td><td> 0</td><td> 0</td><td> 0</td></tr>\n",
       "\t<tr><th scope=row>groupKdVS1_NT</th><td>-1</td><td>-1</td><td> 0</td><td> 0</td></tr>\n",
       "\t<tr><th scope=row>groupKdVS1_PH</th><td> 0</td><td> 1</td><td> 0</td><td> 0</td></tr>\n",
       "\t<tr><th scope=row>groupKdVS2_NT</th><td> 0</td><td> 0</td><td>-1</td><td> 0</td></tr>\n",
       "\t<tr><th scope=row>groupKdVS2_PH</th><td> 0</td><td> 0</td><td> 1</td><td> 0</td></tr>\n",
       "\t<tr><th scope=row>groupKdVS3_NT</th><td> 0</td><td> 0</td><td> 0</td><td>-1</td></tr>\n",
       "\t<tr><th scope=row>groupKdVS3_PH</th><td> 0</td><td> 0</td><td> 0</td><td> 1</td></tr>\n",
       "</tbody>\n",
       "</table>\n"
      ],
      "text/latex": [
       "A matrix: 9 × 4 of type dbl\n",
       "\\begin{tabular}{r|llll}\n",
       "  & KdVS1\\_F & KdVS1\\_PH & KdVS2\\_PH & KdVS3\\_PH\\\\\n",
       "\\hline\n",
       "\tgroupC1\\_NT &  0 &  0 &  0 &  0\\\\\n",
       "\tgroupC4\\_NT &  0 &  0 &  0 &  0\\\\\n",
       "\tgroupKdVS1\\_F &  1 &  0 &  0 &  0\\\\\n",
       "\tgroupKdVS1\\_NT & -1 & -1 &  0 &  0\\\\\n",
       "\tgroupKdVS1\\_PH &  0 &  1 &  0 &  0\\\\\n",
       "\tgroupKdVS2\\_NT &  0 &  0 & -1 &  0\\\\\n",
       "\tgroupKdVS2\\_PH &  0 &  0 &  1 &  0\\\\\n",
       "\tgroupKdVS3\\_NT &  0 &  0 &  0 & -1\\\\\n",
       "\tgroupKdVS3\\_PH &  0 &  0 &  0 &  1\\\\\n",
       "\\end{tabular}\n"
      ],
      "text/markdown": [
       "\n",
       "A matrix: 9 × 4 of type dbl\n",
       "\n",
       "| <!--/--> | KdVS1_F | KdVS1_PH | KdVS2_PH | KdVS3_PH |\n",
       "|---|---|---|---|---|\n",
       "| groupC1_NT |  0 |  0 |  0 |  0 |\n",
       "| groupC4_NT |  0 |  0 |  0 |  0 |\n",
       "| groupKdVS1_F |  1 |  0 |  0 |  0 |\n",
       "| groupKdVS1_NT | -1 | -1 |  0 |  0 |\n",
       "| groupKdVS1_PH |  0 |  1 |  0 |  0 |\n",
       "| groupKdVS2_NT |  0 |  0 | -1 |  0 |\n",
       "| groupKdVS2_PH |  0 |  0 |  1 |  0 |\n",
       "| groupKdVS3_NT |  0 |  0 |  0 | -1 |\n",
       "| groupKdVS3_PH |  0 |  0 |  0 |  1 |\n",
       "\n"
      ],
      "text/plain": [
       "               Contrasts\n",
       "Levels          KdVS1_F KdVS1_PH KdVS2_PH KdVS3_PH\n",
       "  groupC1_NT     0       0        0        0      \n",
       "  groupC4_NT     0       0        0        0      \n",
       "  groupKdVS1_F   1       0        0        0      \n",
       "  groupKdVS1_NT -1      -1        0        0      \n",
       "  groupKdVS1_PH  0       1        0        0      \n",
       "  groupKdVS2_NT  0       0       -1        0      \n",
       "  groupKdVS2_PH  0       0        1        0      \n",
       "  groupKdVS3_NT  0       0        0       -1      \n",
       "  groupKdVS3_PH  0       0        0        1      "
      ]
     },
     "metadata": {},
     "output_type": "display_data"
    }
   ],
   "source": [
    "contrasts <- makeContrasts(\n",
    "    KdVS1_F=groupKdVS1_F-groupKdVS1_NT,\n",
    "    KdVS1_PH=groupKdVS1_PH-groupKdVS1_NT,\n",
    "    KdVS2_PH=groupKdVS2_PH-groupKdVS2_NT,\n",
    "  KdVS3_PH=groupKdVS3_PH-groupKdVS3_NT,\n",
    "\n",
    "  levels=colnames(design))\n",
    "#rownames(contrasts) <- gsub(\"group\", \"\", rownames(contrasts))\n",
    "contrasts"
   ]
  },
  {
   "cell_type": "code",
   "execution_count": 27,
   "id": "ca5c226b-f746-4f69-9244-b9c425539b7e",
   "metadata": {},
   "outputs": [
    {
     "data": {
      "text/html": [
       "<table class=\"dataframe\">\n",
       "<caption>A data.frame: 6 × 2</caption>\n",
       "<thead>\n",
       "\t<tr><th></th><th scope=col>Genename</th><th scope=col>Geneid</th></tr>\n",
       "\t<tr><th></th><th scope=col>&lt;chr&gt;</th><th scope=col>&lt;chr&gt;</th></tr>\n",
       "</thead>\n",
       "<tbody>\n",
       "\t<tr><th scope=row>ENSG00000186827</th><td>TNFRSF4 </td><td>ENSG00000186827</td></tr>\n",
       "\t<tr><th scope=row>ENSG00000186891</th><td>TNFRSF18</td><td>ENSG00000186891</td></tr>\n",
       "\t<tr><th scope=row>ENSG00000160072</th><td>ATAD3B  </td><td>ENSG00000160072</td></tr>\n",
       "\t<tr><th scope=row>ENSG00000260179</th><td>        </td><td>ENSG00000260179</td></tr>\n",
       "\t<tr><th scope=row>ENSG00000234396</th><td>        </td><td>ENSG00000234396</td></tr>\n",
       "\t<tr><th scope=row>ENSG00000225972</th><td>MTND1P23</td><td>ENSG00000225972</td></tr>\n",
       "</tbody>\n",
       "</table>\n"
      ],
      "text/latex": [
       "A data.frame: 6 × 2\n",
       "\\begin{tabular}{r|ll}\n",
       "  & Genename & Geneid\\\\\n",
       "  & <chr> & <chr>\\\\\n",
       "\\hline\n",
       "\tENSG00000186827 & TNFRSF4  & ENSG00000186827\\\\\n",
       "\tENSG00000186891 & TNFRSF18 & ENSG00000186891\\\\\n",
       "\tENSG00000160072 & ATAD3B   & ENSG00000160072\\\\\n",
       "\tENSG00000260179 &          & ENSG00000260179\\\\\n",
       "\tENSG00000234396 &          & ENSG00000234396\\\\\n",
       "\tENSG00000225972 & MTND1P23 & ENSG00000225972\\\\\n",
       "\\end{tabular}\n"
      ],
      "text/markdown": [
       "\n",
       "A data.frame: 6 × 2\n",
       "\n",
       "| <!--/--> | Genename &lt;chr&gt; | Geneid &lt;chr&gt; |\n",
       "|---|---|---|\n",
       "| ENSG00000186827 | TNFRSF4  | ENSG00000186827 |\n",
       "| ENSG00000186891 | TNFRSF18 | ENSG00000186891 |\n",
       "| ENSG00000160072 | ATAD3B   | ENSG00000160072 |\n",
       "| ENSG00000260179 | <!----> | ENSG00000260179 |\n",
       "| ENSG00000234396 | <!----> | ENSG00000234396 |\n",
       "| ENSG00000225972 | MTND1P23 | ENSG00000225972 |\n",
       "\n"
      ],
      "text/plain": [
       "                Genename Geneid         \n",
       "ENSG00000186827 TNFRSF4  ENSG00000186827\n",
       "ENSG00000186891 TNFRSF18 ENSG00000186891\n",
       "ENSG00000160072 ATAD3B   ENSG00000160072\n",
       "ENSG00000260179          ENSG00000260179\n",
       "ENSG00000234396          ENSG00000234396\n",
       "ENSG00000225972 MTND1P23 ENSG00000225972"
      ]
     },
     "metadata": {},
     "output_type": "display_data"
    }
   ],
   "source": [
    "edb <-EnsDb.Hsapiens.v106\n",
    "ens<-rownames(count_matrix)\n",
    "genes_ID=mapIds(edb, keys = ens, keytype=\"GENEID\", column=\"GENENAME\")\n",
    "genes_ID=data.frame(genes_ID)\n",
    "genes_ID$Geneid<-rownames(genes_ID)\n",
    "colnames(genes_ID)<-c(\"Genename\",\"Geneid\")\n",
    "head(genes_ID)\n",
    "#all<-count_matrix$Genename"
   ]
  },
  {
   "cell_type": "code",
   "execution_count": null,
   "id": "207ebe86-6aac-468e-a81e-3e191ecf74ef",
   "metadata": {},
   "outputs": [],
   "source": [
    "head(KdVS1_F)"
   ]
  },
  {
   "cell_type": "code",
   "execution_count": 28,
   "id": "b1552b04-87e1-4d82-babd-dcb35dde404a",
   "metadata": {},
   "outputs": [],
   "source": [
    "# Perform the tests\n",
    "qlf <- glmQLFTest(fit, contrast = contrasts[, \"KdVS1_F\"])\n",
    "KdVS1_F <- topTags(qlf, n = Inf)$table\n",
    "\n",
    "qlf <- glmQLFTest(fit, contrast = contrasts[, \"KdVS1_PH\"])\n",
    "KdVS1_PH <- topTags(qlf, n = Inf)$table\n",
    "\n",
    "qlf <- glmQLFTest(fit, contrast = contrasts[, \"KdVS2_PH\"])\n",
    "KdVS2_PH <- topTags(qlf, n = Inf)$table\n",
    "\n",
    "qlf <- glmQLFTest(fit, contrast = contrasts[, \"KdVS3_PH\"])\n",
    "KdVS3_PH <- topTags(qlf, n = Inf)$table\n",
    "\n",
    "\n",
    "KdVS1_F<- KdVS1_F %>% data.frame %>%\n",
    "  mutate(KdVS1_F = ifelse(FDR < 0.05 & logFC > 0, \"Up\", \n",
    "                     ifelse(FDR < 0.05 & logFC < 0, \"Down\", \"No\")))%>%\n",
    "                      arrange(desc(logFC > 0), desc(logFC))\n",
    "KdVS1_F$gene<-rownames(KdVS1_F)\n",
    "KdVS1_F <- KdVS1_F %>%\n",
    "  mutate(Genename = genes_ID$Genename[match(gene, genes_ID$Geneid)])\n",
    "write.csv(KdVS1_F,\"KdVS1_F.csv\")\n",
    "\n",
    "KdVS1_PH<- KdVS1_PH %>% data.frame %>%\n",
    "  mutate(KdVS1_PH = ifelse(FDR < 0.05 & logFC > 0, \"Up\", \n",
    "                     ifelse(FDR < 0.05 & logFC < 0, \"Down\", \"No\")))%>%\n",
    "                      arrange(desc(logFC > 0), desc(logFC))\n",
    "KdVS1_PH$gene<-rownames(KdVS1_PH)\n",
    "KdVS1_PH <- KdVS1_PH %>%\n",
    "  mutate(Genename = genes_ID$Genename[match(gene, genes_ID$Geneid)])\n",
    "write.csv(KdVS1_PH,\"KdVS1_PH.csv\")\n",
    "\n",
    "KdVS2_PH<- KdVS2_PH %>% data.frame %>%\n",
    "  mutate(KdVS2_PH = ifelse(FDR < 0.05 & logFC > 0, \"Up\", \n",
    "                     ifelse(FDR < 0.05 & logFC < 0, \"Down\", \"No\")))%>%\n",
    "                      arrange(desc(logFC > 0), desc(logFC))\n",
    "KdVS2_PH$gene<-rownames(KdVS2_PH)\n",
    "KdVS2_PH <- KdVS2_PH %>%\n",
    "  mutate(Genename = genes_ID$Genename[match(gene, genes_ID$Geneid)])\n",
    "write.csv(KdVS2_PH,\"KdVS2_PH.csv\")\n",
    "\n",
    "KdVS3_PH<- KdVS3_PH %>% data.frame %>%\n",
    "  mutate(KdVS3_PH = ifelse(FDR < 0.05 & logFC > 0, \"Up\", \n",
    "                     ifelse(FDR < 0.05 & logFC < 0, \"Down\", \"No\")))%>%\n",
    "                      arrange(desc(logFC > 0), desc(logFC))\n",
    "KdVS3_PH$gene<-rownames(KdVS3_PH)\n",
    "KdVS3_PH <- KdVS3_PH %>%\n",
    "  mutate(Genename = genes_ID$Genename[match(gene, genes_ID$Geneid)])\n",
    "write.csv(KdVS3_PH,\"KdVS3_PH.csv\")\n"
   ]
  },
  {
   "cell_type": "code",
   "execution_count": null,
   "id": "19f65c97-a73a-4b45-81e3-a0115b7ab207",
   "metadata": {},
   "outputs": [],
   "source": [
    "KdVS1_PH[KdVS1_F$Genename ==\"CLCN4\",]"
   ]
  },
  {
   "cell_type": "code",
   "execution_count": null,
   "id": "65dcf550-a48f-4fc3-a3d4-2fe8c9bfc12a",
   "metadata": {},
   "outputs": [],
   "source": [
    "df <- df[df[[6]] != \"No.\", ]"
   ]
  },
  {
   "cell_type": "code",
   "execution_count": 29,
   "id": "a2881195-f458-456a-bb3f-b2b3f0939b47",
   "metadata": {},
   "outputs": [],
   "source": [
    "#CLCN4 is not changed by adding the drugs.Not even when NB was increased...\n",
    "#mitochondrila genes, lysosomal genes?? Maybe generla GO enrichment first? and then look deeper?\n",
    "all_comparisons<-list(KdVS1_F=KdVS1_F,KdVS1_PH=KdVS1_PH,KdVS2_PH=KdVS2_PH,KdVS3_PH=KdVS3_PH)\n",
    "all_comparisons_split<-list(KdVS1_F_up=KdVS1_F[KdVS1_F$KdVS1_F==\"Up\",],KdVS1_F_down=KdVS1_F[KdVS1_F$KdVS1_F==\"Down\",],\n",
    "                            KdVS1_PH_up=KdVS1_PH[KdVS1_PH$KdVS1_PH==\"Up\",],KdVS1_PH_down=KdVS1_PH[KdVS1_PH$KdVS1_PH==\"Down\",],\n",
    "                            KdVS2_PH_up=KdVS2_PH[KdVS2_PH$KdVS2_PH==\"Up\",],KdVS2_PH_down=KdVS2_PH[KdVS2_PH$KdVS2_PH==\"Down\",],\n",
    "                            KdVS3_PH_up=KdVS3_PH[KdVS3_PH$KdVS3_PH==\"Up\",],KdVS3_PH_down=KdVS3_PH[KdVS3_PH$KdVS3_PH==\"Down\",])\n",
    "#all_comparisons"
   ]
  },
  {
   "cell_type": "code",
   "execution_count": null,
   "id": "095751df-5a91-4e1e-8bb5-9c273ab88bc3",
   "metadata": {},
   "outputs": [],
   "source": []
  },
  {
   "cell_type": "code",
   "execution_count": null,
   "id": "3c83b27c-8e49-42bb-b1b2-269edc8f3e4e",
   "metadata": {},
   "outputs": [],
   "source": [
    "setwd('.../output/enrichment')"
   ]
  },
  {
   "cell_type": "code",
   "execution_count": null,
   "id": "d9a8a0a5-e7a8-4747-a91c-5734a6248f11",
   "metadata": {},
   "outputs": [],
   "source": [
    "GO_cat<-c(\"GO:BP\",\"GO:MF\",\"GO:CC\")\n",
    "no_red<-c(\"KEGG\",\"REAC\",\"WP\",\"TF\",\"MIRNA\",\"HPA\",\"HP\")\n",
    "categories<-c(no_red,GO_cat)"
   ]
  },
  {
   "cell_type": "code",
   "execution_count": null,
   "id": "4843c5c2-d49b-418f-b836-8dbdd3c13cb1",
   "metadata": {},
   "outputs": [],
   "source": [
    "reduced_modules_l<-list()\n",
    "#categories<-c(\"GO:MF\")\n",
    "for (module in names(all_comparisons_split)){\n",
    "        print(module)\n",
    "        marker_module= all_comparisons_split[[module]]#$gene# genes_in_sginificant_modules[genes_in_sginificant_modules$module==module,\"gene\"]\n",
    "        \n",
    "        marker_module <- marker_module[marker_module[[6]] != \"No\", \"gene\"]\n",
    "        reducedTerms_all_cat<-list()\n",
    "         for (category in categories){\n",
    "                        print(category)\n",
    "                        category_w<-gsub(\"\\\\:\", \"\", category)\n",
    "                        category_w<-gsub(\"GO\", \"\", category_w)\n",
    "                        categ<-c(paste0(category))\n",
    "                        gostres <- gost(query =marker_module , \n",
    "                        organism = \"hsapiens\", ordered_query = FALSE, \n",
    "                        multi_query = FALSE, significant = TRUE, exclude_iea = FALSE, \n",
    "                        measure_underrepresentation = FALSE, evcodes = TRUE, \n",
    "                        user_threshold = 0.05, correction_method = \"g_SCS\", \n",
    "                        domain_scope = \"annotated\", custom_bg = NULL, \n",
    "                        numeric_ns = \"\", sources = categ, as_short_link = FALSE)\n",
    "            \n",
    "            if(is.null(gostres$result)){\n",
    "                print(\"no term\")\n",
    "            }\n",
    "            else {\n",
    "                df=list()\n",
    "                p_val=c()\n",
    "                result=gostres$result\n",
    "                result=result[, c(\"term_name\",\"p_value\", \"source\",\"term_id\",\"intersection_size\",\"query_size\",\"term_size\",\"intersection\")]\n",
    "                result$neg_log_p=-log10(result$p_value)\n",
    "                result= result %>%arrange(desc(neg_log_p))\n",
    "                go_terms<-result\n",
    "                len<-length(go_terms$term_name)\n",
    "                \n",
    "               if(len==1 || category %in% no_red ){\n",
    "               \n",
    "                if(len==1){print(\"only one\")}\n",
    "                if(category %in% no_red){print(paste0(\"cat is \",category))}\n",
    "                Terms<-go_terms\n",
    "                #names<-c('go','module','parent','parentSimScore','score','size','term','parentTerm')\n",
    "                #template = as.data.frame(matrix(numeric(),nrow = 0, ncol = length(names)))\n",
    "                #colnames(template) = names\n",
    "                template <- data.frame(matrix(ncol = 1, nrow =length(Terms$term_name)))\n",
    "\n",
    "\n",
    "                template$go<-Terms$term_id\n",
    "                #template$module<-module\n",
    "                template$parent<-Terms$term_id\n",
    "                #template$parentSimScore<-1\n",
    "                template$score<-Terms$neg_log_p\n",
    "                template$size<-Terms$intersection_size\n",
    "                template$term<-Terms$term_name\n",
    "                template$parentTerm<-Terms$term_name\n",
    "                template$source<-category\n",
    "                template$module<-module\n",
    "                template$intersection<-Terms$intersection\n",
    "                b<-length(template)\n",
    "                template<-template[2:b]\n",
    "                reducedTerms<-template\n",
    "                write.csv(reducedTerms,paste0(\"go_reduced_\",module,\"_\",category_w,\".csv\"))\n",
    "     \n",
    "             \n",
    "                }else{#reduce\n",
    "                    go<-go_terms\n",
    "                    length(go$term_name)\n",
    "                    simMatrix <- calculateSimMatrix(go$term_id,\n",
    "                                            orgdb=\"org.Hs.eg.db\",\n",
    "                                            ont=c(category_w),\n",
    "                                            method=\"Rel\")\n",
    "                    name_scores<-go$term_id\n",
    "                    scores<-go$neg_log_p\n",
    "                    names(scores)<-name_scores\n",
    "\n",
    "                    reducedTerms <- reduceSimMatrix(simMatrix,\n",
    "                                            scores,\n",
    "                                            threshold=0.7,\n",
    "                                            orgdb=\"org.Hs.eg.db\")\n",
    "\n",
    "                    reducedTerms$size<-go$intersection_size[match(reducedTerms$term, go$term_name)]\n",
    "                    reducedTerms$source<-category\n",
    "                   reducedTerms$module<-module\n",
    "                   reducedTerms$intersection<-go$intersection[match(reducedTerms$term, go$term_name)]\n",
    "                   reducedTerms<-reducedTerms[,!colnames(reducedTerms) %in% c(\"cluster\",\"parentSimScore\")]\n",
    "                    write.csv(reducedTerms,paste0(\"go_reduced_\",module,\"_\",category_w,\".csv\"))\n",
    "                   }\n",
    "\n",
    "                   reducedTerms_all_cat[[category]]<-reducedTerms\n",
    "\n",
    "                   \n",
    "         }\n",
    "             \n",
    "            # reducedTerms_all_cat[[category]]<-reducedTerms\n",
    "\n",
    "\n",
    "    }\n",
    "    reducedTerms_all_cat<-do.call(rbind,reducedTerms_all_cat)\n",
    "    reduced_modules_l[[module]]<-reducedTerms_all_cat\n",
    "    \n",
    "    \n",
    " }\n",
    "reduced_modules_l<-do.call(rbind,reduced_modules_l)\n",
    "write.csv(reduced_modules_l,\"All_modules_all_categories_enrichment_include_all_modules_split.csv\")\n",
    "reduced_modules_l_rm<-reduced_modules_l %>% group_by(module, source) %>% distinct(parentTerm, .keep_all= TRUE)\n",
    "write.csv(reduced_modules_l_rm,\"GO_reduced/All_modules_all_categories_enrichment_reduced_include_all_modules_split.csv\")"
   ]
  },
  {
   "cell_type": "code",
   "execution_count": null,
   "id": "1ad34c50-4a56-4140-a8f1-25b61106490d",
   "metadata": {},
   "outputs": [],
   "source": [
    "reduced_modules_l_rm<-read.csv(\"GO_reduced/All_modules_all_categories_enrichment_reduced_include_all_modules_split.csv\")\n",
    "reduced_modules_l_rm<-reduced_modules_l_rm[-1]\n",
    "head(reduced_modules_l_rm)"
   ]
  },
  {
   "cell_type": "code",
   "execution_count": null,
   "id": "d23b931d-078a-4c5c-9325-5b3106bb9fb0",
   "metadata": {},
   "outputs": [],
   "source": [
    "#now splitting in up and down? or maybe do this for the correlations?\n",
    "#do it for chcking"
   ]
  },
  {
   "cell_type": "code",
   "execution_count": null,
   "id": "2f860145-f9dc-46c8-aa4e-32df980c560a",
   "metadata": {},
   "outputs": [],
   "source": [
    "#visualize split, how to color it?\n",
    "#shape by cell line, if up or down based on alpha or not, so fill intensity?\n",
    "func_cat<-c(\"GO:MF\",\"GO:BP\",\"GO:CC\",\"WP\",\"REAC\")#\"GO:BP\",\"HP\",\n",
    "#top5? check\n",
    "reduced_modules_l_rm$line<- sub(\"_[^_]*$\", \"\", reduced_modules_l_rm$module)\n",
    "reduced_modules_l_rm$direction<-  sub(\".*_\", \"\", reduced_modules_l_rm$module)\n",
    "reduced_modules_l_rm$alpha_val <- ifelse(reduced_modules_l_rm$direction == \"up\", 1, 0.4)\n"
   ]
  },
  {
   "cell_type": "code",
   "execution_count": null,
   "id": "ffc4a0cc-921d-47e8-8e56-b7aaa67758aa",
   "metadata": {},
   "outputs": [],
   "source": [
    "reduced_modules_l_rm_func<-reduced_modules_l_rm[reduced_modules_l_rm$source %in% func_cat,]\n",
    "reduced_modules_l_rm_func<-droplevels(reduced_modules_l_rm_func)\n",
    "reduced_modules_l_rm_func$module<-factor(reduced_modules_l_rm_func$module)\n",
    "reduced_modules_l_rm_func$term<-factor(reduced_modules_l_rm_func$term)\n",
    "#levels(reduced_modules_l_rm_func$module)\n",
    "reduced_modules_l_rm_func_red<- reduced_modules_l_rm_func %>% group_by(module, source) %>%\n",
    "  arrange(desc(score)) %>% \n",
    "   top_n(3, score) "
   ]
  },
  {
   "cell_type": "code",
   "execution_count": null,
   "id": "769a5de1-d8fe-4c23-b7bf-372092b6bdcc",
   "metadata": {},
   "outputs": [],
   "source": [
    "colnames(reduced_modules_l_rm_func_red)"
   ]
  },
  {
   "cell_type": "code",
   "execution_count": null,
   "id": "8ad01fe1-f4e9-443a-b149-62dfe12d0487",
   "metadata": {},
   "outputs": [],
   "source": [
    "reduced_modules_l_rm_func_red<-with(reduced_modules_l_rm_func_red, reduced_modules_l_rm_func_red[order( module,source, -score),])\n",
    "reduced_modules_l_rm_func_red$term<-factor(reduced_modules_l_rm_func_red$term, levels=unique(reduced_modules_l_rm_func_red$term))\n",
    "reduced_modules_l_rm_func_red<-droplevels(reduced_modules_l_rm_func_red)\n",
    "\n",
    "reduced_modules_l_rm_func_red<-reduced_modules_l_rm_func_red %>% mutate(func_cat_col_y = case_when(\n",
    "    \n",
    "                               source ==  \"GO:BP\" ~ \"#8B8682\",\n",
    "                               source ==  \"GO:MF\" ~ \"#36648B\",\n",
    "                               source ==  \"GO:CC\" ~ \"#8B2252\",\n",
    "                               source ==  \"WP\" ~ \"#8B8B00\",\n",
    "                               source ==  \"REAC\" ~ \"#698B69\",))\n",
    "func_cat_col_y<-reduced_modules_l_rm_func_red[!duplicated(reduced_modules_l_rm_func_red$term),]$func_cat_col_y"
   ]
  },
  {
   "cell_type": "code",
   "execution_count": null,
   "id": "cee25f40-2859-40e2-8d0d-fd1fa4f92ea3",
   "metadata": {},
   "outputs": [],
   "source": [
    "max_gene<-max(reduced_modules_l_rm_func_red$size)\n",
    "min_gene<-min(reduced_modules_l_rm_func_red$size)\n",
    "av_gene=ceiling((max_gene+min_gene)/2)"
   ]
  },
  {
   "cell_type": "code",
   "execution_count": null,
   "id": "e0dce536-a31c-4957-8a8c-ff3bf6beaf61",
   "metadata": {},
   "outputs": [],
   "source": [
    "max_gene"
   ]
  },
  {
   "cell_type": "code",
   "execution_count": null,
   "id": "f549aedb-1ec5-4381-8bfe-b245e1e4f7aa",
   "metadata": {},
   "outputs": [],
   "source": [
    "shape_vector <- c('C1_NT'=24,'C4_NT'=25,\n",
    "                  'KdVS1_NT'=23 , 'KdVS1_F'=22,'KdVS1_PH'=21,\n",
    "                  'KdVS2_NT'=23,'KdVS2_PH'=21,\n",
    "                  'KdVS3_NT'=23,'KdVS3_PH'=21)"
   ]
  },
  {
   "cell_type": "code",
   "execution_count": null,
   "id": "7f4270ce-88a4-4c77-b500-1042ab8575c3",
   "metadata": {},
   "outputs": [],
   "source": [
    "# Plot\n",
    "p <- ggplot(reduced_modules_l_rm_func_red,\n",
    "            aes(x = score, y = term,\n",
    "                size = size,\n",
    "                fill = line,     # base color by line\n",
    "                shape = line,    # shape by line\n",
    "                alpha = alpha_val)) +  # transparency by up/down\n",
    "  geom_point(color = \"black\", stroke = 0.5) +\n",
    "  \n",
    "  # Custom scales\n",
    "  scale_shape_manual(values = shape_vector) +\n",
    "  scale_fill_manual(values = color_vector) +\n",
    "  scale_alpha_identity() +   # use the alpha_val directly\n",
    "  scale_radius(limits = c(min_gene, max_gene),\n",
    "               breaks = c(min_gene, av_gene, max_gene),\n",
    "               range = c(5, 10)) +\n",
    "  \n",
    "  theme_minimal() +\n",
    "  theme(axis.text.y = element_text(colour = func_cat_col_y, size=14),\n",
    "        axis.text.x = element_text(size=14, color=\"black\"),\n",
    "        axis.title  = element_text(size=14),\n",
    "        text        = element_text(size=14)) +\n",
    "  ylab(\"\")\n",
    "ggsave(paste0('GO_top3.pdf'),\n",
    "                  width =11,   # inches\n",
    "                  height = 7,\n",
    "                   plot=p)# inches\n",
    "p"
   ]
  },
  {
   "cell_type": "code",
   "execution_count": null,
   "id": "5952035f-8960-4b02-a048-0cfad9c338ff",
   "metadata": {},
   "outputs": [],
   "source": [
    "head(KdVS1_F)"
   ]
  },
  {
   "cell_type": "code",
   "execution_count": 30,
   "id": "8b71edf9-2128-443d-8a04-8596fc59ffce",
   "metadata": {},
   "outputs": [],
   "source": [
    "#ven driagam of up and down genes first.use the same color bur show the name, always alpha. \n",
    "DEGs_up<-list(KdVS1_F=KdVS1_F[KdVS1_F$KdVS1_F==\"Up\",\"gene\"],\n",
    "                            KdVS1_PH=KdVS1_PH[KdVS1_PH$KdVS1_PH==\"Up\",\"gene\"],\n",
    "                            KdVS2_PH=KdVS2_PH[KdVS2_PH$KdVS2_PH==\"Up\",\"gene\"],\n",
    "                            KdVS3_PH=KdVS3_PH[KdVS3_PH$KdVS3_PH==\"Up\",\"gene\"])\n",
    "DEGs_down<-list(KdVS1_F=KdVS1_F[KdVS1_F$KdVS1_F==\"Down\",\"gene\"],\n",
    "               KdVS1_PH=KdVS1_PH[KdVS1_PH$KdVS1_PH==\"Down\",\"gene\"],\n",
    "               KdVS2_PH=KdVS2_PH[KdVS2_PH$KdVS2_PH==\"Down\",\"gene\"],\n",
    "               KdVS3_PH=KdVS3_PH[KdVS3_PH$KdVS3_PH==\"Down\",\"gene\"])"
   ]
  },
  {
   "cell_type": "code",
   "execution_count": 31,
   "id": "f952c6e8-b20d-4494-bc81-37fd42a3c30a",
   "metadata": {},
   "outputs": [
    {
     "name": "stdout",
     "output_type": "stream",
     "text": [
      "List of 4\n",
      " $ KdVS1_F : chr [1:171] \"ENSG00000225953\" \"ENSG00000152137\" \"ENSG00000189184\" \"ENSG00000134548\" ...\n",
      " $ KdVS1_PH: chr [1:45] \"ENSG00000145721\" \"ENSG00000134548\" \"ENSG00000114204\" \"ENSG00000285294\" ...\n",
      " $ KdVS2_PH: chr [1:625] \"ENSG00000159399\" \"ENSG00000141526\" \"ENSG00000113739\" \"ENSG00000214548\" ...\n",
      " $ KdVS3_PH: chr [1:18] \"ENSG00000225953\" \"ENSG00000145685\" \"ENSG00000159167\" \"ENSG00000196542\" ...\n"
     ]
    }
   ],
   "source": [
    "str(DEGs_up)"
   ]
  },
  {
   "cell_type": "code",
   "execution_count": 33,
   "id": "9149fd89-951b-46ba-b9f5-dc1629d4f76a",
   "metadata": {},
   "outputs": [],
   "source": [
    "common_up<-Reduce(intersect, DEGs_up)"
   ]
  },
  {
   "cell_type": "code",
   "execution_count": 35,
   "id": "7f20ccb4-28c8-4724-8c29-0f6c5bb99f51",
   "metadata": {},
   "outputs": [
    {
     "data": {
      "text/html": [
       "<table class=\"dataframe\">\n",
       "<caption>A data.frame: 3 × 2</caption>\n",
       "<thead>\n",
       "\t<tr><th></th><th scope=col>Genename</th><th scope=col>Geneid</th></tr>\n",
       "\t<tr><th></th><th scope=col>&lt;chr&gt;</th><th scope=col>&lt;chr&gt;</th></tr>\n",
       "</thead>\n",
       "<tbody>\n",
       "\t<tr><th scope=row>ENSG00000159167</th><td>STC1  </td><td>ENSG00000159167</td></tr>\n",
       "\t<tr><th scope=row>ENSG00000145685</th><td>LHFPL2</td><td>ENSG00000145685</td></tr>\n",
       "\t<tr><th scope=row>ENSG00000135824</th><td>RGS8  </td><td>ENSG00000135824</td></tr>\n",
       "</tbody>\n",
       "</table>\n"
      ],
      "text/latex": [
       "A data.frame: 3 × 2\n",
       "\\begin{tabular}{r|ll}\n",
       "  & Genename & Geneid\\\\\n",
       "  & <chr> & <chr>\\\\\n",
       "\\hline\n",
       "\tENSG00000159167 & STC1   & ENSG00000159167\\\\\n",
       "\tENSG00000145685 & LHFPL2 & ENSG00000145685\\\\\n",
       "\tENSG00000135824 & RGS8   & ENSG00000135824\\\\\n",
       "\\end{tabular}\n"
      ],
      "text/markdown": [
       "\n",
       "A data.frame: 3 × 2\n",
       "\n",
       "| <!--/--> | Genename &lt;chr&gt; | Geneid &lt;chr&gt; |\n",
       "|---|---|---|\n",
       "| ENSG00000159167 | STC1   | ENSG00000159167 |\n",
       "| ENSG00000145685 | LHFPL2 | ENSG00000145685 |\n",
       "| ENSG00000135824 | RGS8   | ENSG00000135824 |\n",
       "\n"
      ],
      "text/plain": [
       "                Genename Geneid         \n",
       "ENSG00000159167 STC1     ENSG00000159167\n",
       "ENSG00000145685 LHFPL2   ENSG00000145685\n",
       "ENSG00000135824 RGS8     ENSG00000135824"
      ]
     },
     "metadata": {},
     "output_type": "display_data"
    }
   ],
   "source": [
    "genes_ID[common_up,]"
   ]
  },
  {
   "cell_type": "code",
   "execution_count": null,
   "id": "6c08d0bd-6338-443c-884c-e6f403b57b5d",
   "metadata": {},
   "outputs": [],
   "source": [
    "color_vector <- c('C1_NT'='#555555','C4_NT'='#555555',\n",
    "                  'KdVS1_NT'='#9D1B1F' , 'KdVS1_F'='#6E8B3D','KdVS1_PH'='#53868B',\n",
    "                  'KdVS2_NT'='#9D1B1F','KdVS2_PH'='#53868B',\n",
    "                  'KdVS3_NT'='#9D1B1F','KdVS3_PH'='#53868B')"
   ]
  },
  {
   "cell_type": "code",
   "execution_count": null,
   "id": "11e635a7-f095-4160-a23f-b4172d6a9170",
   "metadata": {},
   "outputs": [],
   "source": [
    "color_vector <- c('C1_NT'='#555555','C4_NT'='#555555',\n",
    "                  'KdVS1_NT'='#ff6000ff' , 'KdVS1_F'='#ff6000ff','KdVS1_PH'='#ff6000ff',\n",
    "                  'KdVS2_NT'='#e0122cff','KdVS2_PH'='#e0122cff',\n",
    "                  'KdVS3_NT'='#b12e5bff','KdVS3_PH'='#b12e5bff')"
   ]
  },
  {
   "cell_type": "code",
   "execution_count": null,
   "id": "80fc701c-b067-418a-8569-07596df174ab",
   "metadata": {},
   "outputs": [],
   "source": [
    "p<-ggvenn(DEGs_up,\n",
    "       fill_color = c(\"#ff6000ff\", \"#ff6000ff\", \"#e0122cff\",\"#b12e5bff\"), \n",
    "       stroke_size = 0.5, set_name_size = 5,\n",
    "        show_percentage = TRUE   ) + ggtitle(\"Up regulated genes\") +theme(plot.title = element_text(hjust = 0.5, size = 16, face = \"bold\"))\n",
    "ggsave(\"Venn_up_tratment.pdf\", bg = \"transparent\",\n",
    "                  width = 6.5, # inches\n",
    "                  height = 5,\n",
    "                   plot=p# inches\n",
    ")\n",
    "p"
   ]
  },
  {
   "cell_type": "code",
   "execution_count": null,
   "id": "b585dbcd-995c-45f4-b555-5a469d70b178",
   "metadata": {},
   "outputs": [],
   "source": [
    "p<-ggvenn(DEGs_down,\n",
    "       fill_color = c(\"#ff6000ff\", \"#ff6000ff\", \"#e0122cff\",\"#b12e5bff\"), \n",
    "       stroke_size = 0.5, set_name_size = 5,\n",
    "        show_percentage = TRUE   ) + ggtitle(\"Down regulated genes\") +theme(plot.title = element_text(hjust = 0.5, size = 16, face = \"bold\"))\n",
    "ggsave(\"Venn_down_tratment.pdf\", bg = \"transparent\",\n",
    "                  width = 6.5, # inches\n",
    "                  height = 5,\n",
    "                   plot=p# inches\n",
    ")\n",
    "p"
   ]
  },
  {
   "cell_type": "code",
   "execution_count": null,
   "id": "4aed1ad2-3c88-408c-be63-1aff480dc31b",
   "metadata": {},
   "outputs": [],
   "source": [
    "#then same for GO terms. then, look at KdVS vs controls in this xontext. Ultimately, maybe measeq of shared GO? Yes\n",
    "GO_up<-reduced_modules_l_rm_func[reduced_modules_l_rm_func$direction==\"up\",]\n",
    "GO_up<-split(GO_up, GO_up$line)\n",
    "GO_up_v <- lapply(GO_up, function(df) df$parentTerm)\n"
   ]
  },
  {
   "cell_type": "code",
   "execution_count": null,
   "id": "6bdac9a3-5d03-4f36-b654-9fc91819000d",
   "metadata": {},
   "outputs": [],
   "source": [
    "#then same for GO terms. then, look at KdVS vs controls in this xontext. Ultimately, maybe measeq of shared GO? Yes\n",
    "GO_down<-reduced_modules_l_rm_func[reduced_modules_l_rm_func$direction==\"down\",]\n",
    "GO_down<-split(GO_down, GO_down$line)\n",
    "GO_down_v <- lapply(GO_down, function(df) df$parentTerm)"
   ]
  },
  {
   "cell_type": "code",
   "execution_count": null,
   "id": "91f3576e-5248-4e79-a3e4-e50bddfa8349",
   "metadata": {},
   "outputs": [],
   "source": [
    "p<-ggvenn(GO_up_v,\n",
    "       fill_color = c(\"#6E8B3D\", \"#53868B\", \"#53868B\",\"#53868B\"), \n",
    "       stroke_size = 0.5, set_name_size = 5,\n",
    "        show_percentage = TRUE   ) + ggtitle(\"Up regulated terms\") +theme(plot.title = element_text(hjust = 0.5, size = 16, face = \"bold\"))\n",
    "ggsave(\"Venn_up_GO.pdf\", bg = \"transparent\",\n",
    "                  width = 6.5, # inches\n",
    "                  height = 5,\n",
    "                   plot=p# inches\n",
    ")\n",
    "p"
   ]
  },
  {
   "cell_type": "code",
   "execution_count": null,
   "id": "ebbc4683-8845-4b40-affd-1ea9d4feafca",
   "metadata": {},
   "outputs": [],
   "source": [
    "# Assuming GO_up_v is a named list of vectors\n",
    "Reduce(intersect, GO_up_v)"
   ]
  },
  {
   "cell_type": "code",
   "execution_count": null,
   "id": "34e6b778-d356-4fd9-9e41-fc5e0a1e7e5b",
   "metadata": {},
   "outputs": [],
   "source": [
    "p<-ggvenn(GO_down_v,\n",
    "       fill_color = c(\"#53868B\", \"#53868B\", \"#53868B\",\"#53868B\"), \n",
    "       stroke_size = 0.5, set_name_size = 5,\n",
    "        show_percentage = TRUE   ) + ggtitle(\"Down regulated terms\") +theme(plot.title = element_text(hjust = 0.5, size = 16, face = \"bold\"))\n",
    "ggsave(\"Venn_down_GO.pdf\", bg = \"transparent\",\n",
    "                  width = 6.5, # inches\n",
    "                  height = 5,\n",
    "                   plot=p# inches\n",
    ")\n",
    "p"
   ]
  },
  {
   "cell_type": "code",
   "execution_count": null,
   "id": "637b93af-c5bb-483c-856b-24e21e541f02",
   "metadata": {},
   "outputs": [],
   "source": [
    "#MEa seq for gene is neuron projection? show shape by KdVS or control?"
   ]
  }
 ],
 "metadata": {
  "kernelspec": {
   "display_name": "R 4.2.1 (native)",
   "language": "R",
   "name": "ir421_native"
  },
  "language_info": {
   "codemirror_mode": "r",
   "file_extension": ".r",
   "mimetype": "text/x-r-source",
   "name": "R",
   "pygments_lexer": "r",
   "version": "4.2.1"
  }
 },
 "nbformat": 4,
 "nbformat_minor": 5
}
